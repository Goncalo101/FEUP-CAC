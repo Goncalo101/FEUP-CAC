{
 "cells": [
  {
   "cell_type": "markdown",
   "id": "d07f18f6",
   "metadata": {},
   "source": [
    "# Introduction\n",
    "## The Problem\n",
    "A bank wants to improve its services. However, its managers only have a vague idea of who is or isn't a good client, which makes it hard to know who should be offered additional services that can bring profit to the bank, while improving the client's relationship with it.\n",
    "Fortunately, the bank gathers information about their clients and their accounts, loans already granted and credit cards issued but how can the bank know which clients should be offered additional services from this data?\n",
    "\n",
    "\n",
    "## The Goal\n",
    "The goal of this project is to develop a Data Mining model that can help the bank managers achieve their goal of predicting who is a good and profitable client and who is not, which will aid them in the process of choosing whose client to build a close relationship with, that is, the client to whom they should offer additional services. This problem will be divided in two tasks, a descriptive and a predictive one. The former is self-explanatory while the latter consists in the prediction of whether a loan will end successfully or not.\n",
    "\n",
    "In Data Mining terms, the problem at hand can be seen as a Binary Classification problem given that the purpose of the model is to predict whether a set of features falls in the class \"loan ends successfully\" or it's opposite. Like all Data Mining problems, the dataset must first be analyzed and interpreted (and eventually modified) in order to build the predictive model."
   ]
  }
 ],
 "metadata": {
  "kernelspec": {
   "display_name": "Python 3 (ipykernel)",
   "language": "python",
   "name": "python3"
  },
  "language_info": {
   "codemirror_mode": {
    "name": "ipython",
    "version": 3
   },
   "file_extension": ".py",
   "mimetype": "text/x-python",
   "name": "python",
   "nbconvert_exporter": "python",
   "pygments_lexer": "ipython3",
   "version": "3.9.7"
  }
 },
 "nbformat": 4,
 "nbformat_minor": 5
}
