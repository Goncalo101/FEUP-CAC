{
 "cells": [
  {
   "cell_type": "markdown",
   "metadata": {},
   "source": [
    "# Descriptive Task\n",
    "The goal of the descriptive task is to identify customer segments. To do this we are going to perform clustering with the dataset.\n",
    "We also used KMeans, DBSCAN and KMedoids with very similar results.\n",
    "\n",
    "First, we need to import the train and test datasets generated in the Data Preparation stage (both versions before aggregating and scaling) and then append them."
   ]
  },
  {
   "cell_type": "code",
   "execution_count": 1,
   "metadata": {},
   "outputs": [],
   "source": [
    "import pandas as pd\n",
    "\n",
    "_train_unagg_df = pd.read_csv('./train_unagg.csv')\n",
    "_test_unagg_df = pd.read_csv('./test_unagg.csv')\n",
    "unagg_df = _train_unagg_df.append(_test_unagg_df)\n",
    "\n",
    "_train_unsca_df = pd.read_csv('./train_unsca.csv')\n",
    "_test_unsca_df = pd.read_csv('./test_unsca.csv')\n",
    "unsca_df = _train_unsca_df.append(_test_unsca_df)"
   ]
  },
  {
   "cell_type": "markdown",
   "metadata": {},
   "source": [
    "## Loan Type Segmentation\n",
    "In this section we will focus on clustering the data in the dataset by characteristics of the loans that were taken. Specifically, we will look at the ``balance``, ``loan_amount``, ``duration`` and ``payments`` columns.\n",
    "The result shows a relation between the client’s balance, loan amount and its duration and number of payments, meaning that a bigger balance is linked to a bigger amount and duration."
   ]
  },
  {
   "cell_type": "code",
   "execution_count": 2,
   "metadata": {},
   "outputs": [],
   "source": [
    "_loan_df = unagg_df[['balance', 'loan_amount', 'duration','payments']]"
   ]
  },
  {
   "cell_type": "markdown",
   "metadata": {},
   "source": [
    "### Using KMeans"
   ]
  },
  {
   "cell_type": "code",
   "execution_count": 3,
   "metadata": {},
   "outputs": [
    {
     "data": {
      "text/html": [
       "<div>\n",
       "<style scoped>\n",
       "    .dataframe tbody tr th:only-of-type {\n",
       "        vertical-align: middle;\n",
       "    }\n",
       "\n",
       "    .dataframe tbody tr th {\n",
       "        vertical-align: top;\n",
       "    }\n",
       "\n",
       "    .dataframe thead th {\n",
       "        text-align: right;\n",
       "    }\n",
       "</style>\n",
       "<table border=\"1\" class=\"dataframe\">\n",
       "  <thead>\n",
       "    <tr style=\"text-align: right;\">\n",
       "      <th></th>\n",
       "      <th>balance</th>\n",
       "      <th>loan_amount</th>\n",
       "      <th>duration</th>\n",
       "      <th>payments</th>\n",
       "    </tr>\n",
       "    <tr>\n",
       "      <th>cluster</th>\n",
       "      <th></th>\n",
       "      <th></th>\n",
       "      <th></th>\n",
       "      <th></th>\n",
       "    </tr>\n",
       "  </thead>\n",
       "  <tbody>\n",
       "    <tr>\n",
       "      <th>0</th>\n",
       "      <td>42970.494761</td>\n",
       "      <td>67463.264272</td>\n",
       "      <td>27.404936</td>\n",
       "      <td>3103.66526</td>\n",
       "    </tr>\n",
       "    <tr>\n",
       "      <th>1</th>\n",
       "      <td>47085.756740</td>\n",
       "      <td>370291.837250</td>\n",
       "      <td>54.926045</td>\n",
       "      <td>6814.78135</td>\n",
       "    </tr>\n",
       "    <tr>\n",
       "      <th>2</th>\n",
       "      <td>46002.569553</td>\n",
       "      <td>196916.037834</td>\n",
       "      <td>43.592874</td>\n",
       "      <td>4857.11890</td>\n",
       "    </tr>\n",
       "  </tbody>\n",
       "</table>\n",
       "</div>"
      ],
      "text/plain": [
       "              balance    loan_amount   duration    payments\n",
       "cluster                                                    \n",
       "0        42970.494761   67463.264272  27.404936  3103.66526\n",
       "1        47085.756740  370291.837250  54.926045  6814.78135\n",
       "2        46002.569553  196916.037834  43.592874  4857.11890"
      ]
     },
     "execution_count": 3,
     "metadata": {},
     "output_type": "execute_result"
    }
   ],
   "source": [
    "from sklearn.cluster import KMeans\n",
    "\n",
    "loan_df = _loan_df.copy()\n",
    "clusters = KMeans(n_clusters=3, random_state=42)\n",
    "clusters.fit(loan_df)\n",
    "\n",
    "loan_df['cluster'] = clusters.labels_\n",
    "loan_df = loan_df.groupby('cluster').agg('mean')\n",
    "loan_df.head()"
   ]
  },
  {
   "cell_type": "markdown",
   "metadata": {},
   "source": [
    "### Using KMedoids\n"
   ]
  },
  {
   "cell_type": "code",
   "execution_count": 4,
   "metadata": {},
   "outputs": [],
   "source": [
    "# Can't allocate enough space MemoryError???\n",
    "# from sklearn_extra.cluster import KMedoids\n",
    "\n",
    "# loan_df = _loan_df.copy()\n",
    "# clusters = KMedoids(n_clusters=3, random_state=42)\n",
    "# clusters.fit(loan_df)\n",
    "\n",
    "# loan_df['cluster'] = clusters.labels_\n",
    "# loan_df = loan_df.groupby('cluster').agg('mean')\n",
    "# loan_df.head()"
   ]
  },
  {
   "cell_type": "markdown",
   "metadata": {},
   "source": [
    "### Using DBSCAN"
   ]
  },
  {
   "cell_type": "code",
   "execution_count": 5,
   "metadata": {},
   "outputs": [
    {
     "data": {
      "text/html": [
       "<div>\n",
       "<style scoped>\n",
       "    .dataframe tbody tr th:only-of-type {\n",
       "        vertical-align: middle;\n",
       "    }\n",
       "\n",
       "    .dataframe tbody tr th {\n",
       "        vertical-align: top;\n",
       "    }\n",
       "\n",
       "    .dataframe thead th {\n",
       "        text-align: right;\n",
       "    }\n",
       "</style>\n",
       "<table border=\"1\" class=\"dataframe\">\n",
       "  <thead>\n",
       "    <tr style=\"text-align: right;\">\n",
       "      <th></th>\n",
       "      <th>balance</th>\n",
       "      <th>loan_amount</th>\n",
       "      <th>duration</th>\n",
       "      <th>payments</th>\n",
       "    </tr>\n",
       "    <tr>\n",
       "      <th>cluster</th>\n",
       "      <th></th>\n",
       "      <th></th>\n",
       "      <th></th>\n",
       "      <th></th>\n",
       "    </tr>\n",
       "  </thead>\n",
       "  <tbody>\n",
       "    <tr>\n",
       "      <th>-1</th>\n",
       "      <td>45459.076389</td>\n",
       "      <td>154296.455538</td>\n",
       "      <td>36.51048</td>\n",
       "      <td>4250.054209</td>\n",
       "    </tr>\n",
       "    <tr>\n",
       "      <th>0</th>\n",
       "      <td>31808.540000</td>\n",
       "      <td>80952.000000</td>\n",
       "      <td>24.00000</td>\n",
       "      <td>3373.000000</td>\n",
       "    </tr>\n",
       "    <tr>\n",
       "      <th>1</th>\n",
       "      <td>27810.925000</td>\n",
       "      <td>80952.000000</td>\n",
       "      <td>24.00000</td>\n",
       "      <td>3373.000000</td>\n",
       "    </tr>\n",
       "    <tr>\n",
       "      <th>2</th>\n",
       "      <td>25151.677778</td>\n",
       "      <td>87216.000000</td>\n",
       "      <td>48.00000</td>\n",
       "      <td>1817.000000</td>\n",
       "    </tr>\n",
       "    <tr>\n",
       "      <th>3</th>\n",
       "      <td>33466.133333</td>\n",
       "      <td>87216.000000</td>\n",
       "      <td>48.00000</td>\n",
       "      <td>1817.000000</td>\n",
       "    </tr>\n",
       "  </tbody>\n",
       "</table>\n",
       "</div>"
      ],
      "text/plain": [
       "              balance    loan_amount  duration     payments\n",
       "cluster                                                    \n",
       "-1       45459.076389  154296.455538  36.51048  4250.054209\n",
       " 0       31808.540000   80952.000000  24.00000  3373.000000\n",
       " 1       27810.925000   80952.000000  24.00000  3373.000000\n",
       " 2       25151.677778   87216.000000  48.00000  1817.000000\n",
       " 3       33466.133333   87216.000000  48.00000  1817.000000"
      ]
     },
     "execution_count": 5,
     "metadata": {},
     "output_type": "execute_result"
    }
   ],
   "source": [
    "from sklearn.cluster import DBSCAN\n",
    "\n",
    "loan_df = _loan_df.copy()\n",
    "clusters = DBSCAN(eps=100)\n",
    "clusters.fit(loan_df)\n",
    "\n",
    "loan_df['cluster'] = clusters.labels_\n",
    "loan_df = loan_df.groupby('cluster').agg('mean')\n",
    "loan_df.head()"
   ]
  },
  {
   "cell_type": "markdown",
   "metadata": {},
   "source": [
    "## Economic Power Segmentation\n",
    "In this section we will focus on clustering the data in the dataset by characteristics of the loans that were taken. Specifically, we will look at the ``balance_mean``, ``balance_min``, ``balance_max``, ``balance_std``, ``balance_bal_range`` and ``bal_per_month`` columns.\n",
    "We can conclude that the group of people with a bigger balance spend more than those who have less, having a lower balance minimum and wider balance range."
   ]
  },
  {
   "cell_type": "code",
   "execution_count": 6,
   "metadata": {},
   "outputs": [],
   "source": [
    "_econ_df = unsca_df[['balance_mean', 'balance_min', 'balance_max', 'balance_std', 'balance_bal_range', 'bal_per_month']]"
   ]
  },
  {
   "cell_type": "markdown",
   "metadata": {},
   "source": [
    "### Using KMeans"
   ]
  },
  {
   "cell_type": "code",
   "execution_count": 7,
   "metadata": {},
   "outputs": [
    {
     "data": {
      "text/html": [
       "<div>\n",
       "<style scoped>\n",
       "    .dataframe tbody tr th:only-of-type {\n",
       "        vertical-align: middle;\n",
       "    }\n",
       "\n",
       "    .dataframe tbody tr th {\n",
       "        vertical-align: top;\n",
       "    }\n",
       "\n",
       "    .dataframe thead th {\n",
       "        text-align: right;\n",
       "    }\n",
       "</style>\n",
       "<table border=\"1\" class=\"dataframe\">\n",
       "  <thead>\n",
       "    <tr style=\"text-align: right;\">\n",
       "      <th></th>\n",
       "      <th>balance_mean</th>\n",
       "      <th>balance_min</th>\n",
       "      <th>balance_max</th>\n",
       "      <th>balance_std</th>\n",
       "      <th>balance_bal_range</th>\n",
       "      <th>bal_per_month</th>\n",
       "    </tr>\n",
       "    <tr>\n",
       "      <th>cluster</th>\n",
       "      <th></th>\n",
       "      <th></th>\n",
       "      <th></th>\n",
       "      <th></th>\n",
       "      <th></th>\n",
       "      <th></th>\n",
       "    </tr>\n",
       "  </thead>\n",
       "  <tbody>\n",
       "    <tr>\n",
       "      <th>0</th>\n",
       "      <td>54737.717097</td>\n",
       "      <td>555.180070</td>\n",
       "      <td>123958.541608</td>\n",
       "      <td>25508.184108</td>\n",
       "      <td>123403.361538</td>\n",
       "      <td>10675.428700</td>\n",
       "    </tr>\n",
       "    <tr>\n",
       "      <th>1</th>\n",
       "      <td>42165.398607</td>\n",
       "      <td>714.550259</td>\n",
       "      <td>79007.036788</td>\n",
       "      <td>16573.209927</td>\n",
       "      <td>78292.486528</td>\n",
       "      <td>7782.239479</td>\n",
       "    </tr>\n",
       "    <tr>\n",
       "      <th>2</th>\n",
       "      <td>29295.179272</td>\n",
       "      <td>742.885714</td>\n",
       "      <td>49303.312315</td>\n",
       "      <td>9972.741015</td>\n",
       "      <td>48560.426601</td>\n",
       "      <td>5170.127952</td>\n",
       "    </tr>\n",
       "  </tbody>\n",
       "</table>\n",
       "</div>"
      ],
      "text/plain": [
       "         balance_mean  balance_min    balance_max   balance_std  \\\n",
       "cluster                                                           \n",
       "0        54737.717097   555.180070  123958.541608  25508.184108   \n",
       "1        42165.398607   714.550259   79007.036788  16573.209927   \n",
       "2        29295.179272   742.885714   49303.312315   9972.741015   \n",
       "\n",
       "         balance_bal_range  bal_per_month  \n",
       "cluster                                    \n",
       "0            123403.361538   10675.428700  \n",
       "1             78292.486528    7782.239479  \n",
       "2             48560.426601    5170.127952  "
      ]
     },
     "execution_count": 7,
     "metadata": {},
     "output_type": "execute_result"
    }
   ],
   "source": [
    "from sklearn.cluster import KMeans\n",
    "\n",
    "econ_df = _econ_df.copy()\n",
    "clusters = KMeans(n_clusters=3, random_state=42)\n",
    "clusters.fit(econ_df)\n",
    "\n",
    "econ_df['cluster'] = clusters.labels_\n",
    "econ_df = econ_df.groupby('cluster').agg('mean')\n",
    "econ_df.head()"
   ]
  },
  {
   "cell_type": "markdown",
   "metadata": {},
   "source": [
    "### Using KMedoids"
   ]
  },
  {
   "cell_type": "code",
   "execution_count": 8,
   "metadata": {},
   "outputs": [
    {
     "data": {
      "text/html": [
       "<div>\n",
       "<style scoped>\n",
       "    .dataframe tbody tr th:only-of-type {\n",
       "        vertical-align: middle;\n",
       "    }\n",
       "\n",
       "    .dataframe tbody tr th {\n",
       "        vertical-align: top;\n",
       "    }\n",
       "\n",
       "    .dataframe thead th {\n",
       "        text-align: right;\n",
       "    }\n",
       "</style>\n",
       "<table border=\"1\" class=\"dataframe\">\n",
       "  <thead>\n",
       "    <tr style=\"text-align: right;\">\n",
       "      <th></th>\n",
       "      <th>balance_mean</th>\n",
       "      <th>balance_min</th>\n",
       "      <th>balance_max</th>\n",
       "      <th>balance_std</th>\n",
       "      <th>balance_bal_range</th>\n",
       "      <th>bal_per_month</th>\n",
       "    </tr>\n",
       "    <tr>\n",
       "      <th>cluster</th>\n",
       "      <th></th>\n",
       "      <th></th>\n",
       "      <th></th>\n",
       "      <th></th>\n",
       "      <th></th>\n",
       "      <th></th>\n",
       "    </tr>\n",
       "  </thead>\n",
       "  <tbody>\n",
       "    <tr>\n",
       "      <th>0</th>\n",
       "      <td>54821.293726</td>\n",
       "      <td>557.078397</td>\n",
       "      <td>123865.781882</td>\n",
       "      <td>25476.355219</td>\n",
       "      <td>123308.703484</td>\n",
       "      <td>10657.466433</td>\n",
       "    </tr>\n",
       "    <tr>\n",
       "      <th>1</th>\n",
       "      <td>42226.701854</td>\n",
       "      <td>717.979348</td>\n",
       "      <td>79532.282609</td>\n",
       "      <td>16720.947560</td>\n",
       "      <td>78814.303261</td>\n",
       "      <td>7832.978601</td>\n",
       "    </tr>\n",
       "    <tr>\n",
       "      <th>2</th>\n",
       "      <td>29556.426410</td>\n",
       "      <td>736.994313</td>\n",
       "      <td>49884.616114</td>\n",
       "      <td>10095.110416</td>\n",
       "      <td>49147.621801</td>\n",
       "      <td>5235.639208</td>\n",
       "    </tr>\n",
       "  </tbody>\n",
       "</table>\n",
       "</div>"
      ],
      "text/plain": [
       "         balance_mean  balance_min    balance_max   balance_std  \\\n",
       "cluster                                                           \n",
       "0        54821.293726   557.078397  123865.781882  25476.355219   \n",
       "1        42226.701854   717.979348   79532.282609  16720.947560   \n",
       "2        29556.426410   736.994313   49884.616114  10095.110416   \n",
       "\n",
       "         balance_bal_range  bal_per_month  \n",
       "cluster                                    \n",
       "0            123308.703484   10657.466433  \n",
       "1             78814.303261    7832.978601  \n",
       "2             49147.621801    5235.639208  "
      ]
     },
     "execution_count": 8,
     "metadata": {},
     "output_type": "execute_result"
    }
   ],
   "source": [
    "from sklearn_extra.cluster import KMedoids\n",
    "\n",
    "econ_df = _econ_df.copy()\n",
    "clusters = KMedoids(n_clusters=3, random_state=42)\n",
    "clusters.fit(econ_df)\n",
    "\n",
    "econ_df['cluster'] = clusters.labels_\n",
    "econ_df = econ_df.groupby('cluster').agg('mean')\n",
    "econ_df.head()"
   ]
  },
  {
   "cell_type": "markdown",
   "metadata": {},
   "source": [
    "### Using DBSCAN"
   ]
  },
  {
   "cell_type": "code",
   "execution_count": 9,
   "metadata": {},
   "outputs": [
    {
     "data": {
      "text/html": [
       "<div>\n",
       "<style scoped>\n",
       "    .dataframe tbody tr th:only-of-type {\n",
       "        vertical-align: middle;\n",
       "    }\n",
       "\n",
       "    .dataframe tbody tr th {\n",
       "        vertical-align: top;\n",
       "    }\n",
       "\n",
       "    .dataframe thead th {\n",
       "        text-align: right;\n",
       "    }\n",
       "</style>\n",
       "<table border=\"1\" class=\"dataframe\">\n",
       "  <thead>\n",
       "    <tr style=\"text-align: right;\">\n",
       "      <th></th>\n",
       "      <th>balance_mean</th>\n",
       "      <th>balance_min</th>\n",
       "      <th>balance_max</th>\n",
       "      <th>balance_std</th>\n",
       "      <th>balance_bal_range</th>\n",
       "      <th>bal_per_month</th>\n",
       "    </tr>\n",
       "    <tr>\n",
       "      <th>cluster</th>\n",
       "      <th></th>\n",
       "      <th></th>\n",
       "      <th></th>\n",
       "      <th></th>\n",
       "      <th></th>\n",
       "      <th></th>\n",
       "    </tr>\n",
       "  </thead>\n",
       "  <tbody>\n",
       "    <tr>\n",
       "      <th>0</th>\n",
       "      <td>43606.789462</td>\n",
       "      <td>656.15176</td>\n",
       "      <td>89016.236657</td>\n",
       "      <td>18355.478881</td>\n",
       "      <td>88360.084897</td>\n",
       "      <td>8218.007041</td>\n",
       "    </tr>\n",
       "  </tbody>\n",
       "</table>\n",
       "</div>"
      ],
      "text/plain": [
       "         balance_mean  balance_min   balance_max   balance_std  \\\n",
       "cluster                                                          \n",
       "0        43606.789462    656.15176  89016.236657  18355.478881   \n",
       "\n",
       "         balance_bal_range  bal_per_month  \n",
       "cluster                                    \n",
       "0             88360.084897    8218.007041  "
      ]
     },
     "execution_count": 9,
     "metadata": {},
     "output_type": "execute_result"
    }
   ],
   "source": [
    "from sklearn.cluster import DBSCAN\n",
    "\n",
    "econ_df = _econ_df.copy()\n",
    "clusters = DBSCAN(eps=1000000)\n",
    "clusters.fit(econ_df)\n",
    "\n",
    "econ_df['cluster'] = clusters.labels_\n",
    "econ_df = econ_df.groupby('cluster').agg('mean')\n",
    "econ_df.head()"
   ]
  },
  {
   "cell_type": "markdown",
   "metadata": {},
   "source": [
    "## Operation Type Segmentation\n",
    "The purpose of this clustering was to segment the groups according to their most frequent operation types.\n",
    "We can conclude that the higher the number of credit card withdrawal operations, the higher the amount of the loan. The same can be said for the number of collection operations. Meanwhile, the high number of interest credits and credit in cash operations seems to correlate to a lower amount borrowed.\n"
   ]
  },
  {
   "cell_type": "code",
   "execution_count": 10,
   "metadata": {},
   "outputs": [
    {
     "name": "stderr",
     "output_type": "stream",
     "text": [
      "C:\\Users\\gonca\\AppData\\Local\\Temp/ipykernel_17312/3363345163.py:8: SettingWithCopyWarning: \n",
      "A value is trying to be set on a copy of a slice from a DataFrame.\n",
      "Try using .loc[row_indexer,col_indexer] = value instead\n",
      "\n",
      "See the caveats in the documentation: https://pandas.pydata.org/pandas-docs/stable/user_guide/indexing.html#returning-a-view-versus-a-copy\n",
      "  _op_type_df['operation'] = le.fit_transform(_op_type_df['operation'])\n"
     ]
    }
   ],
   "source": [
    "_op_type_df = unagg_df[['operation', 'loan_amount']]\n",
    "\n",
    "\n",
    "from sklearn.preprocessing import LabelEncoder\n",
    "from agg import *\n",
    "\n",
    "le = LabelEncoder()\n",
    "_op_type_df['operation'] = le.fit_transform(_op_type_df['operation'])"
   ]
  },
  {
   "cell_type": "markdown",
   "metadata": {},
   "source": [
    "### Using KMeans"
   ]
  },
  {
   "cell_type": "code",
   "execution_count": 11,
   "metadata": {},
   "outputs": [
    {
     "data": {
      "text/html": [
       "<div>\n",
       "<style scoped>\n",
       "    .dataframe tbody tr th:only-of-type {\n",
       "        vertical-align: middle;\n",
       "    }\n",
       "\n",
       "    .dataframe tbody tr th {\n",
       "        vertical-align: top;\n",
       "    }\n",
       "\n",
       "    .dataframe thead tr th {\n",
       "        text-align: left;\n",
       "    }\n",
       "\n",
       "    .dataframe thead tr:last-of-type th {\n",
       "        text-align: right;\n",
       "    }\n",
       "</style>\n",
       "<table border=\"1\" class=\"dataframe\">\n",
       "  <thead>\n",
       "    <tr>\n",
       "      <th></th>\n",
       "      <th colspan=\"6\" halign=\"left\">operation</th>\n",
       "      <th>loan_amount</th>\n",
       "    </tr>\n",
       "    <tr>\n",
       "      <th></th>\n",
       "      <th>ccount_collection_op</th>\n",
       "      <th>ccount_remittance_op</th>\n",
       "      <th>ccount_ccw_op</th>\n",
       "      <th>ccount_interest_op</th>\n",
       "      <th>ccount_credit_op</th>\n",
       "      <th>ccount_withdrawal_op</th>\n",
       "      <th>mean</th>\n",
       "    </tr>\n",
       "    <tr>\n",
       "      <th>cluster</th>\n",
       "      <th></th>\n",
       "      <th></th>\n",
       "      <th></th>\n",
       "      <th></th>\n",
       "      <th></th>\n",
       "      <th></th>\n",
       "      <th></th>\n",
       "    </tr>\n",
       "  </thead>\n",
       "  <tbody>\n",
       "    <tr>\n",
       "      <th>0</th>\n",
       "      <td>1183</td>\n",
       "      <td>4335</td>\n",
       "      <td>53</td>\n",
       "      <td>5103</td>\n",
       "      <td>5401</td>\n",
       "      <td>13302</td>\n",
       "      <td>67467.553392</td>\n",
       "    </tr>\n",
       "    <tr>\n",
       "      <th>1</th>\n",
       "      <td>370</td>\n",
       "      <td>912</td>\n",
       "      <td>11</td>\n",
       "      <td>1364</td>\n",
       "      <td>1534</td>\n",
       "      <td>3895</td>\n",
       "      <td>370291.837250</td>\n",
       "    </tr>\n",
       "    <tr>\n",
       "      <th>2</th>\n",
       "      <td>1034</td>\n",
       "      <td>2161</td>\n",
       "      <td>13</td>\n",
       "      <td>2994</td>\n",
       "      <td>2875</td>\n",
       "      <td>8154</td>\n",
       "      <td>196923.750914</td>\n",
       "    </tr>\n",
       "  </tbody>\n",
       "</table>\n",
       "</div>"
      ],
      "text/plain": [
       "                   operation                                     \\\n",
       "        ccount_collection_op ccount_remittance_op ccount_ccw_op   \n",
       "cluster                                                           \n",
       "0                       1183                 4335            53   \n",
       "1                        370                  912            11   \n",
       "2                       1034                 2161            13   \n",
       "\n",
       "                                                                  \\\n",
       "        ccount_interest_op ccount_credit_op ccount_withdrawal_op   \n",
       "cluster                                                            \n",
       "0                     5103             5401                13302   \n",
       "1                     1364             1534                 3895   \n",
       "2                     2994             2875                 8154   \n",
       "\n",
       "           loan_amount  \n",
       "                  mean  \n",
       "cluster                 \n",
       "0         67467.553392  \n",
       "1        370291.837250  \n",
       "2        196923.750914  "
      ]
     },
     "execution_count": 11,
     "metadata": {},
     "output_type": "execute_result"
    }
   ],
   "source": [
    "from sklearn.cluster import KMeans\n",
    "\n",
    "op_type_df = _op_type_df.copy()\n",
    "clusters = KMeans(n_clusters=3, random_state=42)\n",
    "clusters.fit(op_type_df)\n",
    "\n",
    "op_type_df['cluster'] = clusters.labels_\n",
    "op_type_df = op_type_df.groupby('cluster').agg({\n",
    "    'operation': [ccount_collection_op, ccount_remittance_op, ccount_ccw_op, ccount_interest_op, ccount_credit_op, ccount_withdrawal_op],\n",
    "    'loan_amount': 'mean'\n",
    "})\n",
    "op_type_df.head()"
   ]
  },
  {
   "cell_type": "markdown",
   "metadata": {},
   "source": [
    "### Using KMedoids"
   ]
  },
  {
   "cell_type": "code",
   "execution_count": 12,
   "metadata": {},
   "outputs": [],
   "source": [
    "from sklearn_extra.cluster import KMedoids\n",
    "\n",
    "op_type_df = _op_type_df.copy()\n",
    "clusters = KMedoids(n_clusters=3, random_state=42)\n",
    "clusters.fit(op_type_df)\n",
    "\n",
    "op_type_df['cluster'] = clusters.labels_\n",
    "op_type_df = op_type_df.groupby('cluster').agg({\n",
    "    'operation': [ccount_collection_op, ccount_remittance_op, ccount_ccw_op, ccount_interest_op, ccount_credit_op, ccount_withdrawal_op],\n",
    "    'loan_amount': 'mean'\n",
    "})\n",
    "op_type_df.head()"
   ]
  },
  {
   "cell_type": "markdown",
   "metadata": {},
   "source": [
    "### Using DBSCAN"
   ]
  },
  {
   "cell_type": "code",
   "execution_count": null,
   "metadata": {},
   "outputs": [],
   "source": [
    "from sklearn.cluster import DBSCAN\n",
    "\n",
    "op_type_df = _op_type_df.copy()\n",
    "clusters = DBSCAN(eps=1000)\n",
    "clusters.fit(op_type_df)\n",
    "\n",
    "op_type_df['cluster'] = clusters.labels_\n",
    "op_type_df = op_type_df.groupby('cluster').agg({\n",
    "    'operation': [ccount_collection_op, ccount_remittance_op, ccount_ccw_op, ccount_interest_op, ccount_credit_op, ccount_withdrawal_op],\n",
    "    'loan_amount': 'mean'\n",
    "})\n",
    "op_type_df.head()"
   ]
  }
 ],
 "metadata": {
  "interpreter": {
   "hash": "f345244096139f77bad5fb530e51cfcf3c24c5e0e7513cc496e3bc78d413e6ec"
  },
  "kernelspec": {
   "display_name": "Python 3.9.5 64-bit ('venv': venv)",
   "language": "python",
   "name": "python3"
  },
  "language_info": {
   "codemirror_mode": {
    "name": "ipython",
    "version": 3
   },
   "file_extension": ".py",
   "mimetype": "text/x-python",
   "name": "python",
   "nbconvert_exporter": "python",
   "pygments_lexer": "ipython3",
   "version": "3.9.5"
  },
  "orig_nbformat": 4
 },
 "nbformat": 4,
 "nbformat_minor": 2
}
