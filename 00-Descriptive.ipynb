{
 "cells": [
  {
   "cell_type": "code",
   "execution_count": 10,
   "metadata": {},
   "outputs": [],
   "source": [
    "import pandas as pd\n",
    "_train_df = pd.read_csv('./train_unagg.csv')\n",
    "_test_df = pd.read_csv('./test_unagg.csv')\n",
    "df = _train_df.append(_test_df)\n",
    "df = df[['operation', 'account_id', 'trans_amount', 'balance', 'loan_amount', 'payments']]\n",
    "\n",
    "df['operation'].to_csv('asdasd.csv')"
   ]
  },
  {
   "cell_type": "code",
   "execution_count": 11,
   "metadata": {},
   "outputs": [],
   "source": [
    "from sklearn.preprocessing import LabelEncoder\n",
    "\n",
    "le = LabelEncoder()\n",
    "df['operation'] = le.fit_transform(df['operation'])"
   ]
  },
  {
   "cell_type": "code",
   "execution_count": 12,
   "metadata": {},
   "outputs": [
    {
     "data": {
      "text/plain": [
       "(54694,)"
      ]
     },
     "execution_count": 12,
     "metadata": {},
     "output_type": "execute_result"
    }
   ],
   "source": [
    "from sklearn.cluster import KMeans, MiniBatchKMeans\n",
    "from sklearn_extra.cluster import KMedoids \n",
    "\n",
    "kmeans = KMeans(n_clusters=4, random_state=42)\n",
    "kmeans.fit(df)\n",
    "kmeans.labels_.shape"
   ]
  },
  {
   "cell_type": "code",
   "execution_count": 13,
   "metadata": {},
   "outputs": [
    {
     "data": {
      "text/html": [
       "<div>\n",
       "<style scoped>\n",
       "    .dataframe tbody tr th:only-of-type {\n",
       "        vertical-align: middle;\n",
       "    }\n",
       "\n",
       "    .dataframe tbody tr th {\n",
       "        vertical-align: top;\n",
       "    }\n",
       "\n",
       "    .dataframe thead tr th {\n",
       "        text-align: left;\n",
       "    }\n",
       "\n",
       "    .dataframe thead tr:last-of-type th {\n",
       "        text-align: right;\n",
       "    }\n",
       "</style>\n",
       "<table border=\"1\" class=\"dataframe\">\n",
       "  <thead>\n",
       "    <tr>\n",
       "      <th></th>\n",
       "      <th colspan=\"6\" halign=\"left\">operation</th>\n",
       "      <th>loan_amount</th>\n",
       "    </tr>\n",
       "    <tr>\n",
       "      <th></th>\n",
       "      <th>ccount_collection_op</th>\n",
       "      <th>ccount_remittance_op</th>\n",
       "      <th>ccount_ccw_op</th>\n",
       "      <th>ccount_interest_op</th>\n",
       "      <th>ccount_credit_op</th>\n",
       "      <th>ccount_withdrawal_op</th>\n",
       "      <th>mean</th>\n",
       "    </tr>\n",
       "    <tr>\n",
       "      <th>cluster</th>\n",
       "      <th></th>\n",
       "      <th></th>\n",
       "      <th></th>\n",
       "      <th></th>\n",
       "      <th></th>\n",
       "      <th></th>\n",
       "      <th></th>\n",
       "    </tr>\n",
       "  </thead>\n",
       "  <tbody>\n",
       "    <tr>\n",
       "      <th>0</th>\n",
       "      <td>1046</td>\n",
       "      <td>3850</td>\n",
       "      <td>51</td>\n",
       "      <td>4539</td>\n",
       "      <td>4709</td>\n",
       "      <td>11628</td>\n",
       "      <td>60000.930333</td>\n",
       "    </tr>\n",
       "    <tr>\n",
       "      <th>1</th>\n",
       "      <td>824</td>\n",
       "      <td>1786</td>\n",
       "      <td>6</td>\n",
       "      <td>2591</td>\n",
       "      <td>2708</td>\n",
       "      <td>7266</td>\n",
       "      <td>159979.444569</td>\n",
       "    </tr>\n",
       "    <tr>\n",
       "      <th>2</th>\n",
       "      <td>158</td>\n",
       "      <td>540</td>\n",
       "      <td>4</td>\n",
       "      <td>697</td>\n",
       "      <td>782</td>\n",
       "      <td>1844</td>\n",
       "      <td>425070.878012</td>\n",
       "    </tr>\n",
       "    <tr>\n",
       "      <th>3</th>\n",
       "      <td>559</td>\n",
       "      <td>1232</td>\n",
       "      <td>16</td>\n",
       "      <td>1634</td>\n",
       "      <td>1611</td>\n",
       "      <td>4613</td>\n",
       "      <td>277331.092395</td>\n",
       "    </tr>\n",
       "  </tbody>\n",
       "</table>\n",
       "</div>"
      ],
      "text/plain": [
       "                   operation                                     \\\n",
       "        ccount_collection_op ccount_remittance_op ccount_ccw_op   \n",
       "cluster                                                           \n",
       "0                       1046                 3850            51   \n",
       "1                        824                 1786             6   \n",
       "2                        158                  540             4   \n",
       "3                        559                 1232            16   \n",
       "\n",
       "                                                                  \\\n",
       "        ccount_interest_op ccount_credit_op ccount_withdrawal_op   \n",
       "cluster                                                            \n",
       "0                     4539             4709                11628   \n",
       "1                     2591             2708                 7266   \n",
       "2                      697              782                 1844   \n",
       "3                     1634             1611                 4613   \n",
       "\n",
       "           loan_amount  \n",
       "                  mean  \n",
       "cluster                 \n",
       "0         60000.930333  \n",
       "1        159979.444569  \n",
       "2        425070.878012  \n",
       "3        277331.092395  "
      ]
     },
     "execution_count": 13,
     "metadata": {},
     "output_type": "execute_result"
    }
   ],
   "source": [
    "from agg import *\n",
    "df['cluster'] = kmeans.labels_\n",
    "df = df.groupby('cluster').agg({\n",
    "    'operation': [ccount_collection_op, ccount_remittance_op, ccount_ccw_op, ccount_interest_op, ccount_credit_op, ccount_withdrawal_op],\n",
    "    'loan_amount': 'mean'\n",
    "})\n",
    "\n",
    "df.head()"
   ]
  },
  {
   "cell_type": "code",
   "execution_count": null,
   "metadata": {},
   "outputs": [],
   "source": []
  }
 ],
 "metadata": {
  "interpreter": {
   "hash": "f345244096139f77bad5fb530e51cfcf3c24c5e0e7513cc496e3bc78d413e6ec"
  },
  "kernelspec": {
   "display_name": "Python 3.9.5 64-bit ('venv': venv)",
   "language": "python",
   "name": "python3"
  },
  "language_info": {
   "codemirror_mode": {
    "name": "ipython",
    "version": 3
   },
   "file_extension": ".py",
   "mimetype": "text/x-python",
   "name": "python",
   "nbconvert_exporter": "python",
   "pygments_lexer": "ipython3",
   "version": "3.9.5"
  },
  "orig_nbformat": 4
 },
 "nbformat": 4,
 "nbformat_minor": 2
}
