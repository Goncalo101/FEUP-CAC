{
 "cells": [
  {
   "cell_type": "code",
   "execution_count": 26,
   "metadata": {},
   "outputs": [],
   "source": [
    "import pandas as pd\n",
    "from sklearn.preprocessing import LabelEncoder"
   ]
  },
  {
   "cell_type": "code",
   "execution_count": 27,
   "metadata": {},
   "outputs": [
    {
     "data": {
      "text/plain": [
       "<model.model.Model at 0x2553d4339a0>"
      ]
     },
     "execution_count": 27,
     "metadata": {},
     "output_type": "execute_result"
    }
   ],
   "source": [
    "from model.model import Model\n",
    "\n",
    "model = Model()\n",
    "model.load()"
   ]
  },
  {
   "cell_type": "code",
   "execution_count": 28,
   "metadata": {},
   "outputs": [],
   "source": [
    "def encode_df(df):\n",
    "    le = LabelEncoder()\n",
    "    for col, col_type in df.dtypes.items():\n",
    "        if col_type == 'object':\n",
    "            df[col] = le.fit_transform(df[col])\n",
    "    return df\n",
    "\n",
    "\n",
    "def is_female(number):\n",
    "    return str(number)[2] == '5' or str(number)[2] == '6'\n",
    "\n",
    "\n",
    "def get_client_df():\n",
    "    df = open_csv('client')\n",
    "    df['gender'] = df.apply(lambda row: 0 if is_female(row['birth_number']) else 1, axis=1)\n",
    "    df['birth_number'] = df.apply(lambda row: row['birth_number'] - 5000 if is_female(row['birth_number']) else row['birth_number'], axis=1)\n",
    "    return df\n"
   ]
  },
  {
   "cell_type": "code",
   "execution_count": 29,
   "metadata": {},
   "outputs": [],
   "source": [
    "def merge_all(model, op='test'):\n",
    "    def modify_trans(df, op):\n",
    "        df.loc[df[f'trans_{op}_type'] == 'withdrawal', f'trans_{op}_amount'] *= -1\n",
    "        df = df.drop([f'trans_{op}_k_symbol'], axis=1)\n",
    "        df = df.drop([f'trans_{op}_bank', f'trans_{op}_account'], axis=1)\n",
    "        return df\n",
    "\n",
    "    def modify_client(df):\n",
    "        df['client_gender'] = df.apply(lambda row: 0 if is_female(row['client_birth_number']) else 1, axis=1)\n",
    "        df['client_age'] = df.apply(lambda row: 2021 - ((row['client_birth_number'] // 10000) + 1900), axis=1)\n",
    "        df['client_birth_number'] = df.apply(lambda row: row['client_birth_number'] - 5000 if is_female(row['client_birth_number']) else row['client_birth_number'], axis=1)\n",
    "        return df\n",
    "\n",
    "    account_df = model.datasets['account']\n",
    "    \n",
    "    client_df = model.datasets['client']\n",
    "    client_df = modify_client(client_df)\n",
    "    \n",
    "    disp_df = model.datasets['disp']\n",
    "    district_df = model.datasets['district'].rename(columns={'district_code': 'district_id'})\n",
    "    card_df = model.datasets[op][f'card_{op}']\n",
    "    loan_df = model.datasets[op][f'loan_{op}']\n",
    "    \n",
    "    trans_df = model.datasets[op][f'trans_{op}']\n",
    "    trans_df = modify_trans(trans_df, op)\n",
    "\n",
    "    ownership_df = disp_df.groupby('account_id', as_index=False, group_keys=False).agg({'disp_type': ['count']})\n",
    "    ownership_df.columns = [f'{col_name}_{agg_name}' if 'id' not in col_name else col_name for col_name, agg_name in ownership_df.columns]\n",
    "    disp_df = disp_df.merge(ownership_df, on='account_id')\n",
    "    disp_df = disp_df[disp_df.disp_type == 'OWNER'].drop(['disp_type'], axis=1)\n",
    "\n",
    "    df = pd.merge(loan_df, disp_df, on='account_id')\n",
    "    df = pd.merge(df, client_df, on='client_id')\n",
    "    df = pd.merge(df, district_df, on='district_id')\n",
    "    df['account_date'] = pd.merge(df, account_df, on='account_id')['account_date']\n",
    "    df = pd.merge(df, trans_df, on='account_id')\n",
    "    return df.sort_values(by=[f'trans_{op}_date'])\n",
    "\n",
    "\n",
    "train_df = merge_all(model, 'train')\n",
    "test_df = merge_all(model, 'train')\n",
    "# train_df.head()\n",
    "# test_df = merge_all('test')\n",
    "# print(get_trans_train_df()['trans_amount'])\n"
   ]
  },
  {
   "cell_type": "code",
   "execution_count": 30,
   "metadata": {},
   "outputs": [
    {
     "data": {
      "text/plain": [
       "(24494, 36)"
      ]
     },
     "execution_count": 30,
     "metadata": {},
     "output_type": "execute_result"
    }
   ],
   "source": [
    "train_df.shape"
   ]
  },
  {
   "cell_type": "code",
   "execution_count": 31,
   "metadata": {},
   "outputs": [
    {
     "data": {
      "text/html": [
       "<div>\n",
       "<style scoped>\n",
       "    .dataframe tbody tr th:only-of-type {\n",
       "        vertical-align: middle;\n",
       "    }\n",
       "\n",
       "    .dataframe tbody tr th {\n",
       "        vertical-align: top;\n",
       "    }\n",
       "\n",
       "    .dataframe thead th {\n",
       "        text-align: right;\n",
       "    }\n",
       "</style>\n",
       "<table border=\"1\" class=\"dataframe\">\n",
       "  <thead>\n",
       "    <tr style=\"text-align: right;\">\n",
       "      <th></th>\n",
       "      <th>loan_id</th>\n",
       "      <th>account_id</th>\n",
       "      <th>loan_train_date</th>\n",
       "      <th>loan_train_amount</th>\n",
       "      <th>loan_train_duration</th>\n",
       "      <th>loan_train_payments</th>\n",
       "      <th>loan_train_status</th>\n",
       "      <th>disp_type_count</th>\n",
       "      <th>client_birth_number</th>\n",
       "      <th>district_id</th>\n",
       "      <th>...</th>\n",
       "      <th>trans_train_balance_min</th>\n",
       "      <th>trans_train_balance_max</th>\n",
       "      <th>trans_train_balance_std</th>\n",
       "      <th>trans_train_balance_last</th>\n",
       "      <th>trans_train_type_count_withdrawal</th>\n",
       "      <th>trans_train_type_count_credit</th>\n",
       "      <th>trans_train_type_mean_withdrawal</th>\n",
       "      <th>trans_train_type_mean_credit</th>\n",
       "      <th>trans_train_type_std_withdrawal</th>\n",
       "      <th>trans_train_type_std_credit</th>\n",
       "    </tr>\n",
       "  </thead>\n",
       "  <tbody>\n",
       "    <tr>\n",
       "      <th>0</th>\n",
       "      <td>4959</td>\n",
       "      <td>2</td>\n",
       "      <td>940105</td>\n",
       "      <td>80952</td>\n",
       "      <td>24</td>\n",
       "      <td>3373</td>\n",
       "      <td>1</td>\n",
       "      <td>2</td>\n",
       "      <td>450204</td>\n",
       "      <td>1</td>\n",
       "      <td>...</td>\n",
       "      <td>1100.0</td>\n",
       "      <td>67529.6</td>\n",
       "      <td>12061.705682</td>\n",
       "      <td>27855.2</td>\n",
       "      <td>29</td>\n",
       "      <td>22</td>\n",
       "      <td>0.537037</td>\n",
       "      <td>0.407407</td>\n",
       "      <td>0.498626</td>\n",
       "      <td>0.491352</td>\n",
       "    </tr>\n",
       "    <tr>\n",
       "      <th>1</th>\n",
       "      <td>4961</td>\n",
       "      <td>19</td>\n",
       "      <td>960429</td>\n",
       "      <td>30276</td>\n",
       "      <td>12</td>\n",
       "      <td>2523</td>\n",
       "      <td>-1</td>\n",
       "      <td>1</td>\n",
       "      <td>390423</td>\n",
       "      <td>21</td>\n",
       "      <td>...</td>\n",
       "      <td>715.0</td>\n",
       "      <td>58157.5</td>\n",
       "      <td>15039.248405</td>\n",
       "      <td>15854.0</td>\n",
       "      <td>32</td>\n",
       "      <td>46</td>\n",
       "      <td>0.400000</td>\n",
       "      <td>0.575000</td>\n",
       "      <td>0.489898</td>\n",
       "      <td>0.494343</td>\n",
       "    </tr>\n",
       "    <tr>\n",
       "      <th>2</th>\n",
       "      <td>4973</td>\n",
       "      <td>67</td>\n",
       "      <td>960502</td>\n",
       "      <td>165960</td>\n",
       "      <td>24</td>\n",
       "      <td>6915</td>\n",
       "      <td>1</td>\n",
       "      <td>1</td>\n",
       "      <td>440613</td>\n",
       "      <td>16</td>\n",
       "      <td>...</td>\n",
       "      <td>700.0</td>\n",
       "      <td>107069.6</td>\n",
       "      <td>20955.646998</td>\n",
       "      <td>23703.8</td>\n",
       "      <td>84</td>\n",
       "      <td>37</td>\n",
       "      <td>0.672000</td>\n",
       "      <td>0.296000</td>\n",
       "      <td>0.469485</td>\n",
       "      <td>0.456491</td>\n",
       "    </tr>\n",
       "    <tr>\n",
       "      <th>3</th>\n",
       "      <td>4996</td>\n",
       "      <td>132</td>\n",
       "      <td>961106</td>\n",
       "      <td>88440</td>\n",
       "      <td>12</td>\n",
       "      <td>7370</td>\n",
       "      <td>1</td>\n",
       "      <td>2</td>\n",
       "      <td>450703</td>\n",
       "      <td>40</td>\n",
       "      <td>...</td>\n",
       "      <td>200.0</td>\n",
       "      <td>103239.0</td>\n",
       "      <td>21638.258870</td>\n",
       "      <td>78907.6</td>\n",
       "      <td>14</td>\n",
       "      <td>16</td>\n",
       "      <td>0.451613</td>\n",
       "      <td>0.516129</td>\n",
       "      <td>0.497653</td>\n",
       "      <td>0.499740</td>\n",
       "    </tr>\n",
       "    <tr>\n",
       "      <th>4</th>\n",
       "      <td>5002</td>\n",
       "      <td>173</td>\n",
       "      <td>940531</td>\n",
       "      <td>104808</td>\n",
       "      <td>12</td>\n",
       "      <td>8734</td>\n",
       "      <td>1</td>\n",
       "      <td>2</td>\n",
       "      <td>391130</td>\n",
       "      <td>66</td>\n",
       "      <td>...</td>\n",
       "      <td>500.0</td>\n",
       "      <td>57865.3</td>\n",
       "      <td>11517.175248</td>\n",
       "      <td>28015.4</td>\n",
       "      <td>18</td>\n",
       "      <td>12</td>\n",
       "      <td>0.600000</td>\n",
       "      <td>0.400000</td>\n",
       "      <td>0.489898</td>\n",
       "      <td>0.489898</td>\n",
       "    </tr>\n",
       "  </tbody>\n",
       "</table>\n",
       "<p>5 rows × 41 columns</p>\n",
       "</div>"
      ],
      "text/plain": [
       "   loan_id  account_id  loan_train_date  loan_train_amount  \\\n",
       "0     4959           2           940105              80952   \n",
       "1     4961          19           960429              30276   \n",
       "2     4973          67           960502             165960   \n",
       "3     4996         132           961106              88440   \n",
       "4     5002         173           940531             104808   \n",
       "\n",
       "   loan_train_duration  loan_train_payments  loan_train_status  \\\n",
       "0                   24                 3373                  1   \n",
       "1                   12                 2523                 -1   \n",
       "2                   24                 6915                  1   \n",
       "3                   12                 7370                  1   \n",
       "4                   12                 8734                  1   \n",
       "\n",
       "   disp_type_count  client_birth_number  district_id  ...  \\\n",
       "0                2               450204            1  ...   \n",
       "1                1               390423           21  ...   \n",
       "2                1               440613           16  ...   \n",
       "3                2               450703           40  ...   \n",
       "4                2               391130           66  ...   \n",
       "\n",
       "   trans_train_balance_min  trans_train_balance_max  trans_train_balance_std  \\\n",
       "0                   1100.0                  67529.6             12061.705682   \n",
       "1                    715.0                  58157.5             15039.248405   \n",
       "2                    700.0                 107069.6             20955.646998   \n",
       "3                    200.0                 103239.0             21638.258870   \n",
       "4                    500.0                  57865.3             11517.175248   \n",
       "\n",
       "   trans_train_balance_last  trans_train_type_count_withdrawal  \\\n",
       "0                   27855.2                                 29   \n",
       "1                   15854.0                                 32   \n",
       "2                   23703.8                                 84   \n",
       "3                   78907.6                                 14   \n",
       "4                   28015.4                                 18   \n",
       "\n",
       "   trans_train_type_count_credit  trans_train_type_mean_withdrawal  \\\n",
       "0                             22                          0.537037   \n",
       "1                             46                          0.400000   \n",
       "2                             37                          0.672000   \n",
       "3                             16                          0.451613   \n",
       "4                             12                          0.600000   \n",
       "\n",
       "   trans_train_type_mean_credit  trans_train_type_std_withdrawal  \\\n",
       "0                      0.407407                         0.498626   \n",
       "1                      0.575000                         0.489898   \n",
       "2                      0.296000                         0.469485   \n",
       "3                      0.516129                         0.497653   \n",
       "4                      0.400000                         0.489898   \n",
       "\n",
       "   trans_train_type_std_credit  \n",
       "0                     0.491352  \n",
       "1                     0.494343  \n",
       "2                     0.456491  \n",
       "3                     0.499740  \n",
       "4                     0.489898  \n",
       "\n",
       "[5 rows x 41 columns]"
      ]
     },
     "execution_count": 31,
     "metadata": {},
     "output_type": "execute_result"
    }
   ],
   "source": [
    "from agg import *\n",
    "import numpy as np\n",
    "\n",
    "def create_stuff(df):\n",
    "    keep_cols = ['loan_id', 'account_id', 'loan_train_date', 'loan_train_amount',\n",
    "                 'loan_train_duration', 'loan_train_payments', 'loan_train_status',\n",
    "                 'disp_type_count', 'client_birth_number', # mudar para birth_date\n",
    "                 'district_id', 'client_gender', #'client_age',\n",
    "                 'district_no._of_inhabitants',\n",
    "                 'district_no._of_municipalities_with_inhabitants_<_499',\n",
    "                 'district_no._of_municipalities_with_inhabitants_500-1999',\n",
    "                 'district_no._of_municipalities_with_inhabitants_2000-9999',\n",
    "                 'district_no._of_municipalities_with_inhabitants_>10000',\n",
    "                 'district_no._of_cities', 'district_ratio_of_urban_inhabitants',\n",
    "                 'district_average_salary', 'district_unemploymant_rate_\\'95',\n",
    "                 'district_unemploymant_rate_\\'96',\n",
    "                 'district_no._of_enterpreneurs_per_1000_inhabitants',\n",
    "                 'district_no._of_commited_crimes_\\'95',\n",
    "                 'district_no._of_commited_crimes_\\'96', 'account_date']\n",
    "    # keep_cols = [\"loan_id\", \"account_id\", \"status\", \"loan_date\", \"creation_date\", \"loan_amount\", \"duration\", \"payments\", \"gender\", \"birthdate\", \"ownership_count\", \"district_id\", \"num_inhabitants\", 'num_municipalities_with_inhabitants<499', 'num_municipalities_with_inhabitants_500-1999',\n",
    "    #              'num_municipalities_with_inhabitants_2000-9999', 'num_municipalities_with_inhabitants>10000', 'num_cities', 'ratio_urban_inhabitants', 'average_salary', 'unemployment_rate_95', 'unemployment_rate_96', 'num_entrepreneurs_per_1000_inhabitants', 'num_crimes_95', 'num_crimes_96']\n",
    "\n",
    "    df = df.groupby(keep_cols, as_index=False, group_keys=False).agg({\n",
    "        'trans_train_amount': ['mean', 'min', 'max', 'std', 'last'],\n",
    "        'trans_train_balance': ['mean', 'min', 'max', 'std', 'last'],\n",
    "        'trans_train_type': [count_withdrawal, count_credit, mean_withdrawal, mean_credit, std_withdrawal, std_credit]\n",
    "    })\n",
    "    df.columns = ['%s%s' % (a, '_%s' % b if b else '') for a, b in df.columns]\n",
    "\n",
    "    return df\n",
    "\n",
    "train_df = create_stuff(train_df)\n",
    "test_df = create_stuff(test_df)\n",
    "\n",
    "train_df = encode_df(train_df)\n",
    "test_df = encode_df(test_df)\n",
    "train_df.head(5)\n",
    "# train_df.dtypes\n"
   ]
  },
  {
   "cell_type": "code",
   "execution_count": 32,
   "metadata": {},
   "outputs": [
    {
     "data": {
      "text/plain": [
       "(328, 41)"
      ]
     },
     "execution_count": 32,
     "metadata": {},
     "output_type": "execute_result"
    }
   ],
   "source": [
    "train_df.shape"
   ]
  },
  {
   "cell_type": "code",
   "execution_count": 33,
   "metadata": {},
   "outputs": [
    {
     "data": {
      "text/plain": [
       "SVC(probability=True)"
      ]
     },
     "execution_count": 33,
     "metadata": {},
     "output_type": "execute_result"
    }
   ],
   "source": [
    "from sklearn.svm import SVC\n",
    "\n",
    "# test_df.columns = [col_name.replace('test', 'train') for col_name in test_df.columns]\n",
    "clf = SVC(probability=True)\n",
    "x = train_df.drop(['loan_train_status'], axis=1)\n",
    "y = train_df.loan_train_status\n",
    "clf.fit(x,y)"
   ]
  },
  {
   "cell_type": "code",
   "execution_count": 34,
   "metadata": {},
   "outputs": [],
   "source": [
    "df = pd.DataFrame(data={'Id': test_df.loan_id,\n",
    "                  'Predicted': clf.predict_proba(test_df.drop(['loan_train_status'], axis=1))[:, -1]})\n",
    "df.to_csv('submission.csv', index=False)"
   ]
  },
  {
   "cell_type": "code",
   "execution_count": 40,
   "metadata": {},
   "outputs": [
    {
     "ename": "KeyError",
     "evalue": "'Id'",
     "output_type": "error",
     "traceback": [
      "\u001b[1;31m---------------------------------------------------------------------------\u001b[0m",
      "\u001b[1;31mKeyError\u001b[0m                                  Traceback (most recent call last)",
      "\u001b[1;32mc:\\Users\\gonca\\FEUP-CAC\\venv\\lib\\site-packages\\pandas\\core\\indexes\\base.py\u001b[0m in \u001b[0;36mget_loc\u001b[1;34m(self, key, method, tolerance)\u001b[0m\n\u001b[0;32m   3360\u001b[0m             \u001b[1;32mtry\u001b[0m\u001b[1;33m:\u001b[0m\u001b[1;33m\u001b[0m\u001b[1;33m\u001b[0m\u001b[0m\n\u001b[1;32m-> 3361\u001b[1;33m                 \u001b[1;32mreturn\u001b[0m \u001b[0mself\u001b[0m\u001b[1;33m.\u001b[0m\u001b[0m_engine\u001b[0m\u001b[1;33m.\u001b[0m\u001b[0mget_loc\u001b[0m\u001b[1;33m(\u001b[0m\u001b[0mcasted_key\u001b[0m\u001b[1;33m)\u001b[0m\u001b[1;33m\u001b[0m\u001b[1;33m\u001b[0m\u001b[0m\n\u001b[0m\u001b[0;32m   3362\u001b[0m             \u001b[1;32mexcept\u001b[0m \u001b[0mKeyError\u001b[0m \u001b[1;32mas\u001b[0m \u001b[0merr\u001b[0m\u001b[1;33m:\u001b[0m\u001b[1;33m\u001b[0m\u001b[1;33m\u001b[0m\u001b[0m\n",
      "\u001b[1;32mc:\\Users\\gonca\\FEUP-CAC\\venv\\lib\\site-packages\\pandas\\_libs\\index.pyx\u001b[0m in \u001b[0;36mpandas._libs.index.IndexEngine.get_loc\u001b[1;34m()\u001b[0m\n",
      "\u001b[1;32mc:\\Users\\gonca\\FEUP-CAC\\venv\\lib\\site-packages\\pandas\\_libs\\index.pyx\u001b[0m in \u001b[0;36mpandas._libs.index.IndexEngine.get_loc\u001b[1;34m()\u001b[0m\n",
      "\u001b[1;32mpandas\\_libs\\hashtable_class_helper.pxi\u001b[0m in \u001b[0;36mpandas._libs.hashtable.PyObjectHashTable.get_item\u001b[1;34m()\u001b[0m\n",
      "\u001b[1;32mpandas\\_libs\\hashtable_class_helper.pxi\u001b[0m in \u001b[0;36mpandas._libs.hashtable.PyObjectHashTable.get_item\u001b[1;34m()\u001b[0m\n",
      "\u001b[1;31mKeyError\u001b[0m: 'Id'",
      "\nThe above exception was the direct cause of the following exception:\n",
      "\u001b[1;31mKeyError\u001b[0m                                  Traceback (most recent call last)",
      "\u001b[1;32m~\\AppData\\Local\\Temp/ipykernel_10916/3728485532.py\u001b[0m in \u001b[0;36m<module>\u001b[1;34m\u001b[0m\n\u001b[1;32m----> 1\u001b[1;33m \u001b[0mprint\u001b[0m\u001b[1;33m(\u001b[0m\u001b[0mlen\u001b[0m\u001b[1;33m(\u001b[0m\u001b[0mdf\u001b[0m\u001b[1;33m[\u001b[0m\u001b[1;34m'Id'\u001b[0m\u001b[1;33m]\u001b[0m\u001b[1;33m.\u001b[0m\u001b[0munique\u001b[0m\u001b[1;33m(\u001b[0m\u001b[1;33m)\u001b[0m\u001b[1;33m)\u001b[0m\u001b[1;33m)\u001b[0m\u001b[1;33m\u001b[0m\u001b[1;33m\u001b[0m\u001b[0m\n\u001b[0m\u001b[0;32m      2\u001b[0m \u001b[0mdf\u001b[0m\u001b[1;33m.\u001b[0m\u001b[0mto_csv\u001b[0m\u001b[1;33m(\u001b[0m\u001b[1;34m'submission.csv'\u001b[0m\u001b[1;33m,\u001b[0m \u001b[0mindex\u001b[0m\u001b[1;33m=\u001b[0m\u001b[1;32mTrue\u001b[0m\u001b[1;33m)\u001b[0m\u001b[1;33m\u001b[0m\u001b[1;33m\u001b[0m\u001b[0m\n",
      "\u001b[1;32mc:\\Users\\gonca\\FEUP-CAC\\venv\\lib\\site-packages\\pandas\\core\\frame.py\u001b[0m in \u001b[0;36m__getitem__\u001b[1;34m(self, key)\u001b[0m\n\u001b[0;32m   3456\u001b[0m             \u001b[1;32mif\u001b[0m \u001b[0mself\u001b[0m\u001b[1;33m.\u001b[0m\u001b[0mcolumns\u001b[0m\u001b[1;33m.\u001b[0m\u001b[0mnlevels\u001b[0m \u001b[1;33m>\u001b[0m \u001b[1;36m1\u001b[0m\u001b[1;33m:\u001b[0m\u001b[1;33m\u001b[0m\u001b[1;33m\u001b[0m\u001b[0m\n\u001b[0;32m   3457\u001b[0m                 \u001b[1;32mreturn\u001b[0m \u001b[0mself\u001b[0m\u001b[1;33m.\u001b[0m\u001b[0m_getitem_multilevel\u001b[0m\u001b[1;33m(\u001b[0m\u001b[0mkey\u001b[0m\u001b[1;33m)\u001b[0m\u001b[1;33m\u001b[0m\u001b[1;33m\u001b[0m\u001b[0m\n\u001b[1;32m-> 3458\u001b[1;33m             \u001b[0mindexer\u001b[0m \u001b[1;33m=\u001b[0m \u001b[0mself\u001b[0m\u001b[1;33m.\u001b[0m\u001b[0mcolumns\u001b[0m\u001b[1;33m.\u001b[0m\u001b[0mget_loc\u001b[0m\u001b[1;33m(\u001b[0m\u001b[0mkey\u001b[0m\u001b[1;33m)\u001b[0m\u001b[1;33m\u001b[0m\u001b[1;33m\u001b[0m\u001b[0m\n\u001b[0m\u001b[0;32m   3459\u001b[0m             \u001b[1;32mif\u001b[0m \u001b[0mis_integer\u001b[0m\u001b[1;33m(\u001b[0m\u001b[0mindexer\u001b[0m\u001b[1;33m)\u001b[0m\u001b[1;33m:\u001b[0m\u001b[1;33m\u001b[0m\u001b[1;33m\u001b[0m\u001b[0m\n\u001b[0;32m   3460\u001b[0m                 \u001b[0mindexer\u001b[0m \u001b[1;33m=\u001b[0m \u001b[1;33m[\u001b[0m\u001b[0mindexer\u001b[0m\u001b[1;33m]\u001b[0m\u001b[1;33m\u001b[0m\u001b[1;33m\u001b[0m\u001b[0m\n",
      "\u001b[1;32mc:\\Users\\gonca\\FEUP-CAC\\venv\\lib\\site-packages\\pandas\\core\\indexes\\base.py\u001b[0m in \u001b[0;36mget_loc\u001b[1;34m(self, key, method, tolerance)\u001b[0m\n\u001b[0;32m   3361\u001b[0m                 \u001b[1;32mreturn\u001b[0m \u001b[0mself\u001b[0m\u001b[1;33m.\u001b[0m\u001b[0m_engine\u001b[0m\u001b[1;33m.\u001b[0m\u001b[0mget_loc\u001b[0m\u001b[1;33m(\u001b[0m\u001b[0mcasted_key\u001b[0m\u001b[1;33m)\u001b[0m\u001b[1;33m\u001b[0m\u001b[1;33m\u001b[0m\u001b[0m\n\u001b[0;32m   3362\u001b[0m             \u001b[1;32mexcept\u001b[0m \u001b[0mKeyError\u001b[0m \u001b[1;32mas\u001b[0m \u001b[0merr\u001b[0m\u001b[1;33m:\u001b[0m\u001b[1;33m\u001b[0m\u001b[1;33m\u001b[0m\u001b[0m\n\u001b[1;32m-> 3363\u001b[1;33m                 \u001b[1;32mraise\u001b[0m \u001b[0mKeyError\u001b[0m\u001b[1;33m(\u001b[0m\u001b[0mkey\u001b[0m\u001b[1;33m)\u001b[0m \u001b[1;32mfrom\u001b[0m \u001b[0merr\u001b[0m\u001b[1;33m\u001b[0m\u001b[1;33m\u001b[0m\u001b[0m\n\u001b[0m\u001b[0;32m   3364\u001b[0m \u001b[1;33m\u001b[0m\u001b[0m\n\u001b[0;32m   3365\u001b[0m         \u001b[1;32mif\u001b[0m \u001b[0mis_scalar\u001b[0m\u001b[1;33m(\u001b[0m\u001b[0mkey\u001b[0m\u001b[1;33m)\u001b[0m \u001b[1;32mand\u001b[0m \u001b[0misna\u001b[0m\u001b[1;33m(\u001b[0m\u001b[0mkey\u001b[0m\u001b[1;33m)\u001b[0m \u001b[1;32mand\u001b[0m \u001b[1;32mnot\u001b[0m \u001b[0mself\u001b[0m\u001b[1;33m.\u001b[0m\u001b[0mhasnans\u001b[0m\u001b[1;33m:\u001b[0m\u001b[1;33m\u001b[0m\u001b[1;33m\u001b[0m\u001b[0m\n",
      "\u001b[1;31mKeyError\u001b[0m: 'Id'"
     ]
    }
   ],
   "source": [
    "print(len(df['Id'].unique()))\n",
    "df.to_csv('submission.csv', index=True)"
   ]
  },
  {
   "cell_type": "code",
   "execution_count": 36,
   "metadata": {},
   "outputs": [
    {
     "data": {
      "text/plain": [
       "328"
      ]
     },
     "execution_count": 36,
     "metadata": {},
     "output_type": "execute_result"
    }
   ],
   "source": [
    "len(train_df['loan_id'].unique())"
   ]
  }
 ],
 "metadata": {
  "interpreter": {
   "hash": "f345244096139f77bad5fb530e51cfcf3c24c5e0e7513cc496e3bc78d413e6ec"
  },
  "kernelspec": {
   "display_name": "Python 3.9.5 64-bit ('venv': venv)",
   "name": "python3"
  },
  "language_info": {
   "codemirror_mode": {
    "name": "ipython",
    "version": 3
   },
   "file_extension": ".py",
   "mimetype": "text/x-python",
   "name": "python",
   "nbconvert_exporter": "python",
   "pygments_lexer": "ipython3",
   "version": "3.9.5"
  },
  "orig_nbformat": 4
 },
 "nbformat": 4,
 "nbformat_minor": 2
}
