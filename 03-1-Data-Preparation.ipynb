{
 "cells": [
  {
   "cell_type": "code",
   "execution_count": null,
   "metadata": {},
   "outputs": [],
   "source": [
    "from model.model import Model\n",
    "\n",
    "model = Model()\n",
    "model.load()"
   ]
  },
  {
   "cell_type": "code",
   "execution_count": null,
   "metadata": {},
   "outputs": [],
   "source": [
    "def encode_df(df):\n",
    "    le = LabelEncoder()\n",
    "    for col, col_type in df.dtypes.items():\n",
    "        if col_type == 'object':\n",
    "            df[col] = le.fit_transform(df[col])\n",
    "    return df\n",
    "\n",
    "\n",
    "def is_female(number):\n",
    "    return str(number)[2] == '5' or str(number)[2] == '6'\n",
    "\n",
    "\n",
    "def get_client_df():\n",
    "    df = open_csv('client')\n",
    "    df['gender'] = df.apply(lambda row: 0 if is_female(row['birth_number']) else 1, axis=1)\n",
    "    df['birth_number'] = df.apply(lambda row: row['birth_number'] - 5000 if is_female(row['birth_number']) else row['birth_number'], axis=1)\n",
    "    return df\n"
   ]
  },
  {
   "cell_type": "code",
   "execution_count": null,
   "metadata": {},
   "outputs": [],
   "source": [
    "def merge_all(model, op='test'):\n",
    "    def modify_trans(df, op):\n",
    "        df.loc[df[f'trans_{op}_type'] == 'withdrawal', f'trans_{op}_amount'] *= -1\n",
    "        df = df.drop([f'trans_{op}_k_symbol'], axis=1)\n",
    "        df = df.drop([f'trans_{op}_bank', f'trans_{op}_account'], axis=1)\n",
    "        return df\n",
    "\n",
    "    def modify_client(df):\n",
    "        df['client_gender'] = df.apply(lambda row: 0 if is_female(row['client_birth_number']) else 1, axis=1)\n",
    "        df['client_age'] = df.apply(lambda row: 2021 - ((row['client_birth_number'] // 10000) + 1900), axis=1)\n",
    "        df['client_birth_number'] = df.apply(lambda row: row['client_birth_number'] - 5000 if is_female(row['client_birth_number']) else row['client_birth_number'], axis=1)\n",
    "        return df\n",
    "\n",
    "    account_df = model.datasets['account']\n",
    "    \n",
    "    client_df = model.datasets['client']\n",
    "    client_df = modify_client(client_df)\n",
    "    \n",
    "    disp_df = model.datasets['disp']\n",
    "    district_df = model.datasets['district'].rename(columns={'district_code': 'district_id'})\n",
    "    card_df = model.datasets[op][f'card_{op}']\n",
    "    loan_df = model.datasets[op][f'loan_{op}']\n",
    "    \n",
    "    trans_df = model.datasets[op][f'trans_{op}']\n",
    "    trans_df = modify_trans(trans_df, op)\n",
    "\n",
    "    ownership_df = disp_df.groupby('account_id', as_index=False, group_keys=False).agg({'disp_type': ['count']})\n",
    "    ownership_df.columns = [f'{col_name}_{agg_name}' if 'id' not in col_name else col_name for col_name, agg_name in ownership_df.columns]\n",
    "    disp_df = disp_df.merge(ownership_df, on='account_id')\n",
    "    disp_df = disp_df[disp_df.disp_type == 'OWNER'].drop(['disp_type'], axis=1)\n",
    "\n",
    "    df = pd.merge(loan_df, disp_df, on='account_id')\n",
    "    df = pd.merge(df, client_df, on='client_id')\n",
    "    df = pd.merge(df, district_df, on='district_id')\n",
    "    df['account_date'] = pd.merge(df, account_df, on='account_id')['account_date']\n",
    "    df = pd.merge(df, trans_df, on='account_id')\n",
    "    return df.sort_values(by=[f'trans_{op}_date'])\n",
    "\n",
    "\n",
    "train_df = merge_all(model, 'train')\n",
    "test_df = merge_all(model, 'train')\n",
    "# train_df.head()\n",
    "# test_df = merge_all('test')\n",
    "# print(get_trans_train_df()['trans_amount'])"
   ]
  },
  {
   "cell_type": "code",
   "execution_count": null,
   "metadata": {},
   "outputs": [],
   "source": [
    "train_df.shape"
   ]
  },
  {
   "cell_type": "code",
   "execution_count": null,
   "metadata": {},
   "outputs": [],
   "source": [
    "from agg import *\n",
    "import numpy as np\n",
    "\n",
    "def create_stuff(df):\n",
    "    keep_cols = ['loan_id', 'account_id', 'loan_train_date', 'loan_train_amount',\n",
    "                 'loan_train_duration', 'loan_train_payments', 'loan_train_status',\n",
    "                 'disp_type_count', 'client_birth_number', # mudar para birth_date\n",
    "                 'district_id', 'client_gender', #'client_age',\n",
    "                 'district_no._of_inhabitants',\n",
    "                 'district_no._of_municipalities_with_inhabitants_<_499',\n",
    "                 'district_no._of_municipalities_with_inhabitants_500-1999',\n",
    "                 'district_no._of_municipalities_with_inhabitants_2000-9999',\n",
    "                 'district_no._of_municipalities_with_inhabitants_>10000',\n",
    "                 'district_no._of_cities', 'district_ratio_of_urban_inhabitants',\n",
    "                 'district_average_salary', 'district_unemploymant_rate_\\'95',\n",
    "                 'district_unemploymant_rate_\\'96',\n",
    "                 'district_no._of_enterpreneurs_per_1000_inhabitants',\n",
    "                 'district_no._of_commited_crimes_\\'95',\n",
    "                 'district_no._of_commited_crimes_\\'96', 'account_date']\n",
    "    # keep_cols = [\"loan_id\", \"account_id\", \"status\", \"loan_date\", \"creation_date\", \"loan_amount\", \"duration\", \"payments\", \"gender\", \"birthdate\", \"ownership_count\", \"district_id\", \"num_inhabitants\", 'num_municipalities_with_inhabitants<499', 'num_municipalities_with_inhabitants_500-1999',\n",
    "    #              'num_municipalities_with_inhabitants_2000-9999', 'num_municipalities_with_inhabitants>10000', 'num_cities', 'ratio_urban_inhabitants', 'average_salary', 'unemployment_rate_95', 'unemployment_rate_96', 'num_entrepreneurs_per_1000_inhabitants', 'num_crimes_95', 'num_crimes_96']\n",
    "\n",
    "    df = df.groupby(keep_cols, as_index=False, group_keys=False).agg({\n",
    "        'trans_train_amount': ['mean', 'min', 'max', 'std', 'last'],\n",
    "        'trans_train_balance': ['mean', 'min', 'max', 'std', 'last'],\n",
    "        'trans_train_type': [count_withdrawal, count_credit, mean_withdrawal, mean_credit, std_withdrawal, std_credit]\n",
    "    })\n",
    "    df.columns = ['%s%s' % (a, '_%s' % b if b else '') for a, b in df.columns]\n",
    "\n",
    "    return df\n",
    "\n",
    "train_df = create_stuff(train_df)\n",
    "test_df = create_stuff(test_df)\n",
    "\n",
    "train_df = encode_df(train_df)\n",
    "test_df = encode_df(test_df)\n",
    "train_df.head(5)\n",
    "# train_df.dtypes\n"
   ]
  },
  {
   "cell_type": "code",
   "execution_count": null,
   "metadata": {},
   "outputs": [],
   "source": [
    "from sklearn.svm import SVC\n",
    "\n",
    "# test_df.columns = [col_name.replace('test', 'train') for col_name in test_df.columns]\n",
    "clf = SVC(probability=True)\n",
    "x = train_df.drop(['loan_train_status'], axis=1)\n",
    "y = train_df.loan_train_status\n",
    "clf.fit(x,y)"
   ]
  },
  {
   "cell_type": "code",
   "execution_count": null,
   "metadata": {},
   "outputs": [],
   "source": [
    "df = pd.DataFrame(data={'Id': test_df.loan_id,\n",
    "                  'Predicted': clf.predict_proba(test_df.drop(['loan_train_status'], axis=1))[:, -1]})\n",
    "df.to_csv('submission.csv', index=False)"
   ]
  },
  {
   "cell_type": "code",
   "execution_count": null,
   "metadata": {},
   "outputs": [],
   "source": [
    "len(train_df['loan_id'].unique())"
   ]
  }
 ],
 "metadata": {
  "interpreter": {
   "hash": "f345244096139f77bad5fb530e51cfcf3c24c5e0e7513cc496e3bc78d413e6ec"
  },
  "kernelspec": {
   "display_name": "Python 3.9.5 64-bit ('venv': venv)",
   "name": "python3"
  },
  "language_info": {
   "codemirror_mode": {
    "name": "ipython",
    "version": 3
   },
   "file_extension": ".py",
   "mimetype": "text/x-python",
   "name": "python",
   "nbconvert_exporter": "python",
   "pygments_lexer": "ipython3",
   "version": "3.9.5"
  },
  "orig_nbformat": 4
 },
 "nbformat": 4,
 "nbformat_minor": 2
}
