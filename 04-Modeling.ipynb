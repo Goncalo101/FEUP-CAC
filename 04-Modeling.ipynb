{
 "cells": [
  {
   "cell_type": "markdown",
   "metadata": {},
   "source": [
    "# Modeling\n",
    "## Initial Steps\n",
    "First let's open our train dataset."
   ]
  },
  {
   "cell_type": "code",
   "execution_count": 201,
   "metadata": {},
   "outputs": [
    {
     "data": {
      "text/html": [
       "<div>\n",
       "<style scoped>\n",
       "    .dataframe tbody tr th:only-of-type {\n",
       "        vertical-align: middle;\n",
       "    }\n",
       "\n",
       "    .dataframe tbody tr th {\n",
       "        vertical-align: top;\n",
       "    }\n",
       "\n",
       "    .dataframe thead th {\n",
       "        text-align: right;\n",
       "    }\n",
       "</style>\n",
       "<table border=\"1\" class=\"dataframe\">\n",
       "  <thead>\n",
       "    <tr style=\"text-align: right;\">\n",
       "      <th></th>\n",
       "      <th>loan_id</th>\n",
       "      <th>account_id</th>\n",
       "      <th>loan_date</th>\n",
       "      <th>loan_amount</th>\n",
       "      <th>duration</th>\n",
       "      <th>payments</th>\n",
       "      <th>status</th>\n",
       "      <th>birth_number</th>\n",
       "      <th>district_id</th>\n",
       "      <th>gender</th>\n",
       "      <th>...</th>\n",
       "      <th>trans_type_std_withdrawal</th>\n",
       "      <th>trans_type_std_credit</th>\n",
       "      <th>days_last_trans</th>\n",
       "      <th>last_balance_l</th>\n",
       "      <th>max_balance_l</th>\n",
       "      <th>age_months</th>\n",
       "      <th>bal_per_month</th>\n",
       "      <th>trans_per_month</th>\n",
       "      <th>owner_age_at</th>\n",
       "      <th>account_age</th>\n",
       "    </tr>\n",
       "  </thead>\n",
       "  <tbody>\n",
       "    <tr>\n",
       "      <th>0</th>\n",
       "      <td>4959</td>\n",
       "      <td>-5.199338</td>\n",
       "      <td>-1.543098</td>\n",
       "      <td>-0.430727</td>\n",
       "      <td>-0.530220</td>\n",
       "      <td>-0.216904</td>\n",
       "      <td>1</td>\n",
       "      <td>-0.952023</td>\n",
       "      <td>-5.199338</td>\n",
       "      <td>5.199338</td>\n",
       "      <td>...</td>\n",
       "      <td>0.063341</td>\n",
       "      <td>0.063341</td>\n",
       "      <td>0.178175</td>\n",
       "      <td>0.111650</td>\n",
       "      <td>0.236579</td>\n",
       "      <td>-0.249863</td>\n",
       "      <td>-0.187886</td>\n",
       "      <td>-0.268923</td>\n",
       "      <td>0.816627</td>\n",
       "      <td>-0.269066</td>\n",
       "    </tr>\n",
       "    <tr>\n",
       "      <th>1</th>\n",
       "      <td>4961</td>\n",
       "      <td>-3.034250</td>\n",
       "      <td>0.604585</td>\n",
       "      <td>-1.335178</td>\n",
       "      <td>-5.199338</td>\n",
       "      <td>-0.622082</td>\n",
       "      <td>-1</td>\n",
       "      <td>-1.619856</td>\n",
       "      <td>-0.458679</td>\n",
       "      <td>-5.199338</td>\n",
       "      <td>...</td>\n",
       "      <td>0.321971</td>\n",
       "      <td>0.321971</td>\n",
       "      <td>2.455101</td>\n",
       "      <td>0.544529</td>\n",
       "      <td>1.112094</td>\n",
       "      <td>0.049948</td>\n",
       "      <td>-0.808732</td>\n",
       "      <td>0.553766</td>\n",
       "      <td>1.807354</td>\n",
       "      <td>0.114185</td>\n",
       "    </tr>\n",
       "    <tr>\n",
       "      <th>2</th>\n",
       "      <td>4973</td>\n",
       "      <td>-2.603792</td>\n",
       "      <td>0.619855</td>\n",
       "      <td>0.356532</td>\n",
       "      <td>-0.530220</td>\n",
       "      <td>1.075550</td>\n",
       "      <td>1</td>\n",
       "      <td>-1.024053</td>\n",
       "      <td>-0.604585</td>\n",
       "      <td>-5.199338</td>\n",
       "      <td>...</td>\n",
       "      <td>-1.119968</td>\n",
       "      <td>-1.119968</td>\n",
       "      <td>-0.781781</td>\n",
       "      <td>-0.935819</td>\n",
       "      <td>-0.112402</td>\n",
       "      <td>1.029957</td>\n",
       "      <td>-0.425841</td>\n",
       "      <td>0.651081</td>\n",
       "      <td>1.029957</td>\n",
       "      <td>1.029957</td>\n",
       "    </tr>\n",
       "    <tr>\n",
       "      <th>3</th>\n",
       "      <td>4996</td>\n",
       "      <td>-2.356668</td>\n",
       "      <td>1.544916</td>\n",
       "      <td>-0.301747</td>\n",
       "      <td>-5.199338</td>\n",
       "      <td>1.367558</td>\n",
       "      <td>1</td>\n",
       "      <td>-0.902159</td>\n",
       "      <td>0.012660</td>\n",
       "      <td>-5.199338</td>\n",
       "      <td>...</td>\n",
       "      <td>1.399657</td>\n",
       "      <td>1.399657</td>\n",
       "      <td>0.403108</td>\n",
       "      <td>0.925573</td>\n",
       "      <td>0.516890</td>\n",
       "      <td>-1.025023</td>\n",
       "      <td>1.439869</td>\n",
       "      <td>-0.166433</td>\n",
       "      <td>1.029957</td>\n",
       "      <td>-1.021681</td>\n",
       "    </tr>\n",
       "    <tr>\n",
       "      <th>4</th>\n",
       "      <td>5002</td>\n",
       "      <td>-2.272299</td>\n",
       "      <td>-1.006949</td>\n",
       "      <td>-0.067424</td>\n",
       "      <td>-5.199338</td>\n",
       "      <td>2.301079</td>\n",
       "      <td>1</td>\n",
       "      <td>-1.496373</td>\n",
       "      <td>0.987837</td>\n",
       "      <td>5.199338</td>\n",
       "      <td>...</td>\n",
       "      <td>-0.048867</td>\n",
       "      <td>-0.048867</td>\n",
       "      <td>0.403108</td>\n",
       "      <td>-0.213490</td>\n",
       "      <td>-0.265617</td>\n",
       "      <td>-0.987837</td>\n",
       "      <td>0.381108</td>\n",
       "      <td>-0.544847</td>\n",
       "      <td>1.399657</td>\n",
       "      <td>-0.979545</td>\n",
       "    </tr>\n",
       "  </tbody>\n",
       "</table>\n",
       "<p>5 rows × 73 columns</p>\n",
       "</div>"
      ],
      "text/plain": [
       "   loan_id  account_id  loan_date  loan_amount  duration  payments  status  \\\n",
       "0     4959   -5.199338  -1.543098    -0.430727 -0.530220 -0.216904       1   \n",
       "1     4961   -3.034250   0.604585    -1.335178 -5.199338 -0.622082      -1   \n",
       "2     4973   -2.603792   0.619855     0.356532 -0.530220  1.075550       1   \n",
       "3     4996   -2.356668   1.544916    -0.301747 -5.199338  1.367558       1   \n",
       "4     5002   -2.272299  -1.006949    -0.067424 -5.199338  2.301079       1   \n",
       "\n",
       "   birth_number  district_id    gender  ...  trans_type_std_withdrawal  \\\n",
       "0     -0.952023    -5.199338  5.199338  ...                   0.063341   \n",
       "1     -1.619856    -0.458679 -5.199338  ...                   0.321971   \n",
       "2     -1.024053    -0.604585 -5.199338  ...                  -1.119968   \n",
       "3     -0.902159     0.012660 -5.199338  ...                   1.399657   \n",
       "4     -1.496373     0.987837  5.199338  ...                  -0.048867   \n",
       "\n",
       "   trans_type_std_credit  days_last_trans  last_balance_l  max_balance_l  \\\n",
       "0               0.063341         0.178175        0.111650       0.236579   \n",
       "1               0.321971         2.455101        0.544529       1.112094   \n",
       "2              -1.119968        -0.781781       -0.935819      -0.112402   \n",
       "3               1.399657         0.403108        0.925573       0.516890   \n",
       "4              -0.048867         0.403108       -0.213490      -0.265617   \n",
       "\n",
       "   age_months  bal_per_month  trans_per_month  owner_age_at  account_age  \n",
       "0   -0.249863      -0.187886        -0.268923      0.816627    -0.269066  \n",
       "1    0.049948      -0.808732         0.553766      1.807354     0.114185  \n",
       "2    1.029957      -0.425841         0.651081      1.029957     1.029957  \n",
       "3   -1.025023       1.439869        -0.166433      1.029957    -1.021681  \n",
       "4   -0.987837       0.381108        -0.544847      1.399657    -0.979545  \n",
       "\n",
       "[5 rows x 73 columns]"
      ]
     },
     "execution_count": 201,
     "metadata": {},
     "output_type": "execute_result"
    }
   ],
   "source": [
    "import matplotlib.pyplot as plt\n",
    "import pandas as pd\n",
    "\n",
    "x_test_df = pd.read_csv('./test.csv').drop(['status'], axis=1)\n",
    "_train_df = pd.read_csv('./train.csv')\n",
    "_train_df.head()"
   ]
  },
  {
   "cell_type": "markdown",
   "metadata": {},
   "source": [
    "Most prediction and scoring algorithms in scikit-learn require the positive class to have label 1 and the negative class to have label 0 so we are going to change the values in the status, given that the positive class is labeled -1 in the train dataset."
   ]
  },
  {
   "cell_type": "code",
   "execution_count": 202,
   "metadata": {},
   "outputs": [
    {
     "data": {
      "text/plain": [
       " 1    282\n",
       "-1     46\n",
       "Name: status, dtype: int64"
      ]
     },
     "execution_count": 202,
     "metadata": {},
     "output_type": "execute_result"
    }
   ],
   "source": [
    "_train_df['status'].value_counts()"
   ]
  },
  {
   "cell_type": "code",
   "execution_count": 203,
   "metadata": {},
   "outputs": [],
   "source": [
    "_train_df.loc[_train_df['status'] == 1, 'status'] = 2\n",
    "_train_df.loc[_train_df['status'] == -1, 'status'] = 1\n",
    "_train_df.loc[_train_df['status'] == 2, 'status'] = 0"
   ]
  },
  {
   "cell_type": "code",
   "execution_count": 204,
   "metadata": {},
   "outputs": [
    {
     "data": {
      "text/plain": [
       "0    282\n",
       "1     46\n",
       "Name: status, dtype: int64"
      ]
     },
     "execution_count": 204,
     "metadata": {},
     "output_type": "execute_result"
    }
   ],
   "source": [
    "_train_df['status'].value_counts()"
   ]
  },
  {
   "cell_type": "markdown",
   "metadata": {},
   "source": [
    "## Solving Class Imbalance\n",
    "As we can see, the number of rows labeled with the positive class (46) is much smaller than the number of rows labeled with the negative class (282) so we are going to use SMOTE to balance the classes."
   ]
  },
  {
   "cell_type": "code",
   "execution_count": 205,
   "metadata": {},
   "outputs": [],
   "source": [
    "from imblearn.over_sampling import SMOTE\n",
    "\n",
    "x_train_df = _train_df.drop(['status'], axis=1)\n",
    "y_train_df = _train_df['status']\n",
    "\n",
    "sm = SMOTE(random_state=42)\n",
    "x_train_df, y_train_df = sm.fit_resample(x_train_df, y_train_df)"
   ]
  },
  {
   "cell_type": "markdown",
   "metadata": {},
   "source": [
    "## Model Selection\n",
    "\n",
    "In this section we are going to select a model using ``GridSearchCV``, a feature of scikit-learn which tunes hyperparameters, that is, it exhaustively searches over specified parameter values for an estimator and returns the best estimator according to a metric or metrics of our choice. In this case, we are going to measure the quality of the estimator using the F1, accuracy measures and area under the ROC curve. The ``GridSearchCV`` is configured to use cross validation with ``StratifiedKFold`` to better evaluate the quality of the estimator and returns the estimator with the best AUC or the best F1 score where it is a more relevant score.\n",
    "\n",
    "The best model in the training phase was Logistic Regression with a AUC score of 0.968. The same model, in the testing phase, scored 0.943 in the public leaderboard and 0.851 in the private leaderboard. The Multi-layer Perceptron Classifier was the best classifier for the private leaderboard with a score of 0.858 and a public leaderboard score of 0.918. Despite being slightly worse than the Logistic Regression model in the public leaderboard, it is also slightly better in the private leaderboard.\n",
    "\n",
    "The Gaussian Naive Bayes Classifier came in third place at 0.771 in the private leaderboard. The other two algorithms, C-Support Vector Classification and K-Nearest Neighbors performed very poorly having an AUC score of 0.451 and 0.522 respectively in the private leaderboard."
   ]
  },
  {
   "cell_type": "code",
   "execution_count": 245,
   "metadata": {},
   "outputs": [],
   "source": [
    "from sklearn.metrics import make_scorer, f1_score, accuracy_score, roc_auc_score, precision_score, recall_score, ConfusionMatrixDisplay, PrecisionRecallDisplay, RocCurveDisplay\n",
    "from sklearn.model_selection import GridSearchCV"
   ]
  },
  {
   "cell_type": "markdown",
   "metadata": {},
   "source": [
    "### Using Logistic Regression (Maximum Entropy Classifier)\n"
   ]
  },
  {
   "cell_type": "code",
   "execution_count": 247,
   "metadata": {},
   "outputs": [
    {
     "name": "stderr",
     "output_type": "stream",
     "text": [
      "c:\\Users\\gonca\\FEUP-CAC\\venv\\lib\\site-packages\\sklearn\\linear_model\\_logistic.py:1483: UserWarning: Setting penalty='none' will ignore the C and l1_ratio parameters\n",
      "  warnings.warn(\n"
     ]
    },
    {
     "data": {
      "text/plain": [
       "GridSearchCV(cv=4, estimator=LogisticRegression(max_iter=1000000), n_jobs=-1,\n",
       "             param_grid={'C': [20.0, 10.0, 1.0],\n",
       "                         'class_weight': [{0: 1, 1: 1}, {0: 1, 1: 2},\n",
       "                                          {0: 1, 1: 3}, {0: 1, 1: 4},\n",
       "                                          {0: 1, 1: 5}, {0: 1, 1: 6},\n",
       "                                          {0: 1, 1: 7}, {0: 1, 1: 8},\n",
       "                                          {0: 1, 1: 9}],\n",
       "                         'penalty': ['l2', 'none']},\n",
       "             refit='auc',\n",
       "             scoring={'accuracy': make_scorer(accuracy_score),\n",
       "                      'auc': make_scorer(roc_auc_score),\n",
       "                      'f1': make_scorer(f1_score)})"
      ]
     },
     "execution_count": 247,
     "metadata": {},
     "output_type": "execute_result"
    }
   ],
   "source": [
    "from sklearn.linear_model import LogisticRegression\n",
    "params = {\n",
    "    'class_weight': [{0: 1, 1: v} for v in range(1, 10)],\n",
    "    'C': [20.0, 10.0, 1.0],\n",
    "    'penalty': ['l2', 'none']\n",
    "}\n",
    "\n",
    "grid = GridSearchCV(\n",
    "    estimator=LogisticRegression(max_iter=1000000),\n",
    "    param_grid=params,\n",
    "    scoring={'f1': make_scorer(f1_score), 'accuracy': make_scorer(accuracy_score), 'auc': make_scorer(roc_auc_score)},\n",
    "    refit='auc',\n",
    "    cv=4,\n",
    "    n_jobs=-1 # enable parallelism\n",
    ")\n",
    "\n",
    "grid.fit(x_train_df, y_train_df)"
   ]
  },
  {
   "cell_type": "code",
   "execution_count": 248,
   "metadata": {},
   "outputs": [
    {
     "data": {
      "text/plain": [
       "LogisticRegression(C=20.0, class_weight={0: 1, 1: 8}, max_iter=1000000,\n",
       "                   penalty='none')"
      ]
     },
     "execution_count": 248,
     "metadata": {},
     "output_type": "execute_result"
    }
   ],
   "source": [
    "grid.best_estimator_"
   ]
  },
  {
   "cell_type": "code",
   "execution_count": 249,
   "metadata": {},
   "outputs": [
    {
     "data": {
      "image/png": "[encoded data removed]",
      "text/plain": [
       "<Figure size 432x288 with 2 Axes>"
      ]
     },
     "metadata": {
      "needs_background": "light"
     },
     "output_type": "display_data"
    }
   ],
   "source": [
    "predicted = grid.predict(x_train_df)\n",
    "disp = ConfusionMatrixDisplay.from_predictions(y_train_df, predicted)"
   ]
  },
  {
   "cell_type": "code",
   "execution_count": 250,
   "metadata": {},
   "outputs": [
    {
     "name": "stdout",
     "output_type": "stream",
     "text": [
      "F1 Score 0.9690721649484536\n",
      "Accuracy Score: 0.9680851063829787\n",
      "Area under the ROC curve: 0.9680851063829787\n",
      "Precision: 0.94\n",
      "Recall: 1.0\n"
     ]
    }
   ],
   "source": [
    "print(f'F1 Score {f1_score(y_train_df, predicted)}\\nAccuracy Score: {accuracy_score(y_train_df, predicted)}\\nArea under the ROC curve: {roc_auc_score(y_train_df, predicted)}')\n",
    "print(f'Precision: {precision_score(y_train_df, predicted)}\\nRecall: {recall_score(y_train_df, predicted)}')"
   ]
  },
  {
   "cell_type": "code",
   "execution_count": 211,
   "metadata": {},
   "outputs": [
    {
     "data": {
      "image/png": "[encoded data removed]",
      "text/plain": [
       "<Figure size 432x288 with 1 Axes>"
      ]
     },
     "metadata": {
      "needs_background": "light"
     },
     "output_type": "display_data"
    }
   ],
   "source": [
    "disp = PrecisionRecallDisplay.from_predictions(y_train_df, predicted)"
   ]
  },
  {
   "cell_type": "code",
   "execution_count": 212,
   "metadata": {},
   "outputs": [
    {
     "data": {
      "image/png": "[encoded data removed]",
      "text/plain": [
       "<Figure size 432x288 with 1 Axes>"
      ]
     },
     "metadata": {
      "needs_background": "light"
     },
     "output_type": "display_data"
    }
   ],
   "source": [
    "disp = RocCurveDisplay.from_predictions(y_train_df, predicted)"
   ]
  },
  {
   "cell_type": "code",
   "execution_count": 213,
   "metadata": {},
   "outputs": [],
   "source": [
    "results = {\n",
    "    'Id': x_test_df['loan_id'],\n",
    "    'Predicted': grid.predict_proba(x_test_df)[:, 1]\n",
    "}\n",
    "\n",
    "pd.DataFrame(results).to_csv('submission-lr.csv', index=False)"
   ]
  },
  {
   "cell_type": "markdown",
   "metadata": {},
   "source": [
    "### Using KNearestNeighbors Classifier"
   ]
  },
  {
   "cell_type": "code",
   "execution_count": 214,
   "metadata": {},
   "outputs": [
    {
     "data": {
      "text/plain": [
       "GridSearchCV(cv=4, estimator=KNeighborsClassifier(), n_jobs=-1,\n",
       "             param_grid={'metric': ['euclidean', 'manhattan'],\n",
       "                         'n_neighbors': [1, 2, 3, 4, 5, 6, 7, 8, 9, 10, 11, 12,\n",
       "                                         13, 14, 15, 16, 17, 18, 19, 20, 21, 22,\n",
       "                                         23, 24, 25, 26, 27, 28, 29, 30, ...],\n",
       "                         'weights': ['uniform', 'distance']},\n",
       "             refit='f1',\n",
       "             scoring={'accuracy': make_scorer(accuracy_score),\n",
       "                      'auc': make_scorer(roc_auc_score),\n",
       "                      'f1': make_scorer(f1_score)})"
      ]
     },
     "execution_count": 214,
     "metadata": {},
     "output_type": "execute_result"
    }
   ],
   "source": [
    "from sklearn.neighbors import KNeighborsClassifier\n",
    "params = {\n",
    "    'n_neighbors': [i for i in range(1, 385)],\n",
    "    'weights': ['uniform', 'distance'],\n",
    "    'metric': ['euclidean', 'manhattan']\n",
    "}\n",
    "\n",
    "grid = GridSearchCV(\n",
    "    estimator=KNeighborsClassifier(),\n",
    "    param_grid=params,\n",
    "    scoring={'f1': make_scorer(f1_score), 'accuracy': make_scorer(accuracy_score), 'auc': make_scorer(roc_auc_score)},\n",
    "    refit='f1',\n",
    "    cv=4,\n",
    "    n_jobs=-1 # enable parallelism\n",
    ")\n",
    "\n",
    "grid.fit(x_train_df, y_train_df)"
   ]
  },
  {
   "cell_type": "code",
   "execution_count": 215,
   "metadata": {},
   "outputs": [
    {
     "data": {
      "text/plain": [
       "KNeighborsClassifier(metric='manhattan', n_neighbors=1)"
      ]
     },
     "execution_count": 215,
     "metadata": {},
     "output_type": "execute_result"
    }
   ],
   "source": [
    "grid.best_estimator_"
   ]
  },
  {
   "cell_type": "code",
   "execution_count": 216,
   "metadata": {},
   "outputs": [
    {
     "data": {
      "image/png": "[encoded data removed]",
      "text/plain": [
       "<Figure size 432x288 with 2 Axes>"
      ]
     },
     "metadata": {
      "needs_background": "light"
     },
     "output_type": "display_data"
    }
   ],
   "source": [
    "predicted = grid.predict(x_train_df)\n",
    "disp = ConfusionMatrixDisplay.from_predictions(y_train_df, predicted)"
   ]
  },
  {
   "cell_type": "code",
   "execution_count": 217,
   "metadata": {},
   "outputs": [
    {
     "name": "stdout",
     "output_type": "stream",
     "text": [
      "F1 Score 1.0\n",
      "Accuracy Score: 1.0\n",
      "Area under the ROC curve: 1.0\n",
      "Precision: 1.0\n",
      "Recall: 1.0\n"
     ]
    }
   ],
   "source": [
    "print(f'F1 Score {f1_score(y_train_df, predicted)}\\nAccuracy Score: {accuracy_score(y_train_df, predicted)}\\nArea under the ROC curve: {roc_auc_score(y_train_df, predicted)}')\n",
    "print(f'Precision: {precision_score(y_train_df, predicted)}\\nRecall: {recall_score(y_train_df, predicted)}')"
   ]
  },
  {
   "cell_type": "code",
   "execution_count": 218,
   "metadata": {},
   "outputs": [
    {
     "data": {
      "image/png": "[encoded data removed]",
      "text/plain": [
       "<Figure size 432x288 with 1 Axes>"
      ]
     },
     "metadata": {
      "needs_background": "light"
     },
     "output_type": "display_data"
    }
   ],
   "source": [
    "disp = PrecisionRecallDisplay.from_predictions(y_train_df, predicted)"
   ]
  },
  {
   "cell_type": "code",
   "execution_count": 219,
   "metadata": {},
   "outputs": [
    {
     "data": {
      "image/png": "[encoded data removed]",
      "text/plain": [
       "<Figure size 432x288 with 1 Axes>"
      ]
     },
     "metadata": {
      "needs_background": "light"
     },
     "output_type": "display_data"
    }
   ],
   "source": [
    "disp = RocCurveDisplay.from_predictions(y_train_df, predicted)"
   ]
  },
  {
   "cell_type": "code",
   "execution_count": 220,
   "metadata": {},
   "outputs": [],
   "source": [
    "results = {\n",
    "    'Id': x_test_df['loan_id'],\n",
    "    'Predicted': grid.predict_proba(x_test_df)[:, 1]\n",
    "}\n",
    "\n",
    "pd.DataFrame(results).to_csv('submission-knn.csv', index=False)"
   ]
  },
  {
   "cell_type": "markdown",
   "metadata": {},
   "source": [
    "### Using MLPClassifier (Multi-layer Perceptron)"
   ]
  },
  {
   "cell_type": "code",
   "execution_count": 221,
   "metadata": {},
   "outputs": [
    {
     "data": {
      "text/plain": [
       "GridSearchCV(cv=4, estimator=MLPClassifier(max_iter=100000, random_state=42),\n",
       "             n_jobs=-1,\n",
       "             param_grid={'activation': ['identity', 'logistic', 'tanh', 'relu'],\n",
       "                         'alpha': [1.0, 0.1, 0.01, 0.001, 0.0001, 1e-05, 1e-06],\n",
       "                         'batch_size': ['auto', 64],\n",
       "                         'hidden_layer_sizes': [(64,), (32,)],\n",
       "                         'learning_rate': ['constant', 'invscaling',\n",
       "                                           'adaptive']},\n",
       "             refit='auc',\n",
       "             scoring={'accuracy': make_scorer(accuracy_score),\n",
       "                      'auc': make_scorer(roc_auc_score),\n",
       "                      'f1': make_scorer(f1_score)})"
      ]
     },
     "execution_count": 221,
     "metadata": {},
     "output_type": "execute_result"
    }
   ],
   "source": [
    "from sklearn.neural_network import MLPClassifier\n",
    "params = {\n",
    "    'hidden_layer_sizes': [(64,), (32,)],\n",
    "    'alpha': [1.0, 0.1, 0.01, 0.001, 0.0001, 0.00001, 1e-6],\n",
    "    'batch_size': ['auto', 64],\n",
    "    'activation': ['identity', 'logistic', 'tanh', 'relu'],\n",
    "    'learning_rate': ['constant', 'invscaling', 'adaptive'],\n",
    "}\n",
    "\n",
    "grid = GridSearchCV(\n",
    "    estimator=MLPClassifier(max_iter=100000, random_state=42),\n",
    "    param_grid=params,\n",
    "    scoring={'f1': make_scorer(f1_score), 'accuracy': make_scorer(accuracy_score), 'auc': make_scorer(roc_auc_score)},\n",
    "    refit='auc',\n",
    "    cv=4,\n",
    "    n_jobs=-1 # enable parallelism\n",
    ")\n",
    "\n",
    "grid.fit(x_train_df, y_train_df)"
   ]
  },
  {
   "cell_type": "code",
   "execution_count": 222,
   "metadata": {},
   "outputs": [
    {
     "data": {
      "text/plain": [
       "MLPClassifier(activation='logistic', alpha=0.01, batch_size=64,\n",
       "              hidden_layer_sizes=(64,), max_iter=100000, random_state=42)"
      ]
     },
     "execution_count": 222,
     "metadata": {},
     "output_type": "execute_result"
    }
   ],
   "source": [
    "grid.best_estimator_"
   ]
  },
  {
   "cell_type": "code",
   "execution_count": 223,
   "metadata": {},
   "outputs": [
    {
     "data": {
      "image/png": "[encoded data removed]",
      "text/plain": [
       "<Figure size 432x288 with 2 Axes>"
      ]
     },
     "metadata": {
      "needs_background": "light"
     },
     "output_type": "display_data"
    }
   ],
   "source": [
    "predicted = grid.predict(x_train_df)\n",
    "disp = ConfusionMatrixDisplay.from_predictions(y_train_df, predicted)"
   ]
  },
  {
   "cell_type": "code",
   "execution_count": 224,
   "metadata": {},
   "outputs": [
    {
     "name": "stdout",
     "output_type": "stream",
     "text": [
      "F1 Score 0.8593996840442338\n",
      "Accuracy Score: 0.8421985815602837\n",
      "Area under the ROC curve: 0.8421985815602837\n",
      "Precision: 0.7749287749287749\n",
      "Recall: 0.9645390070921985\n"
     ]
    }
   ],
   "source": [
    "print(f'F1 Score {f1_score(y_train_df, predicted)}\\nAccuracy Score: {accuracy_score(y_train_df, predicted)}\\nArea under the ROC curve: {roc_auc_score(y_train_df, predicted)}')\n",
    "print(f'Precision: {precision_score(y_train_df, predicted)}\\nRecall: {recall_score(y_train_df, predicted)}')"
   ]
  },
  {
   "cell_type": "code",
   "execution_count": 225,
   "metadata": {},
   "outputs": [
    {
     "data": {
      "image/png": "[encoded data removed]",
      "text/plain": [
       "<Figure size 432x288 with 1 Axes>"
      ]
     },
     "metadata": {
      "needs_background": "light"
     },
     "output_type": "display_data"
    }
   ],
   "source": [
    "disp = PrecisionRecallDisplay.from_predictions(y_train_df, predicted)"
   ]
  },
  {
   "cell_type": "code",
   "execution_count": 226,
   "metadata": {},
   "outputs": [
    {
     "data": {
      "image/png": "[encoded data removed]",
      "text/plain": [
       "<Figure size 432x288 with 1 Axes>"
      ]
     },
     "metadata": {
      "needs_background": "light"
     },
     "output_type": "display_data"
    }
   ],
   "source": [
    "disp = RocCurveDisplay.from_predictions(y_train_df, predicted)"
   ]
  },
  {
   "cell_type": "code",
   "execution_count": 227,
   "metadata": {},
   "outputs": [],
   "source": [
    "results = {\n",
    "    'Id': x_test_df['loan_id'],\n",
    "    'Predicted': grid.predict_proba(x_test_df)[:, 1]\n",
    "}\n",
    "\n",
    "pd.DataFrame(results).to_csv('submission-mlp.csv', index=False)"
   ]
  },
  {
   "cell_type": "markdown",
   "metadata": {},
   "source": [
    "### Using SVC (C-Support Vector Classification)"
   ]
  },
  {
   "cell_type": "code",
   "execution_count": 228,
   "metadata": {},
   "outputs": [
    {
     "data": {
      "text/plain": [
       "GridSearchCV(cv=4, estimator=SVC(probability=True, random_state=42), n_jobs=-1,\n",
       "             param_grid={'C': [1.0, 0.5, 0.1, 0.05, 0.01, 0.005, 0.001],\n",
       "                         'break_ties': [True, False],\n",
       "                         'class_weight': [{0: 1, 1: 1}, {0: 1, 1: 2},\n",
       "                                          {0: 1, 1: 3}, {0: 1, 1: 4},\n",
       "                                          {0: 1, 1: 5}, {0: 1, 1: 6},\n",
       "                                          {0: 1, 1: 7}, {0: 1, 1: 8},\n",
       "                                          {0: 1, 1: 9}],\n",
       "                         'gamma': ['scale', 'auto'],\n",
       "                         'tol': [1.0, 0.001, 1e-06]},\n",
       "             refit='f1',\n",
       "             scoring={'accuracy': make_scorer(accuracy_score),\n",
       "                      'auc': make_scorer(roc_auc_score),\n",
       "                      'f1': make_scorer(f1_score)})"
      ]
     },
     "execution_count": 228,
     "metadata": {},
     "output_type": "execute_result"
    }
   ],
   "source": [
    "from sklearn.svm import SVC\n",
    "params = {\n",
    "  'C': [1.0, 0.5, 0.1, 0.05, 0.01, 0.005, 0.001], \n",
    "  'class_weight': [{0: 1, 1: v} for v in range(1, 10)],\n",
    "  'gamma': ['scale', 'auto'],\n",
    "  'tol': [1.0, 1e-3, 1e-6],\n",
    "  'break_ties': [True, False]\n",
    "}\n",
    "\n",
    "grid = GridSearchCV(\n",
    "    estimator=SVC(probability=True, random_state=42),\n",
    "    param_grid=params,\n",
    "    scoring={'f1': make_scorer(f1_score), 'accuracy': make_scorer(accuracy_score), 'auc': make_scorer(roc_auc_score)},\n",
    "    refit='f1',\n",
    "    cv=4,\n",
    "    n_jobs=-1 # enable parallelism\n",
    ")\n",
    "\n",
    "grid.fit(x_train_df, y_train_df)"
   ]
  },
  {
   "cell_type": "code",
   "execution_count": 229,
   "metadata": {},
   "outputs": [
    {
     "data": {
      "text/plain": [
       "SVC(break_ties=True, class_weight={0: 1, 1: 2}, gamma='auto', probability=True,\n",
       "    random_state=42)"
      ]
     },
     "execution_count": 229,
     "metadata": {},
     "output_type": "execute_result"
    }
   ],
   "source": [
    "grid.best_estimator_"
   ]
  },
  {
   "cell_type": "code",
   "execution_count": 230,
   "metadata": {},
   "outputs": [
    {
     "data": {
      "image/png": "[encoded data removed]",
      "text/plain": [
       "<Figure size 432x288 with 2 Axes>"
      ]
     },
     "metadata": {
      "needs_background": "light"
     },
     "output_type": "display_data"
    }
   ],
   "source": [
    "predicted = grid.predict(x_train_df)\n",
    "disp = ConfusionMatrixDisplay.from_predictions(y_train_df, predicted)"
   ]
  },
  {
   "cell_type": "code",
   "execution_count": 231,
   "metadata": {},
   "outputs": [
    {
     "name": "stdout",
     "output_type": "stream",
     "text": [
      "F1 Score: 1.0\n",
      "Accuracy Score: 1.0\n",
      "Area under the ROC curve: 1.0\n",
      "Precision: 1.0\n",
      "Recall: 1.0\n"
     ]
    }
   ],
   "source": [
    "print(f'F1 Score: {f1_score(y_train_df, predicted)}\\nAccuracy Score: {accuracy_score(y_train_df, predicted)}\\nArea under the ROC curve: {roc_auc_score(y_train_df, predicted)}')\n",
    "print(f'Precision: {precision_score(y_train_df, predicted)}\\nRecall: {recall_score(y_train_df, predicted)}')"
   ]
  },
  {
   "cell_type": "code",
   "execution_count": 232,
   "metadata": {},
   "outputs": [
    {
     "data": {
      "image/png": "[encoded data removed]",
      "text/plain": [
       "<Figure size 432x288 with 1 Axes>"
      ]
     },
     "metadata": {
      "needs_background": "light"
     },
     "output_type": "display_data"
    }
   ],
   "source": [
    "disp = PrecisionRecallDisplay.from_predictions(y_train_df, predicted)"
   ]
  },
  {
   "cell_type": "code",
   "execution_count": 233,
   "metadata": {},
   "outputs": [
    {
     "data": {
      "image/png": "[encoded data removed]",
      "text/plain": [
       "<Figure size 432x288 with 1 Axes>"
      ]
     },
     "metadata": {
      "needs_background": "light"
     },
     "output_type": "display_data"
    }
   ],
   "source": [
    "disp = RocCurveDisplay.from_predictions(y_train_df, predicted)"
   ]
  },
  {
   "cell_type": "code",
   "execution_count": 234,
   "metadata": {},
   "outputs": [],
   "source": [
    "results = {\n",
    "    'Id': x_test_df['loan_id'],\n",
    "    'Predicted': grid.predict_proba(x_test_df)[:, 1]\n",
    "}\n",
    "\n",
    "pd.DataFrame(results).to_csv('submission-svc.csv', index=False)"
   ]
  },
  {
   "cell_type": "markdown",
   "metadata": {},
   "source": [
    "### Using GaussianNaiveBayes Classifier"
   ]
  },
  {
   "cell_type": "code",
   "execution_count": 235,
   "metadata": {},
   "outputs": [
    {
     "data": {
      "text/plain": [
       "GridSearchCV(cv=4, estimator=GaussianNB(), n_jobs=-1,\n",
       "             param_grid={'priors': [[0.5, 0.5], [0.3, 0.7], [0.2, 0.8],\n",
       "                                    [0.7, 0.3], [0.8, 0.2], [0.9999, 0.0001]]},\n",
       "             refit='auc',\n",
       "             scoring={'accuracy': make_scorer(accuracy_score),\n",
       "                      'auc': make_scorer(roc_auc_score),\n",
       "                      'f1': make_scorer(f1_score)})"
      ]
     },
     "execution_count": 235,
     "metadata": {},
     "output_type": "execute_result"
    }
   ],
   "source": [
    "from sklearn.naive_bayes import GaussianNB\n",
    "params = {\n",
    "    'priors': [[0.5, 0.5], [0.3, 0.7], [0.2, 0.8], [0.7, 0.3], [0.8, 0.2], [0.9999, 0.0001]]\n",
    "}\n",
    "\n",
    "grid = GridSearchCV(\n",
    "    estimator=GaussianNB(),\n",
    "    param_grid=params,\n",
    "    scoring={'f1': make_scorer(f1_score), 'accuracy': make_scorer(accuracy_score), 'auc': make_scorer(roc_auc_score)},\n",
    "    refit='auc',\n",
    "    cv=4,\n",
    "    n_jobs=-1 # enable parallelism\n",
    ")\n",
    "\n",
    "grid.fit(x_train_df, y_train_df)"
   ]
  },
  {
   "cell_type": "code",
   "execution_count": 239,
   "metadata": {},
   "outputs": [
    {
     "data": {
      "text/plain": [
       "GaussianNB(priors=[0.9999, 0.0001])"
      ]
     },
     "execution_count": 239,
     "metadata": {},
     "output_type": "execute_result"
    }
   ],
   "source": [
    "grid.best_estimator_"
   ]
  },
  {
   "cell_type": "code",
   "execution_count": 240,
   "metadata": {},
   "outputs": [
    {
     "data": {
      "image/png": "[encoded data removed]",
      "text/plain": [
       "<Figure size 432x288 with 2 Axes>"
      ]
     },
     "metadata": {
      "needs_background": "light"
     },
     "output_type": "display_data"
    }
   ],
   "source": [
    "predicted = grid.predict(x_train_df)\n",
    "disp = ConfusionMatrixDisplay.from_predictions(y_train_df, predicted)"
   ]
  },
  {
   "cell_type": "code",
   "execution_count": 241,
   "metadata": {},
   "outputs": [
    {
     "name": "stdout",
     "output_type": "stream",
     "text": [
      "F1 Score: 0.8243243243243243\n",
      "Accuracy Score: 0.8156028368794326\n",
      "Area under the ROC curve: 0.8156028368794327\n",
      "Precision: 0.7870967741935484\n",
      "Recall: 0.8652482269503546\n"
     ]
    }
   ],
   "source": [
    "print(f'F1 Score: {f1_score(y_train_df, predicted)}\\nAccuracy Score: {accuracy_score(y_train_df, predicted)}\\nArea under the ROC curve: {roc_auc_score(y_train_df, predicted)}')\n",
    "print(f'Precision: {precision_score(y_train_df, predicted)}\\nRecall: {recall_score(y_train_df, predicted)}')"
   ]
  },
  {
   "cell_type": "code",
   "execution_count": 242,
   "metadata": {},
   "outputs": [
    {
     "data": {
      "image/png": "[encoded data removed]",
      "text/plain": [
       "<Figure size 432x288 with 1 Axes>"
      ]
     },
     "metadata": {
      "needs_background": "light"
     },
     "output_type": "display_data"
    }
   ],
   "source": [
    "disp = PrecisionRecallDisplay.from_predictions(y_train_df, predicted)"
   ]
  },
  {
   "cell_type": "code",
   "execution_count": 243,
   "metadata": {},
   "outputs": [
    {
     "data": {
      "image/png": "[encoded data removed]",
      "text/plain": [
       "<Figure size 432x288 with 1 Axes>"
      ]
     },
     "metadata": {
      "needs_background": "light"
     },
     "output_type": "display_data"
    }
   ],
   "source": [
    "disp = RocCurveDisplay.from_predictions(y_train_df, predicted)"
   ]
  },
  {
   "cell_type": "code",
   "execution_count": 244,
   "metadata": {},
   "outputs": [],
   "source": [
    "results = {\n",
    "    'Id': x_test_df['loan_id'],\n",
    "    'Predicted': grid.predict_proba(x_test_df)[:, 1]\n",
    "}\n",
    "\n",
    "pd.DataFrame(results).to_csv('submission-nb.csv', index=False)"
   ]
  }
 ],
 "metadata": {
  "interpreter": {
   "hash": "f345244096139f77bad5fb530e51cfcf3c24c5e0e7513cc496e3bc78d413e6ec"
  },
  "kernelspec": {
   "display_name": "Python 3.9.5 64-bit ('venv': venv)",
   "language": "python",
   "name": "python3"
  },
  "language_info": {
   "codemirror_mode": {
    "name": "ipython",
    "version": 3
   },
   "file_extension": ".py",
   "mimetype": "text/x-python",
   "name": "python",
   "nbconvert_exporter": "python",
   "pygments_lexer": "ipython3",
   "version": "3.9.5"
  },
  "orig_nbformat": 4
 },
 "nbformat": 4,
 "nbformat_minor": 2
}
