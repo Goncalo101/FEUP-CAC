{
 "cells": [
  {
   "cell_type": "markdown",
   "metadata": {},
   "source": [
    "# Data Understanding\n",
    "## Data Quality\n",
    "Now we're going to analyze the quality of the data we were given.\n"
   ]
  },
  {
   "cell_type": "markdown",
   "metadata": {},
   "source": [
    "## Data Summarization\n",
    "In this section, we will provide an overview of key properties of the data which will help in selecting the most suitable tool for analyzing the data. Specifically, we are going to do a statistical analysis of all tables in the dataset. But first we need to import pandas and matplotlib which will aid us in the calculation of statistical values and data visualization, respectively."
   ]
  },
  {
   "cell_type": "code",
   "execution_count": null,
   "metadata": {},
   "outputs": [],
   "source": [
    "import matplotlib.pyplot as plt\n",
    "import pandas as pd"
   ]
  },
  {
   "cell_type": "markdown",
   "metadata": {},
   "source": [
    "### Relation `account`\n",
    "Firstly, we are going to open the account table and look at its first few lines. \n",
    "\n",
    "As we can see there is one categorical variable representing how often account balances are issued for each account. All other variables are numerical as they correspond to account and district IDs or the timestamp of account creation."
   ]
  },
  {
   "cell_type": "code",
   "execution_count": null,
   "metadata": {},
   "outputs": [],
   "source": [
    "# show the first few lines of the dataframe\n",
    "account_df = pd.read_csv('./data/account.csv', sep=';')\n",
    "account_df.head()"
   ]
  },
  {
   "cell_type": "markdown",
   "metadata": {},
   "source": [
    "Now, we are going to check for null values in the account table. The output of the following snippet of code shows there are no such values."
   ]
  },
  {
   "cell_type": "code",
   "execution_count": null,
   "metadata": {},
   "outputs": [],
   "source": [
    "# show how many null values each column has\n",
    "account_df.isna().sum()"
   ]
  },
  {
   "cell_type": "markdown",
   "metadata": {},
   "source": [
    "Next, we are going to make sure that each account appears exactly once. The output of the following snippet of code shows that each account appears exactly once."
   ]
  },
  {
   "cell_type": "code",
   "execution_count": null,
   "metadata": {},
   "outputs": [],
   "source": [
    "# show the number of duplicate values in the account_id column\n",
    "account_df['account_id'].duplicated().any()"
   ]
  },
  {
   "cell_type": "markdown",
   "metadata": {},
   "source": [
    "Now, we are going to calculate how many accounts exist in each district and the mode. As we can see from the output of the following snippets of code, the district where the highest number of accounts are registered in is district 1, having 3.6 times the number of accounts as the next district. In fact the boxplot shows that there are 7 outliers (districts 1, 70, 74, 54, 64, 72, 68), given that the average district has 58 accounts, the first quartile is at 42 and the third quartile is at 53 which gives an interquartile range of 11. These districts will skew the data if no correction is done."
   ]
  },
  {
   "cell_type": "code",
   "execution_count": null,
   "metadata": {},
   "outputs": [],
   "source": [
    "# plot the distribution of accounts in each district\n",
    "district_values = account_df['district_id'].value_counts()\n",
    "ax = district_values.sort_values(ascending=False).plot.bar(\n",
    "    title='district_id',\n",
    "    legend=True,\n",
    "    xlabel='district id',\n",
    "    ylabel='number of accounts in district',\n",
    "    figsize=(20, 3)\n",
    ")\n",
    "ax.bar_label(ax.containers[0])\n",
    "plt.show()"
   ]
  },
  {
   "cell_type": "code",
   "execution_count": null,
   "metadata": {},
   "outputs": [],
   "source": [
    "# compute the mode of the district_id (the district with the highest number of accounts)\n",
    "account_df['district_id'].mode()"
   ]
  },
  {
   "cell_type": "code",
   "execution_count": null,
   "metadata": {},
   "outputs": [],
   "source": [
    "# compute the count, mean, standard deviation, minimum and maximum and quartiles for the number of accoutns in each district\n",
    "acc_description = district_values.describe()\n",
    "acc_description"
   ]
  },
  {
   "cell_type": "code",
   "execution_count": null,
   "metadata": {},
   "outputs": [],
   "source": [
    "# draw a boxplot of the number of accounts in each district to show the outliers\n",
    "account_df['district_id'].value_counts().plot.box()"
   ]
  },
  {
   "cell_type": "markdown",
   "metadata": {},
   "source": [
    "Now, we are going to calculate the mode of the issuance column which shows that the most common frequency for issuance of bank statements is `monthly issuance`, with 4167 occurrences. Other types of issuance include `weekly issuance` with 240 entries and `ìssuance after transaction` with 93 entries."
   ]
  },
  {
   "cell_type": "code",
   "execution_count": null,
   "metadata": {},
   "outputs": [],
   "source": [
    "# calculate the most common frequency for issuance of bank statements\n",
    "account_df['frequency'].mode()"
   ]
  },
  {
   "cell_type": "code",
   "execution_count": null,
   "metadata": {},
   "outputs": [],
   "source": [
    "# draw a barplot of the number of occurrences of each frequency\n",
    "freq_values = account_df['frequency'].value_counts()\n",
    "ax = freq_values.sort_values(ascending=False).plot.bar(\n",
    "    title='frequency',\n",
    "    legend=True,\n",
    "    xlabel='frequency',\n",
    "    ylabel='number of accounts with frequency',\n",
    ")\n",
    "ax.bar_label(ax.containers[0])\n",
    "plt.show()"
   ]
  },
  {
   "cell_type": "markdown",
   "metadata": {},
   "source": [
    "## Relation `client`\n",
    "We are now going to open the client table and look at its first few lines. \n",
    "\n",
    "As we can see this table only contains numerical variables: the ID of the client and the district where they live, as well as a birth number which not only encodes the client's birth date but also their gender (for men, the format is YYMMDD and for women, the format is YYMM+50DD). "
   ]
  },
  {
   "cell_type": "code",
   "execution_count": null,
   "metadata": {},
   "outputs": [],
   "source": [
    "# show the first few lines of the dataframe\n",
    "client_df = pd.read_csv('./data/client.csv', sep=';')\n",
    "client_df.head()"
   ]
  },
  {
   "cell_type": "markdown",
   "metadata": {},
   "source": [
    "Now, we are going to check for null values in the client table. The output of the following snippets of code shows there are no such values and that there are no repeated clients."
   ]
  },
  {
   "cell_type": "code",
   "execution_count": null,
   "metadata": {},
   "outputs": [],
   "source": [
    "# show how many null values each column has\n",
    "client_df.isna().sum()"
   ]
  },
  {
   "cell_type": "code",
   "execution_count": null,
   "metadata": {},
   "outputs": [],
   "source": [
    "# show the number of duplicate values in the client_id column\n",
    "client_df['client_id'].duplicated().any()"
   ]
  },
  {
   "cell_type": "code",
   "execution_count": null,
   "metadata": {},
   "outputs": [],
   "source": [
    "# compute the count, mean, standard deviation, minimum and maximum and quartiles for the number of clients in each district\n",
    "client_df['district_id'].value_counts().describe()"
   ]
  },
  {
   "cell_type": "markdown",
   "metadata": {},
   "source": [
    "## Relation `disposition`\n",
    "We are now going to open the disposition table and look at its first few lines. \n",
    "\n",
    "As we can see this table contains numerical variables: the ID of the client and of the account, as well as the disposition ID. This table also contains a categorical variable containing the type of disposition (`OWNER`, `DISPONENT`). This table contains no null values. There are 4500 owners and 869 disponents."
   ]
  },
  {
   "cell_type": "code",
   "execution_count": null,
   "metadata": {},
   "outputs": [],
   "source": [
    "# show the first few lines of the dataframe\n",
    "disp_df = pd.read_csv('./data/disp.csv', sep=';')\n",
    "disp_df.head()"
   ]
  },
  {
   "cell_type": "code",
   "execution_count": null,
   "metadata": {},
   "outputs": [],
   "source": [
    "# show how many null values each column has\n",
    "disp_df.isna().sum()"
   ]
  },
  {
   "cell_type": "code",
   "execution_count": null,
   "metadata": {},
   "outputs": [],
   "source": [
    "# show the types of disponent in the dataset\n",
    "disp_df['type'].unique()"
   ]
  },
  {
   "cell_type": "code",
   "execution_count": null,
   "metadata": {},
   "outputs": [],
   "source": [
    "# draw a barplot of the number of occurrences of each disposition type\n",
    "type_values = disp_df['type'].value_counts()\n",
    "print(type_values)\n",
    "ax = type_values.sort_values(ascending=False).plot.bar(\n",
    "    title='district_id',\n",
    "    legend=True,\n",
    "    xlabel='district id',\n",
    "    ylabel='number of disponent types',\n",
    ")\n",
    "ax.bar_label(ax.containers[0])\n",
    "plt.show()"
   ]
  },
  {
   "cell_type": "markdown",
   "metadata": {},
   "source": [
    "## Relations `transaction` and `permanent order`\n",
    "The permanent order relation is included in the transaction table, specifically, in rows that contain the two-letter code of the destination bank of a transaction. Other rows that do not correspond to permanent orders do not contain these attributes, which explains the large number of null values in this table.\n",
    "This relation is split between two tables, a dataset for training purposes and another one for testing purposes. However for the purpose of this analysis we will append them together.\n",
    "\n",
    "There are three transaction types (categorical variables): `credit`, `withdrawal` and `withdrawal in cash`. The most common transaction type is `credit`. \n",
    "There are five operation types (categorical variables): `credit in cash`, `collection from another bank`, `withdrawal in cash`, `remittance to another bank`, `credit card withdrawal`. The most common operation type is `withdrawal in cash`.\n",
    "\n",
    "The mean transaction amount is 5911.10, the minimum transaction amount is 0 and the maximum transaction amount is 86400. The box plot shows that there are many outliers to this distribution, given that the interquartile range is 6615.6."
   ]
  },
  {
   "cell_type": "code",
   "execution_count": null,
   "metadata": {},
   "outputs": [],
   "source": [
    "# show the first few lines of the dataframe\n",
    "trans_train_df = pd.read_csv('./data/trans_train.csv', sep=';', dtype={'k_symbol': str, 'bank': str})\n",
    "trans_test_df = pd.read_csv('./data/trans_test.csv', sep=';', dtype={'k_symbol': str, 'bank': str})\n",
    "trans_df = trans_train_df.append(trans_test_df)\n",
    "trans_df.head()"
   ]
  },
  {
   "cell_type": "code",
   "execution_count": null,
   "metadata": {},
   "outputs": [],
   "source": [
    "# show how many null values each column has\n",
    "trans_df.isna().sum()"
   ]
  },
  {
   "cell_type": "code",
   "execution_count": null,
   "metadata": {},
   "outputs": [],
   "source": [
    "# show the unique categories of transaction types\n",
    "trans_df['type'].unique()"
   ]
  },
  {
   "cell_type": "code",
   "execution_count": null,
   "metadata": {},
   "outputs": [],
   "source": [
    "# show the most common transaction type\n",
    "trans_df['type'].mode()"
   ]
  },
  {
   "cell_type": "code",
   "execution_count": null,
   "metadata": {},
   "outputs": [],
   "source": [
    "# show the unique categories of transaction operation\n",
    "trans_df['operation'].unique()"
   ]
  },
  {
   "cell_type": "code",
   "execution_count": null,
   "metadata": {},
   "outputs": [],
   "source": [
    "# show the most common transaction operation\n",
    "trans_df['operation'].mode()"
   ]
  },
  {
   "cell_type": "code",
   "execution_count": null,
   "metadata": {},
   "outputs": [],
   "source": [
    "# compute the count, mean, standard deviation, minimum and maximum and quartiles for the amount of money in a transaction\n",
    "trans_df['amount'].describe()"
   ]
  },
  {
   "cell_type": "code",
   "execution_count": null,
   "metadata": {},
   "outputs": [],
   "source": [
    "# plot a histogram of the distribution of transaction amounts\n",
    "trans_df['amount'].plot.hist(bins=25)"
   ]
  },
  {
   "cell_type": "code",
   "execution_count": null,
   "metadata": {},
   "outputs": [],
   "source": [
    "# draw a boxplot of the distribution of transaction amounts\n",
    "trans_df['amount'].plot.box()"
   ]
  },
  {
   "cell_type": "markdown",
   "metadata": {},
   "source": [
    "## Relation `loan`\n",
    "We are now going to open the loan table and look at its first few lines. This relation is split between two tables, one for training purposes and another one for testing purposes. However for the purpose of this analysis we will append them.\n",
    "\n",
    "This table contains numerical variables representing the IDs for the loans and the accounts that requested them as well as the date of the day the loan was granted and the amount of money borrowed. Each row also has information on the number of payments made on the loan and the duration of the loan. Because the purpose of this project is to predict whether a loan will be paid or not, this table contains the `status` attribute which, for the train table, says if the loan has been paid or not. This attribute is empty for the test table because it is what we want to predict.\n",
    "\n",
    "Loans can have a duration of 12, 36, 60, 24 or 48 months. The average loan duration is 36 months.\n",
    "\n",
    "As expected, there are 354 null values in the table, all in the status column, which corresponds to the number of rows in the test table.\n",
    "\n",
    "Also as expected, the correlogram shows a significant positive correlation between the amount of the loan and the number of payments.\n",
    "\n",
    "The average loan amount is 151410.17 with a standard deviation of 113372.40, the smallest loan has an amount of 4980 and the largest, an amount of 590820.\n",
    "The average payment is 4190.66 with a standard deviation of 2215.83, the smallest payment is 304 and the largest is 9910.\n",
    "\n",
    "The boxplot for the ``amount`` column shows that there are many outliers but the boxplot for the ``payments`` column shows none. The amount column seems to follow a Pareto distribution."
   ]
  },
  {
   "cell_type": "code",
   "execution_count": null,
   "metadata": {},
   "outputs": [],
   "source": [
    "# show the first few lines of the dataframe\n",
    "loan_train_df = pd.read_csv('./data/loan_train.csv', sep=';')\n",
    "loan_test_df = pd.read_csv('./data/loan_test.csv', sep=';')\n",
    "loan_df = loan_train_df.append(loan_test_df)\n",
    "loan_df.head()"
   ]
  },
  {
   "cell_type": "code",
   "execution_count": null,
   "metadata": {},
   "outputs": [],
   "source": [
    "# show how many null values each column has\n",
    "loan_df.isna().sum()"
   ]
  },
  {
   "cell_type": "code",
   "execution_count": null,
   "metadata": {},
   "outputs": [],
   "source": [
    "loan_df['duration'].mean()"
   ]
  },
  {
   "cell_type": "markdown",
   "metadata": {},
   "source": [
    "Now we will look at the ``amount`` column of the table."
   ]
  },
  {
   "cell_type": "code",
   "execution_count": null,
   "metadata": {},
   "outputs": [],
   "source": [
    "corr = loan_df.corr() \n",
    "corr"
   ]
  },
  {
   "cell_type": "code",
   "execution_count": null,
   "metadata": {},
   "outputs": [],
   "source": [
    "plt.matshow(corr)"
   ]
  },
  {
   "cell_type": "code",
   "execution_count": null,
   "metadata": {},
   "outputs": [],
   "source": [
    "loan_df['amount'].describe()"
   ]
  },
  {
   "cell_type": "code",
   "execution_count": null,
   "metadata": {},
   "outputs": [],
   "source": [
    "loan_df['amount'].plot.box()"
   ]
  },
  {
   "cell_type": "code",
   "execution_count": null,
   "metadata": {},
   "outputs": [],
   "source": [
    "loan_df['amount'].plot.hist()"
   ]
  },
  {
   "cell_type": "markdown",
   "metadata": {},
   "source": [
    "Now we will look at the ``payments`` column of the table."
   ]
  },
  {
   "cell_type": "code",
   "execution_count": null,
   "metadata": {},
   "outputs": [],
   "source": [
    "loan_df['payments'].describe()"
   ]
  },
  {
   "cell_type": "code",
   "execution_count": null,
   "metadata": {},
   "outputs": [],
   "source": [
    "loan_df['payments'].plot.box()"
   ]
  },
  {
   "cell_type": "code",
   "execution_count": null,
   "metadata": {},
   "outputs": [],
   "source": [
    "loan_df['payments'].plot.hist()"
   ]
  },
  {
   "cell_type": "markdown",
   "metadata": {},
   "source": [
    "## Relation `credit card`\n",
    "We are now going to open the loan table and look at its first few lines. This relation is split between two tables, one for training purposes and another one for testing purposes. However for the purpose of this analysis we will append them."
   ]
  },
  {
   "cell_type": "code",
   "execution_count": null,
   "metadata": {},
   "outputs": [],
   "source": [
    "card_train_df = pd.read_csv('./data/card_train.csv', sep=';')\n",
    "card_test_df = pd.read_csv('./data/card_test.csv', sep=';')\n",
    "card_df = card_train_df.append(card_train_df)\n",
    "card_df.head()"
   ]
  },
  {
   "cell_type": "markdown",
   "metadata": {},
   "source": [
    "## Relation `demographic data`\n",
    "We are now going to open the district table and look at its first few lines."
   ]
  },
  {
   "cell_type": "code",
   "execution_count": null,
   "metadata": {},
   "outputs": [],
   "source": [
    "district_df = pd.read_csv('./data/district.csv', sep=';', na_values='?')\n",
    "district_df.head()"
   ]
  },
  {
   "cell_type": "code",
   "execution_count": null,
   "metadata": {},
   "outputs": [],
   "source": [
    "district_df.isna().sum()"
   ]
  }
 ],
 "metadata": {
  "interpreter": {
   "hash": "f345244096139f77bad5fb530e51cfcf3c24c5e0e7513cc496e3bc78d413e6ec"
  },
  "kernelspec": {
   "display_name": "Python 3.9.5 64-bit ('venv': venv)",
   "language": "python",
   "name": "python3"
  },
  "language_info": {
   "codemirror_mode": {
    "name": "ipython",
    "version": 3
   },
   "file_extension": ".py",
   "mimetype": "text/x-python",
   "name": "python",
   "nbconvert_exporter": "python",
   "pygments_lexer": "ipython3",
   "version": "3.9.5"
  },
  "orig_nbformat": 4
 },
 "nbformat": 4,
 "nbformat_minor": 2
}
