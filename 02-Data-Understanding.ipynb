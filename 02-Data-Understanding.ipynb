{
 "cells": [
  {
   "cell_type": "markdown",
   "metadata": {},
   "source": [
    "# Data Understanding\n",
    "## Data Description\n",
    "The dataset (which is located in the `./data/` folder) contains the following relations:\n",
    "* Relation `account` (containing 4500 records) where each record describes an account\n",
    "* Relation `client` (containing 5369 records) where each record describes a client\n",
    "* Relation `disposition` (containing 5369 records) where each record links a client to an account and indicates the rights of clients to operate accounts\n",
    "* Relation `permanent order` (containing 6471 records) where each record describes a payment order\n",
    "* Relation `transaction` (containing 1056320 records) where each record describes a transaction in an account\n",
    "* Relation `loan` (containing 682 records) where each record describes a loan granted for a given account\n",
    "* Relation `credit card` (containing 892 records) where each record describes a credit card issued to an account\n",
    "* Relation `demographic data` (containing 77 records) where each record describes the demography of a district\n",
    "\n",
    "### Relation `account`\n",
    "Each account has static (e.g. date of creation, address of branch) and dynamic attributes (e.g. transactions and balances) which are given in the `permanent order` and `transaction` relations. This relation follows the schema:\n",
    "| Attribute | Description |\n",
    "| --------- | ----------- |\n",
    "| account_id **int** | Account identifier |\n",
    "| district_id **int** | Identifier of the district where the account is located |\n",
    "| date **int** | Account creation date (format: YYMMDD) |\n",
    "| frequency **string** | Frequency of issuance of statements |\n",
    "\n",
    "Located in `./data/account.csv`\n",
    "\n",
    "### Relation `client`\n",
    "This relation contains attributes of the people who can manipulate accounts. One client can have multiple accounts and multiple clients can manipulate the same account.\n",
    "| Attribute | Description |\n",
    "| --------- | ----------- |\n",
    "| client_id **int** | Client identifier |\n",
    "| birth_number **string** | Birthday and sex (format: YYMMDD - in women, the month is incremented by 50), autoconverted to **int** by pandas |\n",
    "| district_id **int** | Identifier of the district where the client lives |\n",
    "\n",
    "Located in `./data/client.csv`\n",
    "\n",
    "### Relation `disposition`\n",
    "This relation links clients to accounts and includes the rights of clients to operate accounts.\n",
    "| Attribute | Description |\n",
    "| --------- | ----------- |\n",
    "| disp_id **int** | Disposition identifier |\n",
    "| client_id **int** | Client Identifier |\n",
    "| account_id **int** | Account Identifier |\n",
    "| type **string** | Disposition type (*owner*/*user*), only the owner can issue permanent orders and borrow money |\n",
    "\n",
    "Located in `./data/disp.csv`\n",
    "\n",
    "### Relation `permanent order`\n",
    "| Attribute | Description |\n",
    "| --------- | ----------- |\n",
    "| order_id **int** | Order identifier |\n",
    "| account_id **int** | Account identifier |\n",
    "| bank_to | Recipient's bank (each bank has a unique two-letter code) |\n",
    "| account_to | Recipient's account identifier |\n",
    "| amount **int** | Debited amount |\n",
    "| k_symbol | Characterization of the payment |\n",
    "\n",
    "Not located in the `./data/` folder. Can it be built from the other relations?\n",
    "\n",
    "### Relation `transaction`\n",
    "| Attribute | Description |\n",
    "| --------- | ----------- |\n",
    "| trans_id | Transaction identifier |\n",
    "| account_id | Account identifer |\n",
    "| date | Transaction date (format: YYMMDD) |\n",
    "| type | +/- transaction |\n",
    "| operation | Transaction mode | \t \n",
    "| amount | Amount of money transacted |\n",
    "| balance |\tBalance after transaction |\n",
    "| k_symbol | Characterization of the transaction |\n",
    "| bank | Bank of the partner (each bank has unique two-letter code) |\n",
    "| account | Account of the partner |\n",
    "\n",
    "Located in `./data/trans_train.csv` and `./data/trans_test.csv` as training and test data for the model.\n",
    "\n",
    "### Relation `loan`\n",
    "Describes a service provided by the bank to its clients. Only one loan can be granted for an account.\n",
    "| Attribute | Description |\n",
    "| --------- | ----------- |\n",
    "| loan_id | Loan identifier |\n",
    "| account_id | Account identifier |\n",
    "| date | Date when the loan was granted (format: YYMMDD) |\n",
    "| amount | Amount of money borrowed |\n",
    "| duration | Loan duration |\n",
    "| payments | Number of monthly payments made on the loan | \t \n",
    "| status | Status of the loan payment ('A' stands for contract finished, no problems, 'B' stands for contract finished, loan not paid, 'C' stands for running contract, OK so far, 'D' stands for running contract, client in debt) |\n",
    "\n",
    "Located in `./data/loan_train.csv` and `./data/loan_test.csv` as training and test data for the model.\n",
    "\n",
    "### Relation `credit card`\n",
    "Describes a service provided by the bank to its clients. Multiple credit cards can be issued for the same account.\n",
    "| Attribute | Description |\n",
    "| --------- | ----------- |\n",
    "| card_id | Card identifier |\n",
    "| disp_id | Disposition to an account |\n",
    "| type **string** | Type of card (possible values are \"junior\", \"classic\", \"gold\") |\n",
    "| issued | Issue date in the form YYMMDD |\n",
    "\n",
    "Located in `./data/card_train.csv` and `./data/card_test.csv` as training and test data for the model.\n",
    "\n",
    "### Relation `demographic data`\n",
    "Contains publicly available information about the districts, additional information about the clients can be deduced from this.\n",
    "| Attribute | Description |\n",
    "| --------- | ----------- |\n",
    "| A1 | District Identifier |\n",
    "| A2 | District name |\n",
    "| A3 | Region | \n",
    "| A4 | No. of inhabitants | |\n",
    "| A5 | No. of municipalities with inhabitants < 499 |\n",
    "| A6 | No. of municipalities with inhabitants 500-1999 |\n",
    "| A7 | No. of municipalities with inhabitants 2000-9999 |\n",
    "| A8 | No. of municipalities with inhabitants >10000 |\n",
    "| A9 | No. of cities |\n",
    "| A10 |\tRatio of urban inhabitants |\n",
    "| A11 |\tAverage salary |\n",
    "| A12 |\tUnemployment rate '95 |\n",
    "| A13 |\tUnemployment rate '96 |\n",
    "| A14 |\tNo. of enterpreneurs per 1000 inhabitants |\n",
    "| A15 |\tNo. of commited crimes '95 |\n",
    "| A16 |\tNo. of commited crimes '96 |"
   ]
  },
  {
   "cell_type": "markdown",
   "metadata": {},
   "source": [
    "## Statistics\n",
    "Now we're going to do a deep dive at each relation separately and do some statistics on them. But first we need to import pandas and matplotlib."
   ]
  },
  {
   "cell_type": "code",
   "execution_count": 12,
   "metadata": {},
   "outputs": [],
   "source": [
    "import pandas as pd\n",
    "import matplotlib.pyplot as plt"
   ]
  },
  {
   "cell_type": "markdown",
   "metadata": {},
   "source": [
    "### Relation `account`\n",
    "For the `account` relation we are going to open it with an index on the account_id and view the first few lines in the relation table."
   ]
  },
  {
   "cell_type": "code",
   "execution_count": 15,
   "metadata": {},
   "outputs": [
    {
     "data": {
      "text/html": [
       "<div>\n",
       "<style scoped>\n",
       "    .dataframe tbody tr th:only-of-type {\n",
       "        vertical-align: middle;\n",
       "    }\n",
       "\n",
       "    .dataframe tbody tr th {\n",
       "        vertical-align: top;\n",
       "    }\n",
       "\n",
       "    .dataframe thead th {\n",
       "        text-align: right;\n",
       "    }\n",
       "</style>\n",
       "<table border=\"1\" class=\"dataframe\">\n",
       "  <thead>\n",
       "    <tr style=\"text-align: right;\">\n",
       "      <th></th>\n",
       "      <th>district_id</th>\n",
       "      <th>frequency</th>\n",
       "      <th>date</th>\n",
       "    </tr>\n",
       "    <tr>\n",
       "      <th>account_id</th>\n",
       "      <th></th>\n",
       "      <th></th>\n",
       "      <th></th>\n",
       "    </tr>\n",
       "  </thead>\n",
       "  <tbody>\n",
       "    <tr>\n",
       "      <th>576</th>\n",
       "      <td>55</td>\n",
       "      <td>monthly issuance</td>\n",
       "      <td>930101</td>\n",
       "    </tr>\n",
       "    <tr>\n",
       "      <th>3818</th>\n",
       "      <td>74</td>\n",
       "      <td>monthly issuance</td>\n",
       "      <td>930101</td>\n",
       "    </tr>\n",
       "    <tr>\n",
       "      <th>704</th>\n",
       "      <td>55</td>\n",
       "      <td>monthly issuance</td>\n",
       "      <td>930101</td>\n",
       "    </tr>\n",
       "    <tr>\n",
       "      <th>2378</th>\n",
       "      <td>16</td>\n",
       "      <td>monthly issuance</td>\n",
       "      <td>930101</td>\n",
       "    </tr>\n",
       "    <tr>\n",
       "      <th>2632</th>\n",
       "      <td>24</td>\n",
       "      <td>monthly issuance</td>\n",
       "      <td>930102</td>\n",
       "    </tr>\n",
       "  </tbody>\n",
       "</table>\n",
       "</div>"
      ],
      "text/plain": [
       "            district_id         frequency    date\n",
       "account_id                                       \n",
       "576                  55  monthly issuance  930101\n",
       "3818                 74  monthly issuance  930101\n",
       "704                  55  monthly issuance  930101\n",
       "2378                 16  monthly issuance  930101\n",
       "2632                 24  monthly issuance  930102"
      ]
     },
     "execution_count": 15,
     "metadata": {},
     "output_type": "execute_result"
    }
   ],
   "source": [
    "account_df = pd.read_csv('./data/account.csv', sep=';', index_col='account_id')\n",
    "account_df.head()"
   ]
  },
  {
   "cell_type": "markdown",
   "metadata": {},
   "source": [
    "Now we're going to check if there are any null or NaN values in the relation table (there are none) Maybe more useful in the 03-Data-Preparation notebook."
   ]
  },
  {
   "cell_type": "code",
   "execution_count": 4,
   "metadata": {},
   "outputs": [
    {
     "data": {
      "text/plain": [
       "district_id    0\n",
       "frequency      0\n",
       "date           0\n",
       "dtype: int64"
      ]
     },
     "execution_count": 4,
     "metadata": {},
     "output_type": "execute_result"
    }
   ],
   "source": [
    "account_df.isna().sum()\n"
   ]
  },
  {
   "cell_type": "code",
   "execution_count": 5,
   "metadata": {},
   "outputs": [
    {
     "data": {
      "text/html": [
       "<div>\n",
       "<style scoped>\n",
       "    .dataframe tbody tr th:only-of-type {\n",
       "        vertical-align: middle;\n",
       "    }\n",
       "\n",
       "    .dataframe tbody tr th {\n",
       "        vertical-align: top;\n",
       "    }\n",
       "\n",
       "    .dataframe thead th {\n",
       "        text-align: right;\n",
       "    }\n",
       "</style>\n",
       "<table border=\"1\" class=\"dataframe\">\n",
       "  <thead>\n",
       "    <tr style=\"text-align: right;\">\n",
       "      <th></th>\n",
       "      <th>district_id</th>\n",
       "      <th>frequency</th>\n",
       "      <th>date</th>\n",
       "      <th>account_age</th>\n",
       "    </tr>\n",
       "    <tr>\n",
       "      <th>account_id</th>\n",
       "      <th></th>\n",
       "      <th></th>\n",
       "      <th></th>\n",
       "      <th></th>\n",
       "    </tr>\n",
       "  </thead>\n",
       "  <tbody>\n",
       "    <tr>\n",
       "      <th>576</th>\n",
       "      <td>55</td>\n",
       "      <td>monthly issuance</td>\n",
       "      <td>930101</td>\n",
       "      <td>28</td>\n",
       "    </tr>\n",
       "    <tr>\n",
       "      <th>3818</th>\n",
       "      <td>74</td>\n",
       "      <td>monthly issuance</td>\n",
       "      <td>930101</td>\n",
       "      <td>28</td>\n",
       "    </tr>\n",
       "    <tr>\n",
       "      <th>704</th>\n",
       "      <td>55</td>\n",
       "      <td>monthly issuance</td>\n",
       "      <td>930101</td>\n",
       "      <td>28</td>\n",
       "    </tr>\n",
       "    <tr>\n",
       "      <th>2378</th>\n",
       "      <td>16</td>\n",
       "      <td>monthly issuance</td>\n",
       "      <td>930101</td>\n",
       "      <td>28</td>\n",
       "    </tr>\n",
       "    <tr>\n",
       "      <th>2632</th>\n",
       "      <td>24</td>\n",
       "      <td>monthly issuance</td>\n",
       "      <td>930102</td>\n",
       "      <td>28</td>\n",
       "    </tr>\n",
       "  </tbody>\n",
       "</table>\n",
       "</div>"
      ],
      "text/plain": [
       "            district_id         frequency    date  account_age\n",
       "account_id                                                    \n",
       "576                  55  monthly issuance  930101           28\n",
       "3818                 74  monthly issuance  930101           28\n",
       "704                  55  monthly issuance  930101           28\n",
       "2378                 16  monthly issuance  930101           28\n",
       "2632                 24  monthly issuance  930102           28"
      ]
     },
     "execution_count": 5,
     "metadata": {},
     "output_type": "execute_result"
    }
   ],
   "source": [
    "account_df['account_age'] = 2021 - ((account_df['date'] // 10000) + 1900)\n",
    "account_df.head()\n"
   ]
  },
  {
   "cell_type": "code",
   "execution_count": 6,
   "metadata": {},
   "outputs": [
    {
     "data": {
      "text/plain": [
       "array([28, 27, 26, 25, 24])"
      ]
     },
     "execution_count": 6,
     "metadata": {},
     "output_type": "execute_result"
    }
   ],
   "source": [
    "account_df['account_age'].unique()\n"
   ]
  },
  {
   "cell_type": "code",
   "execution_count": 7,
   "metadata": {},
   "outputs": [
    {
     "data": {
      "text/plain": [
       "array(['monthly issuance', 'issuance after transaction',\n",
       "       'weekly issuance'], dtype=object)"
      ]
     },
     "execution_count": 7,
     "metadata": {},
     "output_type": "execute_result"
    }
   ],
   "source": [
    "account_df['frequency'].unique()\n"
   ]
  },
  {
   "cell_type": "code",
   "execution_count": 8,
   "metadata": {},
   "outputs": [
    {
     "data": {
      "image/png": "[encoded data removed]",
      "text/plain": [
       "<Figure size 432x288 with 1 Axes>"
      ]
     },
     "metadata": {
      "needs_background": "light"
     },
     "output_type": "display_data"
    }
   ],
   "source": [
    "account_age = account_df['account_age'].value_counts(dropna=False).sort_index()\n",
    "ax = account_age.plot.bar(\n",
    "    title='account_age',\n",
    "    legend=True,\n",
    "    xlabel='age of account',\n",
    "    ylabel='number of accounts'\n",
    ")\n",
    "ax.bar_label(ax.containers[0])\n",
    "plt.show()\n"
   ]
  },
  {
   "cell_type": "code",
   "execution_count": 17,
   "metadata": {},
   "outputs": [
    {
     "data": {
      "image/png": "[encoded data removed]",
      "text/plain": [
       "<Figure size 1440x216 with 1 Axes>"
      ]
     },
     "metadata": {
      "needs_background": "light"
     },
     "output_type": "display_data"
    }
   ],
   "source": [
    "district_id = account_df['district_id'].value_counts(dropna=False).sort_index()\n",
    "ax = district_id.plot.bar(\n",
    "    title='district_id',\n",
    "    legend=True,\n",
    "    xlabel='district id',\n",
    "    ylabel='number of accounts in each district',\n",
    "    figsize=(20, 3)\n",
    ")\n",
    "ax.bar_label(ax.containers[0])\n",
    "plt.show()\n"
   ]
  }
 ],
 "metadata": {
  "interpreter": {
   "hash": "ccac6d9a92f383eb86d45b37e3f83e6bc7eca50e6cfd6746fe908605ae3725c3"
  },
  "kernelspec": {
   "display_name": "Python 3.9.7 64-bit ('venv': venv)",
   "language": "python",
   "name": "python3"
  },
  "language_info": {
   "codemirror_mode": {
    "name": "ipython",
    "version": 3
   },
   "file_extension": ".py",
   "mimetype": "text/x-python",
   "name": "python",
   "nbconvert_exporter": "python",
   "pygments_lexer": "ipython3",
   "version": "3.9.7"
  },
  "orig_nbformat": 4
 },
 "nbformat": 4,
 "nbformat_minor": 2
}
