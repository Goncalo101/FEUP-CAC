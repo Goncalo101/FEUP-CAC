{
 "cells": [
  {
   "cell_type": "markdown",
   "metadata": {},
   "source": [
    "# Data Understanding\n",
    "## Data Quality\n",
    "Now we're going to analyze the quality of the data we were given.\n"
   ]
  },
  {
   "cell_type": "markdown",
   "metadata": {},
   "source": [
    "## Data Summarization\n",
    "In this section, we will provide an overview of key properties of the data which will help in selecting the most suitable tool for analyzing the data. Specifically, we are going to do a statistical analysis of all tables in the dataset. But first we need to import pandas and matplotlib which will aid us in the calculation of statistical values and data visualization, respectively."
   ]
  },
  {
   "cell_type": "code",
   "execution_count": 51,
   "metadata": {},
   "outputs": [],
   "source": [
    "import matplotlib.pyplot as plt\n",
    "import pandas as pd"
   ]
  },
  {
   "cell_type": "markdown",
   "metadata": {},
   "source": [
    "### Relation `account`\n",
    "Firstly, we are going to open the account table and look at its first few lines. \n",
    "\n",
    "As we can see there is one categorical variable representing how often account balances are issued for each account. All other variables are numerical as they correspond to account and district IDs or the timestamp of account creation."
   ]
  },
  {
   "cell_type": "code",
   "execution_count": 52,
   "metadata": {},
   "outputs": [
    {
     "data": {
      "text/html": [
       "<div>\n",
       "<style scoped>\n",
       "    .dataframe tbody tr th:only-of-type {\n",
       "        vertical-align: middle;\n",
       "    }\n",
       "\n",
       "    .dataframe tbody tr th {\n",
       "        vertical-align: top;\n",
       "    }\n",
       "\n",
       "    .dataframe thead th {\n",
       "        text-align: right;\n",
       "    }\n",
       "</style>\n",
       "<table border=\"1\" class=\"dataframe\">\n",
       "  <thead>\n",
       "    <tr style=\"text-align: right;\">\n",
       "      <th></th>\n",
       "      <th>account_id</th>\n",
       "      <th>district_id</th>\n",
       "      <th>frequency</th>\n",
       "      <th>date</th>\n",
       "    </tr>\n",
       "  </thead>\n",
       "  <tbody>\n",
       "    <tr>\n",
       "      <th>0</th>\n",
       "      <td>576</td>\n",
       "      <td>55</td>\n",
       "      <td>monthly issuance</td>\n",
       "      <td>930101</td>\n",
       "    </tr>\n",
       "    <tr>\n",
       "      <th>1</th>\n",
       "      <td>3818</td>\n",
       "      <td>74</td>\n",
       "      <td>monthly issuance</td>\n",
       "      <td>930101</td>\n",
       "    </tr>\n",
       "    <tr>\n",
       "      <th>2</th>\n",
       "      <td>704</td>\n",
       "      <td>55</td>\n",
       "      <td>monthly issuance</td>\n",
       "      <td>930101</td>\n",
       "    </tr>\n",
       "    <tr>\n",
       "      <th>3</th>\n",
       "      <td>2378</td>\n",
       "      <td>16</td>\n",
       "      <td>monthly issuance</td>\n",
       "      <td>930101</td>\n",
       "    </tr>\n",
       "    <tr>\n",
       "      <th>4</th>\n",
       "      <td>2632</td>\n",
       "      <td>24</td>\n",
       "      <td>monthly issuance</td>\n",
       "      <td>930102</td>\n",
       "    </tr>\n",
       "  </tbody>\n",
       "</table>\n",
       "</div>"
      ],
      "text/plain": [
       "   account_id  district_id         frequency    date\n",
       "0         576           55  monthly issuance  930101\n",
       "1        3818           74  monthly issuance  930101\n",
       "2         704           55  monthly issuance  930101\n",
       "3        2378           16  monthly issuance  930101\n",
       "4        2632           24  monthly issuance  930102"
      ]
     },
     "execution_count": 52,
     "metadata": {},
     "output_type": "execute_result"
    }
   ],
   "source": [
    "# show the first few lines of the dataframe\n",
    "account_df = pd.read_csv('./data/account.csv', sep=';')\n",
    "account_df.head()"
   ]
  },
  {
   "cell_type": "markdown",
   "metadata": {},
   "source": [
    "Now, we are going to check for null values in the account table. The output of the following snippet of code shows there are no such values."
   ]
  },
  {
   "cell_type": "code",
   "execution_count": 53,
   "metadata": {},
   "outputs": [
    {
     "data": {
      "text/plain": [
       "account_id     0\n",
       "district_id    0\n",
       "frequency      0\n",
       "date           0\n",
       "dtype: int64"
      ]
     },
     "execution_count": 53,
     "metadata": {},
     "output_type": "execute_result"
    }
   ],
   "source": [
    "# show how many null values each column has\n",
    "account_df.isna().sum()"
   ]
  },
  {
   "cell_type": "markdown",
   "metadata": {},
   "source": [
    "Next, we are going to make sure that each account appears exactly once. The output of the following snippet of code shows that each account appears exactly once."
   ]
  },
  {
   "cell_type": "code",
   "execution_count": 54,
   "metadata": {},
   "outputs": [
    {
     "data": {
      "text/plain": [
       "False"
      ]
     },
     "execution_count": 54,
     "metadata": {},
     "output_type": "execute_result"
    }
   ],
   "source": [
    "# show the number of duplicate values in the account_id column\n",
    "account_df['account_id'].duplicated().any()"
   ]
  },
  {
   "cell_type": "markdown",
   "metadata": {},
   "source": [
    "Now, we are going to calculate how many accounts exist in each district and the mode. As we can see from the output of the following snippets of code, the district where the highest number of accounts are registered in is district 1, having 3.6 times the number of accounts as the next district. In fact the boxplot shows that there are 7 outliers (districts 1, 70, 74, 54, 64, 72, 68), given that the average district has 58 accounts, the first quartile is at 42 and the third quartile is at 53 which gives an interquartile range of 11. These districts will skew the data if no correction is done."
   ]
  },
  {
   "cell_type": "code",
   "execution_count": 55,
   "metadata": {},
   "outputs": [
    {
     "data": {
      "image/png": "[encoded data removed]",
      "text/plain": [
       "<Figure size 1440x216 with 1 Axes>"
      ]
     },
     "metadata": {
      "needs_background": "light"
     },
     "output_type": "display_data"
    }
   ],
   "source": [
    "# plot the distribution of accounts in each district\n",
    "district_values = account_df['district_id'].value_counts()\n",
    "ax = district_values.sort_values(ascending=False).plot.bar(\n",
    "    title='district_id',\n",
    "    legend=True,\n",
    "    xlabel='district id',\n",
    "    ylabel='number of accounts in district',\n",
    "    figsize=(20, 3)\n",
    ")\n",
    "ax.bar_label(ax.containers[0])\n",
    "plt.show()"
   ]
  },
  {
   "cell_type": "code",
   "execution_count": 56,
   "metadata": {},
   "outputs": [
    {
     "data": {
      "text/plain": [
       "0    1\n",
       "dtype: int64"
      ]
     },
     "execution_count": 56,
     "metadata": {},
     "output_type": "execute_result"
    }
   ],
   "source": [
    "# compute the mode of the district_id (the district with the highest number of accounts)\n",
    "account_df['district_id'].mode()"
   ]
  },
  {
   "cell_type": "code",
   "execution_count": 57,
   "metadata": {},
   "outputs": [
    {
     "data": {
      "text/plain": [
       "count     77.000000\n",
       "mean      58.441558\n",
       "std       60.716445\n",
       "min       32.000000\n",
       "25%       42.000000\n",
       "50%       48.000000\n",
       "75%       53.000000\n",
       "max      554.000000\n",
       "Name: district_id, dtype: float64"
      ]
     },
     "execution_count": 57,
     "metadata": {},
     "output_type": "execute_result"
    }
   ],
   "source": [
    "# compute the count, mean, standard deviation, minimum and maximum and quartiles for the number of accoutns in each district\n",
    "acc_description = district_values.describe()\n",
    "acc_description"
   ]
  },
  {
   "cell_type": "code",
   "execution_count": 58,
   "metadata": {},
   "outputs": [
    {
     "data": {
      "text/plain": [
       "<AxesSubplot:>"
      ]
     },
     "execution_count": 58,
     "metadata": {},
     "output_type": "execute_result"
    },
    {
     "data": {
      "image/png": "[encoded data removed]",
      "text/plain": [
       "<Figure size 432x288 with 1 Axes>"
      ]
     },
     "metadata": {
      "needs_background": "light"
     },
     "output_type": "display_data"
    }
   ],
   "source": [
    "# draw a boxplot of the number of accounts in each district to show the outliers\n",
    "account_df['district_id'].value_counts().plot.box()"
   ]
  },
  {
   "cell_type": "markdown",
   "metadata": {},
   "source": [
    "Now, we are going to calculate the mode of the issuance column which shows that the most common frequency for issuance of bank statements is `monthly issuance`, with 4167 occurrences. Other types of issuance include `weekly issuance` with 240 entries and `ìssuance after transaction` with 93 entries."
   ]
  },
  {
   "cell_type": "code",
   "execution_count": 59,
   "metadata": {},
   "outputs": [
    {
     "data": {
      "text/plain": [
       "0    monthly issuance\n",
       "dtype: object"
      ]
     },
     "execution_count": 59,
     "metadata": {},
     "output_type": "execute_result"
    }
   ],
   "source": [
    "# calculate the most common frequency for issuance of bank statements\n",
    "account_df['frequency'].mode()"
   ]
  },
  {
   "cell_type": "code",
   "execution_count": 60,
   "metadata": {},
   "outputs": [
    {
     "data": {
      "image/png": "[encoded data removed]",
      "text/plain": [
       "<Figure size 432x288 with 1 Axes>"
      ]
     },
     "metadata": {
      "needs_background": "light"
     },
     "output_type": "display_data"
    }
   ],
   "source": [
    "# draw a barplot of the number of occurrences of each frequency\n",
    "freq_values = account_df['frequency'].value_counts()\n",
    "ax = freq_values.sort_values(ascending=False).plot.bar(\n",
    "    title='frequency',\n",
    "    legend=True,\n",
    "    xlabel='frequency',\n",
    "    ylabel='number of accounts with frequency',\n",
    ")\n",
    "ax.bar_label(ax.containers[0])\n",
    "plt.show()"
   ]
  },
  {
   "cell_type": "markdown",
   "metadata": {},
   "source": [
    "## Relation `client`\n",
    "We are now going to open the client table and look at its first few lines. \n",
    "\n",
    "As we can see this table only contains numerical variables: the ID of the client and the district where they live, as well as a birth number which not only encodes the client's birth date but also their gender (for men, the format is YYMMDD and for women, the format is YYMM+50DD). "
   ]
  },
  {
   "cell_type": "code",
   "execution_count": 61,
   "metadata": {},
   "outputs": [
    {
     "data": {
      "text/html": [
       "<div>\n",
       "<style scoped>\n",
       "    .dataframe tbody tr th:only-of-type {\n",
       "        vertical-align: middle;\n",
       "    }\n",
       "\n",
       "    .dataframe tbody tr th {\n",
       "        vertical-align: top;\n",
       "    }\n",
       "\n",
       "    .dataframe thead th {\n",
       "        text-align: right;\n",
       "    }\n",
       "</style>\n",
       "<table border=\"1\" class=\"dataframe\">\n",
       "  <thead>\n",
       "    <tr style=\"text-align: right;\">\n",
       "      <th></th>\n",
       "      <th>client_id</th>\n",
       "      <th>birth_number</th>\n",
       "      <th>district_id</th>\n",
       "    </tr>\n",
       "  </thead>\n",
       "  <tbody>\n",
       "    <tr>\n",
       "      <th>0</th>\n",
       "      <td>1</td>\n",
       "      <td>706213</td>\n",
       "      <td>18</td>\n",
       "    </tr>\n",
       "    <tr>\n",
       "      <th>1</th>\n",
       "      <td>2</td>\n",
       "      <td>450204</td>\n",
       "      <td>1</td>\n",
       "    </tr>\n",
       "    <tr>\n",
       "      <th>2</th>\n",
       "      <td>3</td>\n",
       "      <td>406009</td>\n",
       "      <td>1</td>\n",
       "    </tr>\n",
       "    <tr>\n",
       "      <th>3</th>\n",
       "      <td>4</td>\n",
       "      <td>561201</td>\n",
       "      <td>5</td>\n",
       "    </tr>\n",
       "    <tr>\n",
       "      <th>4</th>\n",
       "      <td>5</td>\n",
       "      <td>605703</td>\n",
       "      <td>5</td>\n",
       "    </tr>\n",
       "  </tbody>\n",
       "</table>\n",
       "</div>"
      ],
      "text/plain": [
       "   client_id  birth_number  district_id\n",
       "0          1        706213           18\n",
       "1          2        450204            1\n",
       "2          3        406009            1\n",
       "3          4        561201            5\n",
       "4          5        605703            5"
      ]
     },
     "execution_count": 61,
     "metadata": {},
     "output_type": "execute_result"
    }
   ],
   "source": [
    "# show the first few lines of the dataframe\n",
    "client_df = pd.read_csv('./data/client.csv', sep=';')\n",
    "client_df.head()"
   ]
  },
  {
   "cell_type": "markdown",
   "metadata": {},
   "source": [
    "Now, we are going to check for null values in the client table. The output of the following snippets of code shows there are no such values and that there are no repeated clients."
   ]
  },
  {
   "cell_type": "code",
   "execution_count": 62,
   "metadata": {},
   "outputs": [
    {
     "data": {
      "text/plain": [
       "client_id       0\n",
       "birth_number    0\n",
       "district_id     0\n",
       "dtype: int64"
      ]
     },
     "execution_count": 62,
     "metadata": {},
     "output_type": "execute_result"
    }
   ],
   "source": [
    "# show how many null values each column has\n",
    "client_df.isna().sum()"
   ]
  },
  {
   "cell_type": "code",
   "execution_count": 63,
   "metadata": {},
   "outputs": [
    {
     "data": {
      "text/plain": [
       "False"
      ]
     },
     "execution_count": 63,
     "metadata": {},
     "output_type": "execute_result"
    }
   ],
   "source": [
    "# show the number of duplicate values in the client_id column\n",
    "client_df['client_id'].duplicated().any()"
   ]
  },
  {
   "cell_type": "code",
   "execution_count": 64,
   "metadata": {},
   "outputs": [
    {
     "data": {
      "text/plain": [
       "count     77.000000\n",
       "mean      69.727273\n",
       "std       72.741727\n",
       "min       43.000000\n",
       "25%       51.000000\n",
       "50%       56.000000\n",
       "75%       63.000000\n",
       "max      663.000000\n",
       "Name: district_id, dtype: float64"
      ]
     },
     "execution_count": 64,
     "metadata": {},
     "output_type": "execute_result"
    }
   ],
   "source": [
    "# compute the count, mean, standard deviation, minimum and maximum and quartiles for the number of clients in each district\n",
    "client_df['district_id'].value_counts().describe()"
   ]
  },
  {
   "cell_type": "markdown",
   "metadata": {},
   "source": [
    "## Relation `disposition`\n",
    "We are now going to open the disposition table and look at its first few lines. \n",
    "\n",
    "As we can see this table contains numerical variables: the ID of the client and of the account, as well as the disposition ID. This table also contains a categorical variable containing the type of disposition (`OWNER`, `DISPONENT`). This table contains no null values. There are 4500 owners and 869 disponents."
   ]
  },
  {
   "cell_type": "code",
   "execution_count": 65,
   "metadata": {},
   "outputs": [
    {
     "data": {
      "text/html": [
       "<div>\n",
       "<style scoped>\n",
       "    .dataframe tbody tr th:only-of-type {\n",
       "        vertical-align: middle;\n",
       "    }\n",
       "\n",
       "    .dataframe tbody tr th {\n",
       "        vertical-align: top;\n",
       "    }\n",
       "\n",
       "    .dataframe thead th {\n",
       "        text-align: right;\n",
       "    }\n",
       "</style>\n",
       "<table border=\"1\" class=\"dataframe\">\n",
       "  <thead>\n",
       "    <tr style=\"text-align: right;\">\n",
       "      <th></th>\n",
       "      <th>disp_id</th>\n",
       "      <th>client_id</th>\n",
       "      <th>account_id</th>\n",
       "      <th>type</th>\n",
       "    </tr>\n",
       "  </thead>\n",
       "  <tbody>\n",
       "    <tr>\n",
       "      <th>0</th>\n",
       "      <td>1</td>\n",
       "      <td>1</td>\n",
       "      <td>1</td>\n",
       "      <td>OWNER</td>\n",
       "    </tr>\n",
       "    <tr>\n",
       "      <th>1</th>\n",
       "      <td>2</td>\n",
       "      <td>2</td>\n",
       "      <td>2</td>\n",
       "      <td>OWNER</td>\n",
       "    </tr>\n",
       "    <tr>\n",
       "      <th>2</th>\n",
       "      <td>3</td>\n",
       "      <td>3</td>\n",
       "      <td>2</td>\n",
       "      <td>DISPONENT</td>\n",
       "    </tr>\n",
       "    <tr>\n",
       "      <th>3</th>\n",
       "      <td>4</td>\n",
       "      <td>4</td>\n",
       "      <td>3</td>\n",
       "      <td>OWNER</td>\n",
       "    </tr>\n",
       "    <tr>\n",
       "      <th>4</th>\n",
       "      <td>5</td>\n",
       "      <td>5</td>\n",
       "      <td>3</td>\n",
       "      <td>DISPONENT</td>\n",
       "    </tr>\n",
       "  </tbody>\n",
       "</table>\n",
       "</div>"
      ],
      "text/plain": [
       "   disp_id  client_id  account_id       type\n",
       "0        1          1           1      OWNER\n",
       "1        2          2           2      OWNER\n",
       "2        3          3           2  DISPONENT\n",
       "3        4          4           3      OWNER\n",
       "4        5          5           3  DISPONENT"
      ]
     },
     "execution_count": 65,
     "metadata": {},
     "output_type": "execute_result"
    }
   ],
   "source": [
    "# show the first few lines of the dataframe\n",
    "disp_df = pd.read_csv('./data/disp.csv', sep=';')\n",
    "disp_df.head()"
   ]
  },
  {
   "cell_type": "code",
   "execution_count": 66,
   "metadata": {},
   "outputs": [
    {
     "data": {
      "text/plain": [
       "disp_id       0\n",
       "client_id     0\n",
       "account_id    0\n",
       "type          0\n",
       "dtype: int64"
      ]
     },
     "execution_count": 66,
     "metadata": {},
     "output_type": "execute_result"
    }
   ],
   "source": [
    "# show how many null values each column has\n",
    "disp_df.isna().sum()"
   ]
  },
  {
   "cell_type": "code",
   "execution_count": 67,
   "metadata": {},
   "outputs": [
    {
     "data": {
      "text/plain": [
       "array(['OWNER', 'DISPONENT'], dtype=object)"
      ]
     },
     "execution_count": 67,
     "metadata": {},
     "output_type": "execute_result"
    }
   ],
   "source": [
    "# show the types of disponent in the dataset\n",
    "disp_df['type'].unique()"
   ]
  },
  {
   "cell_type": "code",
   "execution_count": 68,
   "metadata": {},
   "outputs": [
    {
     "name": "stdout",
     "output_type": "stream",
     "text": [
      "OWNER        4500\n",
      "DISPONENT     869\n",
      "Name: type, dtype: int64\n"
     ]
    },
    {
     "data": {
      "image/png": "[encoded data removed]",
      "text/plain": [
       "<Figure size 432x288 with 1 Axes>"
      ]
     },
     "metadata": {
      "needs_background": "light"
     },
     "output_type": "display_data"
    }
   ],
   "source": [
    "# draw a barplot of the number of occurrences of each disposition type\n",
    "type_values = disp_df['type'].value_counts()\n",
    "print(type_values)\n",
    "ax = type_values.sort_values(ascending=False).plot.bar(\n",
    "    title='district_id',\n",
    "    legend=True,\n",
    "    xlabel='district id',\n",
    "    ylabel='number of disponent types',\n",
    ")\n",
    "ax.bar_label(ax.containers[0])\n",
    "plt.show()"
   ]
  },
  {
   "cell_type": "markdown",
   "metadata": {},
   "source": [
    "## Relations `transaction` and `permanent order`\n",
    "The permanent order relation is included in the transaction table, specifically, in rows that contain the two-letter code of the destination bank of a transaction. Other rows that do not correspond to permanent orders do not contain these attributes, which explains the large number of null values in this table.\n",
    "This relation is split between two tables, a dataset for training purposes and another one for testing purposes. However for the purpose of this analysis we will append them together.\n",
    "\n",
    "There are three transaction types (categorical variables): `credit`, `withdrawal` and `withdrawal in cash`. The most common transaction type is `credit`. \n",
    "There are five operation types (categorical variables): `credit in cash`, `collection from another bank`, `withdrawal in cash`, `remittance to another bank`, `credit card withdrawal`. The most common operation type is `withdrawal in cash`.\n",
    "\n",
    "The mean transaction amount is 5911.10, the minimum transaction amount is 0 and the maximum transaction amount is 86400. The box plot shows that there are many outliers to this distribution, given that the interquartile range is 6615.6."
   ]
  },
  {
   "cell_type": "code",
   "execution_count": 69,
   "metadata": {},
   "outputs": [
    {
     "data": {
      "text/html": [
       "<div>\n",
       "<style scoped>\n",
       "    .dataframe tbody tr th:only-of-type {\n",
       "        vertical-align: middle;\n",
       "    }\n",
       "\n",
       "    .dataframe tbody tr th {\n",
       "        vertical-align: top;\n",
       "    }\n",
       "\n",
       "    .dataframe thead th {\n",
       "        text-align: right;\n",
       "    }\n",
       "</style>\n",
       "<table border=\"1\" class=\"dataframe\">\n",
       "  <thead>\n",
       "    <tr style=\"text-align: right;\">\n",
       "      <th></th>\n",
       "      <th>trans_id</th>\n",
       "      <th>account_id</th>\n",
       "      <th>date</th>\n",
       "      <th>type</th>\n",
       "      <th>operation</th>\n",
       "      <th>amount</th>\n",
       "      <th>balance</th>\n",
       "      <th>k_symbol</th>\n",
       "      <th>bank</th>\n",
       "      <th>account</th>\n",
       "    </tr>\n",
       "  </thead>\n",
       "  <tbody>\n",
       "    <tr>\n",
       "      <th>0</th>\n",
       "      <td>1548749</td>\n",
       "      <td>5270</td>\n",
       "      <td>930113</td>\n",
       "      <td>credit</td>\n",
       "      <td>credit in cash</td>\n",
       "      <td>800.0</td>\n",
       "      <td>800.0</td>\n",
       "      <td>NaN</td>\n",
       "      <td>NaN</td>\n",
       "      <td>NaN</td>\n",
       "    </tr>\n",
       "    <tr>\n",
       "      <th>1</th>\n",
       "      <td>1548750</td>\n",
       "      <td>5270</td>\n",
       "      <td>930114</td>\n",
       "      <td>credit</td>\n",
       "      <td>collection from another bank</td>\n",
       "      <td>44749.0</td>\n",
       "      <td>45549.0</td>\n",
       "      <td>NaN</td>\n",
       "      <td>IJ</td>\n",
       "      <td>80269753.0</td>\n",
       "    </tr>\n",
       "    <tr>\n",
       "      <th>2</th>\n",
       "      <td>3393738</td>\n",
       "      <td>11265</td>\n",
       "      <td>930114</td>\n",
       "      <td>credit</td>\n",
       "      <td>credit in cash</td>\n",
       "      <td>1000.0</td>\n",
       "      <td>1000.0</td>\n",
       "      <td>NaN</td>\n",
       "      <td>NaN</td>\n",
       "      <td>NaN</td>\n",
       "    </tr>\n",
       "    <tr>\n",
       "      <th>3</th>\n",
       "      <td>3122924</td>\n",
       "      <td>10364</td>\n",
       "      <td>930117</td>\n",
       "      <td>credit</td>\n",
       "      <td>credit in cash</td>\n",
       "      <td>1100.0</td>\n",
       "      <td>1100.0</td>\n",
       "      <td>NaN</td>\n",
       "      <td>NaN</td>\n",
       "      <td>NaN</td>\n",
       "    </tr>\n",
       "    <tr>\n",
       "      <th>4</th>\n",
       "      <td>1121963</td>\n",
       "      <td>3834</td>\n",
       "      <td>930119</td>\n",
       "      <td>credit</td>\n",
       "      <td>credit in cash</td>\n",
       "      <td>700.0</td>\n",
       "      <td>700.0</td>\n",
       "      <td>NaN</td>\n",
       "      <td>NaN</td>\n",
       "      <td>NaN</td>\n",
       "    </tr>\n",
       "  </tbody>\n",
       "</table>\n",
       "</div>"
      ],
      "text/plain": [
       "   trans_id  account_id    date    type                     operation  \\\n",
       "0   1548749        5270  930113  credit                credit in cash   \n",
       "1   1548750        5270  930114  credit  collection from another bank   \n",
       "2   3393738       11265  930114  credit                credit in cash   \n",
       "3   3122924       10364  930117  credit                credit in cash   \n",
       "4   1121963        3834  930119  credit                credit in cash   \n",
       "\n",
       "    amount  balance k_symbol bank     account  \n",
       "0    800.0    800.0      NaN  NaN         NaN  \n",
       "1  44749.0  45549.0      NaN   IJ  80269753.0  \n",
       "2   1000.0   1000.0      NaN  NaN         NaN  \n",
       "3   1100.0   1100.0      NaN  NaN         NaN  \n",
       "4    700.0    700.0      NaN  NaN         NaN  "
      ]
     },
     "execution_count": 69,
     "metadata": {},
     "output_type": "execute_result"
    }
   ],
   "source": [
    "# show the first few lines of the dataframe\n",
    "trans_train_df = pd.read_csv('./data/trans_train.csv', sep=';', dtype={'k_symbol': str, 'bank': str})\n",
    "trans_test_df = pd.read_csv('./data/trans_test.csv', sep=';', dtype={'k_symbol': str, 'bank': str})\n",
    "trans_df = trans_train_df.append(trans_test_df)\n",
    "trans_df.head()"
   ]
  },
  {
   "cell_type": "code",
   "execution_count": 70,
   "metadata": {},
   "outputs": [
    {
     "data": {
      "text/plain": [
       "trans_id           0\n",
       "account_id         0\n",
       "date               0\n",
       "type               0\n",
       "operation      75891\n",
       "amount             0\n",
       "balance            0\n",
       "k_symbol      202663\n",
       "bank          323820\n",
       "account       315517\n",
       "dtype: int64"
      ]
     },
     "execution_count": 70,
     "metadata": {},
     "output_type": "execute_result"
    }
   ],
   "source": [
    "# show how many null values each column has\n",
    "trans_df.isna().sum()"
   ]
  },
  {
   "cell_type": "code",
   "execution_count": 71,
   "metadata": {},
   "outputs": [
    {
     "data": {
      "text/plain": [
       "array(['credit', 'withdrawal', 'withdrawal in cash'], dtype=object)"
      ]
     },
     "execution_count": 71,
     "metadata": {},
     "output_type": "execute_result"
    }
   ],
   "source": [
    "# show the unique categories of transaction types\n",
    "trans_df['type'].unique()"
   ]
  },
  {
   "cell_type": "code",
   "execution_count": 72,
   "metadata": {},
   "outputs": [
    {
     "data": {
      "text/plain": [
       "0    withdrawal\n",
       "dtype: object"
      ]
     },
     "execution_count": 72,
     "metadata": {},
     "output_type": "execute_result"
    }
   ],
   "source": [
    "# show the most common transaction type\n",
    "trans_df['type'].mode()"
   ]
  },
  {
   "cell_type": "code",
   "execution_count": 73,
   "metadata": {},
   "outputs": [
    {
     "data": {
      "text/plain": [
       "array(['credit in cash', 'collection from another bank', nan,\n",
       "       'withdrawal in cash', 'remittance to another bank',\n",
       "       'credit card withdrawal'], dtype=object)"
      ]
     },
     "execution_count": 73,
     "metadata": {},
     "output_type": "execute_result"
    }
   ],
   "source": [
    "# show the unique categories of transaction operation\n",
    "trans_df['operation'].unique()"
   ]
  },
  {
   "cell_type": "code",
   "execution_count": 74,
   "metadata": {},
   "outputs": [
    {
     "data": {
      "text/plain": [
       "0    withdrawal in cash\n",
       "dtype: object"
      ]
     },
     "execution_count": 74,
     "metadata": {},
     "output_type": "execute_result"
    }
   ],
   "source": [
    "# show the most common transaction operation\n",
    "trans_df['operation'].mode()"
   ]
  },
  {
   "cell_type": "code",
   "execution_count": 75,
   "metadata": {},
   "outputs": [
    {
     "data": {
      "text/plain": [
       "count    426885.000000\n",
       "mean       5911.104212\n",
       "std        9496.324833\n",
       "min           0.000000\n",
       "25%         132.400000\n",
       "50%        2040.000000\n",
       "75%        6748.000000\n",
       "max       86400.000000\n",
       "Name: amount, dtype: float64"
      ]
     },
     "execution_count": 75,
     "metadata": {},
     "output_type": "execute_result"
    }
   ],
   "source": [
    "# compute the count, mean, standard deviation, minimum and maximum and quartiles for the amount of money in a transaction\n",
    "trans_df['amount'].describe()"
   ]
  },
  {
   "cell_type": "code",
   "execution_count": 128,
   "metadata": {},
   "outputs": [
    {
     "data": {
      "image/png": "[encoded data removed]",
      "text/plain": [
       "<Figure size 432x288 with 1 Axes>"
      ]
     },
     "metadata": {
      "needs_background": "light"
     },
     "output_type": "display_data"
    }
   ],
   "source": [
    "# plot a histogram of the distribution of transaction amounts\n",
    "trans_df['amount'].plot.hist(bins=25)\n",
    "plt.xlabel('transaction amount')\n",
    "plt.show()"
   ]
  },
  {
   "cell_type": "code",
   "execution_count": 77,
   "metadata": {},
   "outputs": [
    {
     "data": {
      "text/plain": [
       "<AxesSubplot:>"
      ]
     },
     "execution_count": 77,
     "metadata": {},
     "output_type": "execute_result"
    },
    {
     "data": {
      "image/png": "[encoded data removed]",
      "text/plain": [
       "<Figure size 432x288 with 1 Axes>"
      ]
     },
     "metadata": {
      "needs_background": "light"
     },
     "output_type": "display_data"
    }
   ],
   "source": [
    "# draw a boxplot of the distribution of transaction amounts\n",
    "trans_df['amount'].plot.box()"
   ]
  },
  {
   "cell_type": "code",
   "execution_count": 127,
   "metadata": {},
   "outputs": [
    {
     "data": {
      "image/png": "[encoded data removed]",
      "text/plain": [
       "<Figure size 432x288 with 1 Axes>"
      ]
     },
     "metadata": {
      "needs_background": "light"
     },
     "output_type": "display_data"
    }
   ],
   "source": [
    "trans_df['balance'].plot.hist()\n",
    "plt.xlabel('balance after transaction')\n",
    "plt.show()"
   ]
  },
  {
   "cell_type": "code",
   "execution_count": 118,
   "metadata": {},
   "outputs": [
    {
     "data": {
      "image/png": "[encoded data removed]",
      "text/plain": [
       "<Figure size 720x720 with 1 Axes>"
      ]
     },
     "metadata": {
      "needs_background": "light"
     },
     "output_type": "display_data"
    }
   ],
   "source": [
    "plt.figure(figsize=(10,10))\n",
    "plt.scatter(trans_df['balance'], trans_df['amount'], edgecolors='b')\n",
    "plt.xlabel('balance after transaction')\n",
    "plt.ylabel('transaction amount')\n",
    "plt.show()"
   ]
  },
  {
   "cell_type": "markdown",
   "metadata": {},
   "source": [
    "## Relation `loan`\n",
    "We are now going to open the loan table and look at its first few lines. This relation is split between two tables, one for training purposes and another one for testing purposes. However for the purpose of this analysis we will append them.\n",
    "\n",
    "This table contains numerical variables representing the IDs for the loans and the accounts that requested them as well as the date of the day the loan was granted and the amount of money borrowed. Each row also has information on the number of payments made on the loan and the duration of the loan. Because the purpose of this project is to predict whether a loan will be paid or not, this table contains the `status` attribute which, for the train table, says if the loan has been paid or not. This attribute is empty for the test table because it is what we want to predict.\n",
    "\n",
    "Loans can have a duration of 12, 36, 60, 24 or 48 months. The average loan duration is 36 months.\n",
    "\n",
    "As expected, there are 354 null values in the table, all in the status column, which corresponds to the number of rows in the test table.\n",
    "\n",
    "Also as expected, the correlogram shows a significant positive correlation between the amount of the loan and the number of payments.\n",
    "\n",
    "The average loan amount is 151410.17 with a standard deviation of 113372.40, the smallest loan has an amount of 4980 and the largest, an amount of 590820.\n",
    "The average payment is 4190.66 with a standard deviation of 2215.83, the smallest payment is 304 and the largest is 9910.\n",
    "\n",
    "The boxplot for the ``amount`` column shows that there are many outliers but the boxplot for the ``payments`` column shows none. The amount column seems to follow a Pareto distribution."
   ]
  },
  {
   "cell_type": "code",
   "execution_count": 78,
   "metadata": {},
   "outputs": [
    {
     "data": {
      "text/html": [
       "<div>\n",
       "<style scoped>\n",
       "    .dataframe tbody tr th:only-of-type {\n",
       "        vertical-align: middle;\n",
       "    }\n",
       "\n",
       "    .dataframe tbody tr th {\n",
       "        vertical-align: top;\n",
       "    }\n",
       "\n",
       "    .dataframe thead th {\n",
       "        text-align: right;\n",
       "    }\n",
       "</style>\n",
       "<table border=\"1\" class=\"dataframe\">\n",
       "  <thead>\n",
       "    <tr style=\"text-align: right;\">\n",
       "      <th></th>\n",
       "      <th>loan_id</th>\n",
       "      <th>account_id</th>\n",
       "      <th>date</th>\n",
       "      <th>amount</th>\n",
       "      <th>duration</th>\n",
       "      <th>payments</th>\n",
       "      <th>status</th>\n",
       "    </tr>\n",
       "  </thead>\n",
       "  <tbody>\n",
       "    <tr>\n",
       "      <th>0</th>\n",
       "      <td>5314</td>\n",
       "      <td>1787</td>\n",
       "      <td>930705</td>\n",
       "      <td>96396</td>\n",
       "      <td>12</td>\n",
       "      <td>8033</td>\n",
       "      <td>-1.0</td>\n",
       "    </tr>\n",
       "    <tr>\n",
       "      <th>1</th>\n",
       "      <td>5316</td>\n",
       "      <td>1801</td>\n",
       "      <td>930711</td>\n",
       "      <td>165960</td>\n",
       "      <td>36</td>\n",
       "      <td>4610</td>\n",
       "      <td>1.0</td>\n",
       "    </tr>\n",
       "    <tr>\n",
       "      <th>2</th>\n",
       "      <td>6863</td>\n",
       "      <td>9188</td>\n",
       "      <td>930728</td>\n",
       "      <td>127080</td>\n",
       "      <td>60</td>\n",
       "      <td>2118</td>\n",
       "      <td>1.0</td>\n",
       "    </tr>\n",
       "    <tr>\n",
       "      <th>3</th>\n",
       "      <td>5325</td>\n",
       "      <td>1843</td>\n",
       "      <td>930803</td>\n",
       "      <td>105804</td>\n",
       "      <td>36</td>\n",
       "      <td>2939</td>\n",
       "      <td>1.0</td>\n",
       "    </tr>\n",
       "    <tr>\n",
       "      <th>4</th>\n",
       "      <td>7240</td>\n",
       "      <td>11013</td>\n",
       "      <td>930906</td>\n",
       "      <td>274740</td>\n",
       "      <td>60</td>\n",
       "      <td>4579</td>\n",
       "      <td>1.0</td>\n",
       "    </tr>\n",
       "  </tbody>\n",
       "</table>\n",
       "</div>"
      ],
      "text/plain": [
       "   loan_id  account_id    date  amount  duration  payments  status\n",
       "0     5314        1787  930705   96396        12      8033    -1.0\n",
       "1     5316        1801  930711  165960        36      4610     1.0\n",
       "2     6863        9188  930728  127080        60      2118     1.0\n",
       "3     5325        1843  930803  105804        36      2939     1.0\n",
       "4     7240       11013  930906  274740        60      4579     1.0"
      ]
     },
     "execution_count": 78,
     "metadata": {},
     "output_type": "execute_result"
    }
   ],
   "source": [
    "# show the first few lines of the dataframe\n",
    "loan_train_df = pd.read_csv('./data/loan_train.csv', sep=';')\n",
    "loan_test_df = pd.read_csv('./data/loan_test.csv', sep=';')\n",
    "loan_df = loan_train_df.append(loan_test_df)\n",
    "loan_df.head()"
   ]
  },
  {
   "cell_type": "code",
   "execution_count": 79,
   "metadata": {},
   "outputs": [
    {
     "data": {
      "text/plain": [
       "loan_id         0\n",
       "account_id      0\n",
       "date            0\n",
       "amount          0\n",
       "duration        0\n",
       "payments        0\n",
       "status        354\n",
       "dtype: int64"
      ]
     },
     "execution_count": 79,
     "metadata": {},
     "output_type": "execute_result"
    }
   ],
   "source": [
    "# show how many null values each column has\n",
    "loan_df.isna().sum()"
   ]
  },
  {
   "cell_type": "code",
   "execution_count": 80,
   "metadata": {},
   "outputs": [
    {
     "data": {
      "text/plain": [
       "36.49266862170088"
      ]
     },
     "execution_count": 80,
     "metadata": {},
     "output_type": "execute_result"
    }
   ],
   "source": [
    "loan_df['duration'].mean()"
   ]
  },
  {
   "cell_type": "markdown",
   "metadata": {},
   "source": [
    "Now we will look at the ``amount`` column of the table."
   ]
  },
  {
   "cell_type": "code",
   "execution_count": 81,
   "metadata": {},
   "outputs": [
    {
     "data": {
      "text/html": [
       "<div>\n",
       "<style scoped>\n",
       "    .dataframe tbody tr th:only-of-type {\n",
       "        vertical-align: middle;\n",
       "    }\n",
       "\n",
       "    .dataframe tbody tr th {\n",
       "        vertical-align: top;\n",
       "    }\n",
       "\n",
       "    .dataframe thead th {\n",
       "        text-align: right;\n",
       "    }\n",
       "</style>\n",
       "<table border=\"1\" class=\"dataframe\">\n",
       "  <thead>\n",
       "    <tr style=\"text-align: right;\">\n",
       "      <th></th>\n",
       "      <th>loan_id</th>\n",
       "      <th>account_id</th>\n",
       "      <th>date</th>\n",
       "      <th>amount</th>\n",
       "      <th>duration</th>\n",
       "      <th>payments</th>\n",
       "      <th>status</th>\n",
       "    </tr>\n",
       "  </thead>\n",
       "  <tbody>\n",
       "    <tr>\n",
       "      <th>loan_id</th>\n",
       "      <td>1.000000</td>\n",
       "      <td>0.999860</td>\n",
       "      <td>-0.070908</td>\n",
       "      <td>-0.042968</td>\n",
       "      <td>0.010287</td>\n",
       "      <td>-0.056171</td>\n",
       "      <td>0.121917</td>\n",
       "    </tr>\n",
       "    <tr>\n",
       "      <th>account_id</th>\n",
       "      <td>0.999860</td>\n",
       "      <td>1.000000</td>\n",
       "      <td>-0.069932</td>\n",
       "      <td>-0.043268</td>\n",
       "      <td>0.009986</td>\n",
       "      <td>-0.056067</td>\n",
       "      <td>0.122633</td>\n",
       "    </tr>\n",
       "    <tr>\n",
       "      <th>date</th>\n",
       "      <td>-0.070908</td>\n",
       "      <td>-0.069932</td>\n",
       "      <td>1.000000</td>\n",
       "      <td>0.074214</td>\n",
       "      <td>0.088877</td>\n",
       "      <td>0.000727</td>\n",
       "      <td>0.029130</td>\n",
       "    </tr>\n",
       "    <tr>\n",
       "      <th>amount</th>\n",
       "      <td>-0.042968</td>\n",
       "      <td>-0.043268</td>\n",
       "      <td>0.074214</td>\n",
       "      <td>1.000000</td>\n",
       "      <td>0.612402</td>\n",
       "      <td>0.689481</td>\n",
       "      <td>-0.128237</td>\n",
       "    </tr>\n",
       "    <tr>\n",
       "      <th>duration</th>\n",
       "      <td>0.010287</td>\n",
       "      <td>0.009986</td>\n",
       "      <td>0.088877</td>\n",
       "      <td>0.612402</td>\n",
       "      <td>1.000000</td>\n",
       "      <td>-0.040189</td>\n",
       "      <td>-0.003537</td>\n",
       "    </tr>\n",
       "    <tr>\n",
       "      <th>payments</th>\n",
       "      <td>-0.056171</td>\n",
       "      <td>-0.056067</td>\n",
       "      <td>0.000727</td>\n",
       "      <td>0.689481</td>\n",
       "      <td>-0.040189</td>\n",
       "      <td>1.000000</td>\n",
       "      <td>-0.168436</td>\n",
       "    </tr>\n",
       "    <tr>\n",
       "      <th>status</th>\n",
       "      <td>0.121917</td>\n",
       "      <td>0.122633</td>\n",
       "      <td>0.029130</td>\n",
       "      <td>-0.128237</td>\n",
       "      <td>-0.003537</td>\n",
       "      <td>-0.168436</td>\n",
       "      <td>1.000000</td>\n",
       "    </tr>\n",
       "  </tbody>\n",
       "</table>\n",
       "</div>"
      ],
      "text/plain": [
       "             loan_id  account_id      date    amount  duration  payments  \\\n",
       "loan_id     1.000000    0.999860 -0.070908 -0.042968  0.010287 -0.056171   \n",
       "account_id  0.999860    1.000000 -0.069932 -0.043268  0.009986 -0.056067   \n",
       "date       -0.070908   -0.069932  1.000000  0.074214  0.088877  0.000727   \n",
       "amount     -0.042968   -0.043268  0.074214  1.000000  0.612402  0.689481   \n",
       "duration    0.010287    0.009986  0.088877  0.612402  1.000000 -0.040189   \n",
       "payments   -0.056171   -0.056067  0.000727  0.689481 -0.040189  1.000000   \n",
       "status      0.121917    0.122633  0.029130 -0.128237 -0.003537 -0.168436   \n",
       "\n",
       "              status  \n",
       "loan_id     0.121917  \n",
       "account_id  0.122633  \n",
       "date        0.029130  \n",
       "amount     -0.128237  \n",
       "duration   -0.003537  \n",
       "payments   -0.168436  \n",
       "status      1.000000  "
      ]
     },
     "execution_count": 81,
     "metadata": {},
     "output_type": "execute_result"
    }
   ],
   "source": [
    "corr = loan_df.corr()\n",
    "corr"
   ]
  },
  {
   "cell_type": "code",
   "execution_count": 82,
   "metadata": {},
   "outputs": [
    {
     "data": {
      "text/plain": [
       "<matplotlib.image.AxesImage at 0x1f3bf8ec1f0>"
      ]
     },
     "execution_count": 82,
     "metadata": {},
     "output_type": "execute_result"
    },
    {
     "data": {
      "image/png": "[encoded data removed]",
      "text/plain": [
       "<Figure size 288x288 with 1 Axes>"
      ]
     },
     "metadata": {
      "needs_background": "light"
     },
     "output_type": "display_data"
    }
   ],
   "source": [
    "plt.matshow(corr)"
   ]
  },
  {
   "cell_type": "code",
   "execution_count": 83,
   "metadata": {},
   "outputs": [
    {
     "data": {
      "text/plain": [
       "count       682.000000\n",
       "mean     151410.175953\n",
       "std      113372.406310\n",
       "min        4980.000000\n",
       "25%       66732.000000\n",
       "50%      116928.000000\n",
       "75%      210654.000000\n",
       "max      590820.000000\n",
       "Name: amount, dtype: float64"
      ]
     },
     "execution_count": 83,
     "metadata": {},
     "output_type": "execute_result"
    }
   ],
   "source": [
    "loan_df['amount'].describe()"
   ]
  },
  {
   "cell_type": "code",
   "execution_count": 123,
   "metadata": {},
   "outputs": [
    {
     "data": {
      "image/png": "[encoded data removed]",
      "text/plain": [
       "<Figure size 432x288 with 1 Axes>"
      ]
     },
     "metadata": {
      "needs_background": "light"
     },
     "output_type": "display_data"
    }
   ],
   "source": [
    "loan_df['amount'].plot.box()\n",
    "plt.xlabel('loan amount')\n",
    "plt.show()"
   ]
  },
  {
   "cell_type": "code",
   "execution_count": 114,
   "metadata": {},
   "outputs": [
    {
     "data": {
      "image/png": "[encoded data removed]",
      "text/plain": [
       "<Figure size 432x288 with 1 Axes>"
      ]
     },
     "metadata": {
      "needs_background": "light"
     },
     "output_type": "display_data"
    }
   ],
   "source": [
    "loan_df['amount'].plot.hist()\n",
    "plt.xlabel('loan amount')\n",
    "plt.show()"
   ]
  },
  {
   "cell_type": "markdown",
   "metadata": {},
   "source": [
    "Now we will look at the ``payments`` column of the table."
   ]
  },
  {
   "cell_type": "code",
   "execution_count": 86,
   "metadata": {},
   "outputs": [
    {
     "data": {
      "text/plain": [
       "count     682.000000\n",
       "mean     4190.664223\n",
       "std      2215.830344\n",
       "min       304.000000\n",
       "25%      2477.000000\n",
       "50%      3934.000000\n",
       "75%      5813.500000\n",
       "max      9910.000000\n",
       "Name: payments, dtype: float64"
      ]
     },
     "execution_count": 86,
     "metadata": {},
     "output_type": "execute_result"
    }
   ],
   "source": [
    "loan_df['payments'].describe()"
   ]
  },
  {
   "cell_type": "code",
   "execution_count": 122,
   "metadata": {},
   "outputs": [
    {
     "data": {
      "text/plain": [
       "Text(0.5, 0, 'number of payments')"
      ]
     },
     "execution_count": 122,
     "metadata": {},
     "output_type": "execute_result"
    },
    {
     "data": {
      "image/png": "[encoded data removed]",
      "text/plain": [
       "<Figure size 432x288 with 1 Axes>"
      ]
     },
     "metadata": {
      "needs_background": "light"
     },
     "output_type": "display_data"
    }
   ],
   "source": [
    "loan_df['payments'].plot.box()\n",
    "plt.xlabel('number of payments')"
   ]
  },
  {
   "cell_type": "code",
   "execution_count": 88,
   "metadata": {},
   "outputs": [
    {
     "data": {
      "text/plain": [
       "<AxesSubplot:ylabel='Frequency'>"
      ]
     },
     "execution_count": 88,
     "metadata": {},
     "output_type": "execute_result"
    },
    {
     "data": {
      "image/png": "[encoded data removed]",
      "text/plain": [
       "<Figure size 432x288 with 1 Axes>"
      ]
     },
     "metadata": {
      "needs_background": "light"
     },
     "output_type": "display_data"
    }
   ],
   "source": [
    "loan_df['payments'].plot.hist()"
   ]
  },
  {
   "cell_type": "code",
   "execution_count": 115,
   "metadata": {},
   "outputs": [
    {
     "data": {
      "image/png": "[encoded data removed]",
      "text/plain": [
       "<Figure size 432x288 with 1 Axes>"
      ]
     },
     "metadata": {
      "needs_background": "light"
     },
     "output_type": "display_data"
    }
   ],
   "source": [
    "plt.scatter(loan_df['duration'], loan_df['amount'], c=loan_df['amount'], cmap='viridis')\n",
    "plt.ylabel('loan amount')\n",
    "plt.xlabel('loan duration')\n",
    "plt.show()"
   ]
  },
  {
   "cell_type": "markdown",
   "metadata": {},
   "source": [
    "## Relation `credit card`\n",
    "We are now going to open the loan table and look at its first few lines. This relation is split between two tables, one for training purposes and another one for testing purposes. However for the purpose of this analysis we will append them.\n",
    "\n",
    "Each row in the table contains attributes describing a card. Each card is linked to a ``disp_id`` attribute that can be used to get the ID user that owns the card and the account it is associated to. There is also an attribute representing the type of card which can be one of ``classic``, ``junior`` or ``gold``. There are 254 ``classic`` cards, 82 ``junior`` cards and 18 ``gold`` cards. There are very few cards compared to the number of accounts."
   ]
  },
  {
   "cell_type": "code",
   "execution_count": 89,
   "metadata": {},
   "outputs": [
    {
     "data": {
      "text/html": [
       "<div>\n",
       "<style scoped>\n",
       "    .dataframe tbody tr th:only-of-type {\n",
       "        vertical-align: middle;\n",
       "    }\n",
       "\n",
       "    .dataframe tbody tr th {\n",
       "        vertical-align: top;\n",
       "    }\n",
       "\n",
       "    .dataframe thead th {\n",
       "        text-align: right;\n",
       "    }\n",
       "</style>\n",
       "<table border=\"1\" class=\"dataframe\">\n",
       "  <thead>\n",
       "    <tr style=\"text-align: right;\">\n",
       "      <th></th>\n",
       "      <th>card_id</th>\n",
       "      <th>disp_id</th>\n",
       "      <th>type</th>\n",
       "      <th>issued</th>\n",
       "    </tr>\n",
       "  </thead>\n",
       "  <tbody>\n",
       "    <tr>\n",
       "      <th>0</th>\n",
       "      <td>1005</td>\n",
       "      <td>9285</td>\n",
       "      <td>classic</td>\n",
       "      <td>931107</td>\n",
       "    </tr>\n",
       "    <tr>\n",
       "      <th>1</th>\n",
       "      <td>104</td>\n",
       "      <td>588</td>\n",
       "      <td>classic</td>\n",
       "      <td>940119</td>\n",
       "    </tr>\n",
       "    <tr>\n",
       "      <th>2</th>\n",
       "      <td>747</td>\n",
       "      <td>4915</td>\n",
       "      <td>classic</td>\n",
       "      <td>940205</td>\n",
       "    </tr>\n",
       "    <tr>\n",
       "      <th>3</th>\n",
       "      <td>70</td>\n",
       "      <td>439</td>\n",
       "      <td>classic</td>\n",
       "      <td>940208</td>\n",
       "    </tr>\n",
       "    <tr>\n",
       "      <th>4</th>\n",
       "      <td>577</td>\n",
       "      <td>3687</td>\n",
       "      <td>classic</td>\n",
       "      <td>940215</td>\n",
       "    </tr>\n",
       "  </tbody>\n",
       "</table>\n",
       "</div>"
      ],
      "text/plain": [
       "   card_id  disp_id     type  issued\n",
       "0     1005     9285  classic  931107\n",
       "1      104      588  classic  940119\n",
       "2      747     4915  classic  940205\n",
       "3       70      439  classic  940208\n",
       "4      577     3687  classic  940215"
      ]
     },
     "execution_count": 89,
     "metadata": {},
     "output_type": "execute_result"
    }
   ],
   "source": [
    "card_train_df = pd.read_csv('./data/card_train.csv', sep=';')\n",
    "card_test_df = pd.read_csv('./data/card_test.csv', sep=';')\n",
    "card_df = card_train_df.append(card_train_df)\n",
    "card_df.head()"
   ]
  },
  {
   "cell_type": "code",
   "execution_count": 90,
   "metadata": {},
   "outputs": [
    {
     "data": {
      "text/plain": [
       "card_id    0\n",
       "disp_id    0\n",
       "type       0\n",
       "issued     0\n",
       "dtype: int64"
      ]
     },
     "execution_count": 90,
     "metadata": {},
     "output_type": "execute_result"
    }
   ],
   "source": [
    "card_df.isna().sum()"
   ]
  },
  {
   "cell_type": "code",
   "execution_count": 91,
   "metadata": {},
   "outputs": [
    {
     "data": {
      "text/plain": [
       "array(['classic', 'junior', 'gold'], dtype=object)"
      ]
     },
     "execution_count": 91,
     "metadata": {},
     "output_type": "execute_result"
    }
   ],
   "source": [
    "card_df['type'].unique()"
   ]
  },
  {
   "cell_type": "code",
   "execution_count": 92,
   "metadata": {},
   "outputs": [
    {
     "data": {
      "text/plain": [
       "classic    254\n",
       "junior      82\n",
       "gold        18\n",
       "Name: type, dtype: int64"
      ]
     },
     "execution_count": 92,
     "metadata": {},
     "output_type": "execute_result"
    }
   ],
   "source": [
    "card_df['type'].value_counts()"
   ]
  },
  {
   "cell_type": "code",
   "execution_count": 93,
   "metadata": {},
   "outputs": [
    {
     "data": {
      "text/plain": [
       "<matplotlib.collections.PathCollection at 0x1f3c32036a0>"
      ]
     },
     "execution_count": 93,
     "metadata": {},
     "output_type": "execute_result"
    },
    {
     "data": {
      "image/png": "[encoded data removed]",
      "text/plain": [
       "<Figure size 432x288 with 1 Axes>"
      ]
     },
     "metadata": {
      "needs_background": "light"
     },
     "output_type": "display_data"
    }
   ],
   "source": [
    "plt.scatter(card_df['type'], card_df['issued'])"
   ]
  },
  {
   "cell_type": "code",
   "execution_count": 94,
   "metadata": {},
   "outputs": [
    {
     "data": {
      "text/plain": [
       "<AxesSubplot:>"
      ]
     },
     "execution_count": 94,
     "metadata": {},
     "output_type": "execute_result"
    },
    {
     "data": {
      "image/png": "[encoded data removed]",
      "text/plain": [
       "<Figure size 432x288 with 1 Axes>"
      ]
     },
     "metadata": {
      "needs_background": "light"
     },
     "output_type": "display_data"
    }
   ],
   "source": [
    "card_df['issued'].plot.box()"
   ]
  },
  {
   "cell_type": "markdown",
   "metadata": {},
   "source": [
    "## Relation `demographic data`\n",
    "We are now going to open the district table and look at its first few lines. \n",
    "\n",
    "This table contains information regarding the various districts where the bank operates. It contains null values represented by a ``?``. "
   ]
  },
  {
   "cell_type": "code",
   "execution_count": 95,
   "metadata": {},
   "outputs": [
    {
     "data": {
      "text/html": [
       "<div>\n",
       "<style scoped>\n",
       "    .dataframe tbody tr th:only-of-type {\n",
       "        vertical-align: middle;\n",
       "    }\n",
       "\n",
       "    .dataframe tbody tr th {\n",
       "        vertical-align: top;\n",
       "    }\n",
       "\n",
       "    .dataframe thead th {\n",
       "        text-align: right;\n",
       "    }\n",
       "</style>\n",
       "<table border=\"1\" class=\"dataframe\">\n",
       "  <thead>\n",
       "    <tr style=\"text-align: right;\">\n",
       "      <th></th>\n",
       "      <th>code</th>\n",
       "      <th>name</th>\n",
       "      <th>region</th>\n",
       "      <th>no. of inhabitants</th>\n",
       "      <th>no. of municipalities with inhabitants &lt; 499</th>\n",
       "      <th>no. of municipalities with inhabitants 500-1999</th>\n",
       "      <th>no. of municipalities with inhabitants 2000-9999</th>\n",
       "      <th>no. of municipalities with inhabitants &gt;10000</th>\n",
       "      <th>no. of cities</th>\n",
       "      <th>ratio of urban inhabitants</th>\n",
       "      <th>average salary</th>\n",
       "      <th>unemploymant rate '95</th>\n",
       "      <th>unemploymant rate '96</th>\n",
       "      <th>no. of enterpreneurs per 1000 inhabitants</th>\n",
       "      <th>no. of commited crimes '95</th>\n",
       "      <th>no. of commited crimes '96</th>\n",
       "    </tr>\n",
       "  </thead>\n",
       "  <tbody>\n",
       "    <tr>\n",
       "      <th>0</th>\n",
       "      <td>1</td>\n",
       "      <td>Hl.m. Praha</td>\n",
       "      <td>Prague</td>\n",
       "      <td>1204953</td>\n",
       "      <td>0</td>\n",
       "      <td>0</td>\n",
       "      <td>0</td>\n",
       "      <td>1</td>\n",
       "      <td>1</td>\n",
       "      <td>100.0</td>\n",
       "      <td>12541</td>\n",
       "      <td>0.29</td>\n",
       "      <td>0.43</td>\n",
       "      <td>167</td>\n",
       "      <td>85677.0</td>\n",
       "      <td>99107</td>\n",
       "    </tr>\n",
       "    <tr>\n",
       "      <th>1</th>\n",
       "      <td>2</td>\n",
       "      <td>Benesov</td>\n",
       "      <td>central Bohemia</td>\n",
       "      <td>88884</td>\n",
       "      <td>80</td>\n",
       "      <td>26</td>\n",
       "      <td>6</td>\n",
       "      <td>2</td>\n",
       "      <td>5</td>\n",
       "      <td>46.7</td>\n",
       "      <td>8507</td>\n",
       "      <td>1.67</td>\n",
       "      <td>1.85</td>\n",
       "      <td>132</td>\n",
       "      <td>2159.0</td>\n",
       "      <td>2674</td>\n",
       "    </tr>\n",
       "    <tr>\n",
       "      <th>2</th>\n",
       "      <td>3</td>\n",
       "      <td>Beroun</td>\n",
       "      <td>central Bohemia</td>\n",
       "      <td>75232</td>\n",
       "      <td>55</td>\n",
       "      <td>26</td>\n",
       "      <td>4</td>\n",
       "      <td>1</td>\n",
       "      <td>5</td>\n",
       "      <td>41.7</td>\n",
       "      <td>8980</td>\n",
       "      <td>1.95</td>\n",
       "      <td>2.21</td>\n",
       "      <td>111</td>\n",
       "      <td>2824.0</td>\n",
       "      <td>2813</td>\n",
       "    </tr>\n",
       "    <tr>\n",
       "      <th>3</th>\n",
       "      <td>4</td>\n",
       "      <td>Kladno</td>\n",
       "      <td>central Bohemia</td>\n",
       "      <td>149893</td>\n",
       "      <td>63</td>\n",
       "      <td>29</td>\n",
       "      <td>6</td>\n",
       "      <td>2</td>\n",
       "      <td>6</td>\n",
       "      <td>67.4</td>\n",
       "      <td>9753</td>\n",
       "      <td>4.64</td>\n",
       "      <td>5.05</td>\n",
       "      <td>109</td>\n",
       "      <td>5244.0</td>\n",
       "      <td>5892</td>\n",
       "    </tr>\n",
       "    <tr>\n",
       "      <th>4</th>\n",
       "      <td>5</td>\n",
       "      <td>Kolin</td>\n",
       "      <td>central Bohemia</td>\n",
       "      <td>95616</td>\n",
       "      <td>65</td>\n",
       "      <td>30</td>\n",
       "      <td>4</td>\n",
       "      <td>1</td>\n",
       "      <td>6</td>\n",
       "      <td>51.4</td>\n",
       "      <td>9307</td>\n",
       "      <td>3.85</td>\n",
       "      <td>4.43</td>\n",
       "      <td>118</td>\n",
       "      <td>2616.0</td>\n",
       "      <td>3040</td>\n",
       "    </tr>\n",
       "  </tbody>\n",
       "</table>\n",
       "</div>"
      ],
      "text/plain": [
       "   code         name            region  no. of inhabitants  \\\n",
       "0      1  Hl.m. Praha           Prague             1204953   \n",
       "1      2      Benesov  central Bohemia               88884   \n",
       "2      3       Beroun  central Bohemia               75232   \n",
       "3      4       Kladno  central Bohemia              149893   \n",
       "4      5        Kolin  central Bohemia               95616   \n",
       "\n",
       "   no. of municipalities with inhabitants < 499   \\\n",
       "0                                              0   \n",
       "1                                             80   \n",
       "2                                             55   \n",
       "3                                             63   \n",
       "4                                             65   \n",
       "\n",
       "   no. of municipalities with inhabitants 500-1999  \\\n",
       "0                                                0   \n",
       "1                                               26   \n",
       "2                                               26   \n",
       "3                                               29   \n",
       "4                                               30   \n",
       "\n",
       "   no. of municipalities with inhabitants 2000-9999   \\\n",
       "0                                                  0   \n",
       "1                                                  6   \n",
       "2                                                  4   \n",
       "3                                                  6   \n",
       "4                                                  4   \n",
       "\n",
       "   no. of municipalities with inhabitants >10000   no. of cities   \\\n",
       "0                                               1               1   \n",
       "1                                               2               5   \n",
       "2                                               1               5   \n",
       "3                                               2               6   \n",
       "4                                               1               6   \n",
       "\n",
       "   ratio of urban inhabitants   average salary   unemploymant rate '95   \\\n",
       "0                        100.0            12541                    0.29   \n",
       "1                         46.7             8507                    1.67   \n",
       "2                         41.7             8980                    1.95   \n",
       "3                         67.4             9753                    4.64   \n",
       "4                         51.4             9307                    3.85   \n",
       "\n",
       "   unemploymant rate '96   no. of enterpreneurs per 1000 inhabitants   \\\n",
       "0                    0.43                                         167   \n",
       "1                    1.85                                         132   \n",
       "2                    2.21                                         111   \n",
       "3                    5.05                                         109   \n",
       "4                    4.43                                         118   \n",
       "\n",
       "   no. of commited crimes '95   no. of commited crimes '96   \n",
       "0                      85677.0                        99107  \n",
       "1                       2159.0                         2674  \n",
       "2                       2824.0                         2813  \n",
       "3                       5244.0                         5892  \n",
       "4                       2616.0                         3040  "
      ]
     },
     "execution_count": 95,
     "metadata": {},
     "output_type": "execute_result"
    }
   ],
   "source": [
    "district_df = pd.read_csv('./data/district.csv', sep=';', na_values='?')\n",
    "district_df.head()"
   ]
  },
  {
   "cell_type": "code",
   "execution_count": 96,
   "metadata": {},
   "outputs": [
    {
     "data": {
      "text/plain": [
       "code                                                 0\n",
       "name                                                 0\n",
       "region                                               0\n",
       "no. of inhabitants                                   0\n",
       "no. of municipalities with inhabitants < 499         0\n",
       "no. of municipalities with inhabitants 500-1999      0\n",
       "no. of municipalities with inhabitants 2000-9999     0\n",
       "no. of municipalities with inhabitants >10000        0\n",
       "no. of cities                                        0\n",
       "ratio of urban inhabitants                           0\n",
       "average salary                                       0\n",
       "unemploymant rate '95                                1\n",
       "unemploymant rate '96                                0\n",
       "no. of enterpreneurs per 1000 inhabitants            0\n",
       "no. of commited crimes '95                           1\n",
       "no. of commited crimes '96                           0\n",
       "dtype: int64"
      ]
     },
     "execution_count": 96,
     "metadata": {},
     "output_type": "execute_result"
    }
   ],
   "source": [
    "district_df.isna().sum()"
   ]
  },
  {
   "cell_type": "markdown",
   "metadata": {},
   "source": [
    "The null values correspond to the unemployment rate and number of commited crimes in the year 1995 for the Jesenik district. These values can be imputed using the average of these values for the remaining districts. There is not enough data for learning-based or regression-based approaches."
   ]
  },
  {
   "cell_type": "code",
   "execution_count": 97,
   "metadata": {},
   "outputs": [
    {
     "data": {
      "text/html": [
       "<div>\n",
       "<style scoped>\n",
       "    .dataframe tbody tr th:only-of-type {\n",
       "        vertical-align: middle;\n",
       "    }\n",
       "\n",
       "    .dataframe tbody tr th {\n",
       "        vertical-align: top;\n",
       "    }\n",
       "\n",
       "    .dataframe thead th {\n",
       "        text-align: right;\n",
       "    }\n",
       "</style>\n",
       "<table border=\"1\" class=\"dataframe\">\n",
       "  <thead>\n",
       "    <tr style=\"text-align: right;\">\n",
       "      <th></th>\n",
       "      <th>code</th>\n",
       "      <th>name</th>\n",
       "      <th>region</th>\n",
       "      <th>no. of inhabitants</th>\n",
       "      <th>no. of municipalities with inhabitants &lt; 499</th>\n",
       "      <th>no. of municipalities with inhabitants 500-1999</th>\n",
       "      <th>no. of municipalities with inhabitants 2000-9999</th>\n",
       "      <th>no. of municipalities with inhabitants &gt;10000</th>\n",
       "      <th>no. of cities</th>\n",
       "      <th>ratio of urban inhabitants</th>\n",
       "      <th>average salary</th>\n",
       "      <th>unemploymant rate '95</th>\n",
       "      <th>unemploymant rate '96</th>\n",
       "      <th>no. of enterpreneurs per 1000 inhabitants</th>\n",
       "      <th>no. of commited crimes '95</th>\n",
       "      <th>no. of commited crimes '96</th>\n",
       "    </tr>\n",
       "  </thead>\n",
       "  <tbody>\n",
       "    <tr>\n",
       "      <th>68</th>\n",
       "      <td>69</td>\n",
       "      <td>Jesenik</td>\n",
       "      <td>north Moravia</td>\n",
       "      <td>42821</td>\n",
       "      <td>4</td>\n",
       "      <td>13</td>\n",
       "      <td>5</td>\n",
       "      <td>1</td>\n",
       "      <td>3</td>\n",
       "      <td>48.4</td>\n",
       "      <td>8173</td>\n",
       "      <td>NaN</td>\n",
       "      <td>7.01</td>\n",
       "      <td>124</td>\n",
       "      <td>NaN</td>\n",
       "      <td>1358</td>\n",
       "    </tr>\n",
       "  </tbody>\n",
       "</table>\n",
       "</div>"
      ],
      "text/plain": [
       "    code     name          region  no. of inhabitants  \\\n",
       "68     69  Jesenik  north Moravia               42821   \n",
       "\n",
       "    no. of municipalities with inhabitants < 499   \\\n",
       "68                                              4   \n",
       "\n",
       "    no. of municipalities with inhabitants 500-1999  \\\n",
       "68                                               13   \n",
       "\n",
       "    no. of municipalities with inhabitants 2000-9999   \\\n",
       "68                                                  5   \n",
       "\n",
       "    no. of municipalities with inhabitants >10000   no. of cities   \\\n",
       "68                                               1               3   \n",
       "\n",
       "    ratio of urban inhabitants   average salary   unemploymant rate '95   \\\n",
       "68                         48.4             8173                     NaN   \n",
       "\n",
       "    unemploymant rate '96   no. of enterpreneurs per 1000 inhabitants   \\\n",
       "68                    7.01                                         124   \n",
       "\n",
       "    no. of commited crimes '95   no. of commited crimes '96   \n",
       "68                          NaN                         1358  "
      ]
     },
     "execution_count": 97,
     "metadata": {},
     "output_type": "execute_result"
    }
   ],
   "source": [
    "district_df.loc[district_df['unemploymant rate \\'95 '].isnull() & district_df['no. of commited crimes \\'95 '].isnull()]"
   ]
  },
  {
   "cell_type": "markdown",
   "metadata": {},
   "source": [
    "When looking at the correlation matrix for the demographic data, we can see multiple hotspots which show some interesting insights about the country where the bank operates. For example, the number of crimes seems to be positively correlated to the number of people living in the district and the crime rate for 1996 is also positively correlated with the crime rate for 1995 (similar for the unemployment rate). Other insights include:\n",
    "* the larger the municipality the more urban it is, the higher the average salary\n",
    "* the higher the average salary, the higher the number of enterpreneurs\n",
    "* the average salary is positively correlated to the number of commited crimes"
   ]
  },
  {
   "cell_type": "code",
   "execution_count": 98,
   "metadata": {},
   "outputs": [
    {
     "data": {
      "text/html": [
       "<div>\n",
       "<style scoped>\n",
       "    .dataframe tbody tr th:only-of-type {\n",
       "        vertical-align: middle;\n",
       "    }\n",
       "\n",
       "    .dataframe tbody tr th {\n",
       "        vertical-align: top;\n",
       "    }\n",
       "\n",
       "    .dataframe thead th {\n",
       "        text-align: right;\n",
       "    }\n",
       "</style>\n",
       "<table border=\"1\" class=\"dataframe\">\n",
       "  <thead>\n",
       "    <tr style=\"text-align: right;\">\n",
       "      <th></th>\n",
       "      <th>code</th>\n",
       "      <th>no. of inhabitants</th>\n",
       "      <th>no. of municipalities with inhabitants &lt; 499</th>\n",
       "      <th>no. of municipalities with inhabitants 500-1999</th>\n",
       "      <th>no. of municipalities with inhabitants 2000-9999</th>\n",
       "      <th>no. of municipalities with inhabitants &gt;10000</th>\n",
       "      <th>no. of cities</th>\n",
       "      <th>ratio of urban inhabitants</th>\n",
       "      <th>average salary</th>\n",
       "      <th>unemploymant rate '95</th>\n",
       "      <th>unemploymant rate '96</th>\n",
       "      <th>no. of enterpreneurs per 1000 inhabitants</th>\n",
       "      <th>no. of commited crimes '95</th>\n",
       "      <th>no. of commited crimes '96</th>\n",
       "    </tr>\n",
       "  </thead>\n",
       "  <tbody>\n",
       "    <tr>\n",
       "      <th>code</th>\n",
       "      <td>1.000000</td>\n",
       "      <td>0.024198</td>\n",
       "      <td>-0.192888</td>\n",
       "      <td>0.351801</td>\n",
       "      <td>0.346569</td>\n",
       "      <td>0.277642</td>\n",
       "      <td>0.022941</td>\n",
       "      <td>0.007019</td>\n",
       "      <td>-0.256033</td>\n",
       "      <td>0.420173</td>\n",
       "      <td>0.436070</td>\n",
       "      <td>-0.455890</td>\n",
       "      <td>-0.104766</td>\n",
       "      <td>-0.129428</td>\n",
       "    </tr>\n",
       "    <tr>\n",
       "      <th>no. of inhabitants</th>\n",
       "      <td>0.024198</td>\n",
       "      <td>1.000000</td>\n",
       "      <td>-0.306117</td>\n",
       "      <td>-0.194369</td>\n",
       "      <td>-0.098136</td>\n",
       "      <td>0.043197</td>\n",
       "      <td>-0.273442</td>\n",
       "      <td>0.453271</td>\n",
       "      <td>0.639834</td>\n",
       "      <td>-0.095925</td>\n",
       "      <td>-0.116989</td>\n",
       "      <td>0.264873</td>\n",
       "      <td>0.978009</td>\n",
       "      <td>0.972490</td>\n",
       "    </tr>\n",
       "    <tr>\n",
       "      <th>no. of municipalities with inhabitants &lt; 499</th>\n",
       "      <td>-0.192888</td>\n",
       "      <td>-0.306117</td>\n",
       "      <td>1.000000</td>\n",
       "      <td>0.214798</td>\n",
       "      <td>-0.165852</td>\n",
       "      <td>-0.207606</td>\n",
       "      <td>0.052394</td>\n",
       "      <td>-0.452779</td>\n",
       "      <td>-0.341332</td>\n",
       "      <td>-0.164730</td>\n",
       "      <td>-0.197596</td>\n",
       "      <td>-0.085878</td>\n",
       "      <td>-0.308566</td>\n",
       "      <td>-0.280440</td>\n",
       "    </tr>\n",
       "    <tr>\n",
       "      <th>no. of municipalities with inhabitants 500-1999</th>\n",
       "      <td>0.351801</td>\n",
       "      <td>-0.194369</td>\n",
       "      <td>0.214798</td>\n",
       "      <td>1.000000</td>\n",
       "      <td>0.577452</td>\n",
       "      <td>0.082513</td>\n",
       "      <td>0.340066</td>\n",
       "      <td>-0.632699</td>\n",
       "      <td>-0.403481</td>\n",
       "      <td>-0.014872</td>\n",
       "      <td>-0.061180</td>\n",
       "      <td>-0.093302</td>\n",
       "      <td>-0.293142</td>\n",
       "      <td>-0.276912</td>\n",
       "    </tr>\n",
       "    <tr>\n",
       "      <th>no. of municipalities with inhabitants 2000-9999</th>\n",
       "      <td>0.346569</td>\n",
       "      <td>-0.098136</td>\n",
       "      <td>-0.165852</td>\n",
       "      <td>0.577452</td>\n",
       "      <td>1.000000</td>\n",
       "      <td>0.041362</td>\n",
       "      <td>0.502612</td>\n",
       "      <td>-0.351328</td>\n",
       "      <td>-0.189056</td>\n",
       "      <td>-0.032356</td>\n",
       "      <td>-0.035110</td>\n",
       "      <td>-0.140230</td>\n",
       "      <td>-0.206444</td>\n",
       "      <td>-0.205466</td>\n",
       "    </tr>\n",
       "    <tr>\n",
       "      <th>no. of municipalities with inhabitants &gt;10000</th>\n",
       "      <td>0.277642</td>\n",
       "      <td>0.043197</td>\n",
       "      <td>-0.207606</td>\n",
       "      <td>0.082513</td>\n",
       "      <td>0.041362</td>\n",
       "      <td>1.000000</td>\n",
       "      <td>0.243540</td>\n",
       "      <td>0.254950</td>\n",
       "      <td>-0.029226</td>\n",
       "      <td>0.445780</td>\n",
       "      <td>0.421098</td>\n",
       "      <td>-0.346697</td>\n",
       "      <td>-0.025600</td>\n",
       "      <td>-0.030997</td>\n",
       "    </tr>\n",
       "    <tr>\n",
       "      <th>no. of cities</th>\n",
       "      <td>0.022941</td>\n",
       "      <td>-0.273442</td>\n",
       "      <td>0.052394</td>\n",
       "      <td>0.340066</td>\n",
       "      <td>0.502612</td>\n",
       "      <td>0.243540</td>\n",
       "      <td>1.000000</td>\n",
       "      <td>-0.037301</td>\n",
       "      <td>-0.275483</td>\n",
       "      <td>-0.089282</td>\n",
       "      <td>-0.123141</td>\n",
       "      <td>-0.046059</td>\n",
       "      <td>-0.321132</td>\n",
       "      <td>-0.303608</td>\n",
       "    </tr>\n",
       "    <tr>\n",
       "      <th>ratio of urban inhabitants</th>\n",
       "      <td>0.007019</td>\n",
       "      <td>0.453271</td>\n",
       "      <td>-0.452779</td>\n",
       "      <td>-0.632699</td>\n",
       "      <td>-0.351328</td>\n",
       "      <td>0.254950</td>\n",
       "      <td>-0.037301</td>\n",
       "      <td>1.000000</td>\n",
       "      <td>0.599725</td>\n",
       "      <td>0.165982</td>\n",
       "      <td>0.159183</td>\n",
       "      <td>0.041719</td>\n",
       "      <td>0.442074</td>\n",
       "      <td>0.416620</td>\n",
       "    </tr>\n",
       "    <tr>\n",
       "      <th>average salary</th>\n",
       "      <td>-0.256033</td>\n",
       "      <td>0.639834</td>\n",
       "      <td>-0.341332</td>\n",
       "      <td>-0.403481</td>\n",
       "      <td>-0.189056</td>\n",
       "      <td>-0.029226</td>\n",
       "      <td>-0.275483</td>\n",
       "      <td>0.599725</td>\n",
       "      <td>1.000000</td>\n",
       "      <td>-0.063806</td>\n",
       "      <td>-0.090869</td>\n",
       "      <td>0.269185</td>\n",
       "      <td>0.652244</td>\n",
       "      <td>0.634388</td>\n",
       "    </tr>\n",
       "    <tr>\n",
       "      <th>unemploymant rate '95</th>\n",
       "      <td>0.420173</td>\n",
       "      <td>-0.095925</td>\n",
       "      <td>-0.164730</td>\n",
       "      <td>-0.014872</td>\n",
       "      <td>-0.032356</td>\n",
       "      <td>0.445780</td>\n",
       "      <td>-0.089282</td>\n",
       "      <td>0.165982</td>\n",
       "      <td>-0.063806</td>\n",
       "      <td>1.000000</td>\n",
       "      <td>0.981521</td>\n",
       "      <td>-0.535190</td>\n",
       "      <td>-0.131764</td>\n",
       "      <td>-0.143824</td>\n",
       "    </tr>\n",
       "    <tr>\n",
       "      <th>unemploymant rate '96</th>\n",
       "      <td>0.436070</td>\n",
       "      <td>-0.116989</td>\n",
       "      <td>-0.197596</td>\n",
       "      <td>-0.061180</td>\n",
       "      <td>-0.035110</td>\n",
       "      <td>0.421098</td>\n",
       "      <td>-0.123141</td>\n",
       "      <td>0.159183</td>\n",
       "      <td>-0.090869</td>\n",
       "      <td>0.981521</td>\n",
       "      <td>1.000000</td>\n",
       "      <td>-0.513319</td>\n",
       "      <td>-0.140678</td>\n",
       "      <td>-0.157496</td>\n",
       "    </tr>\n",
       "    <tr>\n",
       "      <th>no. of enterpreneurs per 1000 inhabitants</th>\n",
       "      <td>-0.455890</td>\n",
       "      <td>0.264873</td>\n",
       "      <td>-0.085878</td>\n",
       "      <td>-0.093302</td>\n",
       "      <td>-0.140230</td>\n",
       "      <td>-0.346697</td>\n",
       "      <td>-0.046059</td>\n",
       "      <td>0.041719</td>\n",
       "      <td>0.269185</td>\n",
       "      <td>-0.535190</td>\n",
       "      <td>-0.513319</td>\n",
       "      <td>1.000000</td>\n",
       "      <td>0.335205</td>\n",
       "      <td>0.340603</td>\n",
       "    </tr>\n",
       "    <tr>\n",
       "      <th>no. of commited crimes '95</th>\n",
       "      <td>-0.104766</td>\n",
       "      <td>0.978009</td>\n",
       "      <td>-0.308566</td>\n",
       "      <td>-0.293142</td>\n",
       "      <td>-0.206444</td>\n",
       "      <td>-0.025600</td>\n",
       "      <td>-0.321132</td>\n",
       "      <td>0.442074</td>\n",
       "      <td>0.652244</td>\n",
       "      <td>-0.131764</td>\n",
       "      <td>-0.140678</td>\n",
       "      <td>0.335205</td>\n",
       "      <td>1.000000</td>\n",
       "      <td>0.998426</td>\n",
       "    </tr>\n",
       "    <tr>\n",
       "      <th>no. of commited crimes '96</th>\n",
       "      <td>-0.129428</td>\n",
       "      <td>0.972490</td>\n",
       "      <td>-0.280440</td>\n",
       "      <td>-0.276912</td>\n",
       "      <td>-0.205466</td>\n",
       "      <td>-0.030997</td>\n",
       "      <td>-0.303608</td>\n",
       "      <td>0.416620</td>\n",
       "      <td>0.634388</td>\n",
       "      <td>-0.143824</td>\n",
       "      <td>-0.157496</td>\n",
       "      <td>0.340603</td>\n",
       "      <td>0.998426</td>\n",
       "      <td>1.000000</td>\n",
       "    </tr>\n",
       "  </tbody>\n",
       "</table>\n",
       "</div>"
      ],
      "text/plain": [
       "                                                      code   \\\n",
       "code                                               1.000000   \n",
       "no. of inhabitants                                 0.024198   \n",
       "no. of municipalities with inhabitants < 499      -0.192888   \n",
       "no. of municipalities with inhabitants 500-1999    0.351801   \n",
       "no. of municipalities with inhabitants 2000-9999   0.346569   \n",
       "no. of municipalities with inhabitants >10000      0.277642   \n",
       "no. of cities                                      0.022941   \n",
       "ratio of urban inhabitants                         0.007019   \n",
       "average salary                                    -0.256033   \n",
       "unemploymant rate '95                              0.420173   \n",
       "unemploymant rate '96                              0.436070   \n",
       "no. of enterpreneurs per 1000 inhabitants         -0.455890   \n",
       "no. of commited crimes '95                        -0.104766   \n",
       "no. of commited crimes '96                        -0.129428   \n",
       "\n",
       "                                                   no. of inhabitants  \\\n",
       "code                                                         0.024198   \n",
       "no. of inhabitants                                           1.000000   \n",
       "no. of municipalities with inhabitants < 499                -0.306117   \n",
       "no. of municipalities with inhabitants 500-1999             -0.194369   \n",
       "no. of municipalities with inhabitants 2000-9999            -0.098136   \n",
       "no. of municipalities with inhabitants >10000                0.043197   \n",
       "no. of cities                                               -0.273442   \n",
       "ratio of urban inhabitants                                   0.453271   \n",
       "average salary                                               0.639834   \n",
       "unemploymant rate '95                                       -0.095925   \n",
       "unemploymant rate '96                                       -0.116989   \n",
       "no. of enterpreneurs per 1000 inhabitants                    0.264873   \n",
       "no. of commited crimes '95                                   0.978009   \n",
       "no. of commited crimes '96                                   0.972490   \n",
       "\n",
       "                                                   no. of municipalities with inhabitants < 499   \\\n",
       "code                                                                                   -0.192888   \n",
       "no. of inhabitants                                                                     -0.306117   \n",
       "no. of municipalities with inhabitants < 499                                            1.000000   \n",
       "no. of municipalities with inhabitants 500-1999                                         0.214798   \n",
       "no. of municipalities with inhabitants 2000-9999                                       -0.165852   \n",
       "no. of municipalities with inhabitants >10000                                          -0.207606   \n",
       "no. of cities                                                                           0.052394   \n",
       "ratio of urban inhabitants                                                             -0.452779   \n",
       "average salary                                                                         -0.341332   \n",
       "unemploymant rate '95                                                                  -0.164730   \n",
       "unemploymant rate '96                                                                  -0.197596   \n",
       "no. of enterpreneurs per 1000 inhabitants                                              -0.085878   \n",
       "no. of commited crimes '95                                                             -0.308566   \n",
       "no. of commited crimes '96                                                             -0.280440   \n",
       "\n",
       "                                                   no. of municipalities with inhabitants 500-1999  \\\n",
       "code                                                                                      0.351801   \n",
       "no. of inhabitants                                                                       -0.194369   \n",
       "no. of municipalities with inhabitants < 499                                              0.214798   \n",
       "no. of municipalities with inhabitants 500-1999                                           1.000000   \n",
       "no. of municipalities with inhabitants 2000-9999                                          0.577452   \n",
       "no. of municipalities with inhabitants >10000                                             0.082513   \n",
       "no. of cities                                                                             0.340066   \n",
       "ratio of urban inhabitants                                                               -0.632699   \n",
       "average salary                                                                           -0.403481   \n",
       "unemploymant rate '95                                                                    -0.014872   \n",
       "unemploymant rate '96                                                                    -0.061180   \n",
       "no. of enterpreneurs per 1000 inhabitants                                                -0.093302   \n",
       "no. of commited crimes '95                                                               -0.293142   \n",
       "no. of commited crimes '96                                                               -0.276912   \n",
       "\n",
       "                                                   no. of municipalities with inhabitants 2000-9999   \\\n",
       "code                                                                                        0.346569   \n",
       "no. of inhabitants                                                                         -0.098136   \n",
       "no. of municipalities with inhabitants < 499                                               -0.165852   \n",
       "no. of municipalities with inhabitants 500-1999                                             0.577452   \n",
       "no. of municipalities with inhabitants 2000-9999                                            1.000000   \n",
       "no. of municipalities with inhabitants >10000                                               0.041362   \n",
       "no. of cities                                                                               0.502612   \n",
       "ratio of urban inhabitants                                                                 -0.351328   \n",
       "average salary                                                                             -0.189056   \n",
       "unemploymant rate '95                                                                      -0.032356   \n",
       "unemploymant rate '96                                                                      -0.035110   \n",
       "no. of enterpreneurs per 1000 inhabitants                                                  -0.140230   \n",
       "no. of commited crimes '95                                                                 -0.206444   \n",
       "no. of commited crimes '96                                                                 -0.205466   \n",
       "\n",
       "                                                   no. of municipalities with inhabitants >10000   \\\n",
       "code                                                                                     0.277642   \n",
       "no. of inhabitants                                                                       0.043197   \n",
       "no. of municipalities with inhabitants < 499                                            -0.207606   \n",
       "no. of municipalities with inhabitants 500-1999                                          0.082513   \n",
       "no. of municipalities with inhabitants 2000-9999                                         0.041362   \n",
       "no. of municipalities with inhabitants >10000                                            1.000000   \n",
       "no. of cities                                                                            0.243540   \n",
       "ratio of urban inhabitants                                                               0.254950   \n",
       "average salary                                                                          -0.029226   \n",
       "unemploymant rate '95                                                                    0.445780   \n",
       "unemploymant rate '96                                                                    0.421098   \n",
       "no. of enterpreneurs per 1000 inhabitants                                               -0.346697   \n",
       "no. of commited crimes '95                                                              -0.025600   \n",
       "no. of commited crimes '96                                                              -0.030997   \n",
       "\n",
       "                                                   no. of cities   \\\n",
       "code                                                     0.022941   \n",
       "no. of inhabitants                                      -0.273442   \n",
       "no. of municipalities with inhabitants < 499             0.052394   \n",
       "no. of municipalities with inhabitants 500-1999          0.340066   \n",
       "no. of municipalities with inhabitants 2000-9999         0.502612   \n",
       "no. of municipalities with inhabitants >10000            0.243540   \n",
       "no. of cities                                            1.000000   \n",
       "ratio of urban inhabitants                              -0.037301   \n",
       "average salary                                          -0.275483   \n",
       "unemploymant rate '95                                   -0.089282   \n",
       "unemploymant rate '96                                   -0.123141   \n",
       "no. of enterpreneurs per 1000 inhabitants               -0.046059   \n",
       "no. of commited crimes '95                              -0.321132   \n",
       "no. of commited crimes '96                              -0.303608   \n",
       "\n",
       "                                                   ratio of urban inhabitants   \\\n",
       "code                                                                  0.007019   \n",
       "no. of inhabitants                                                    0.453271   \n",
       "no. of municipalities with inhabitants < 499                         -0.452779   \n",
       "no. of municipalities with inhabitants 500-1999                      -0.632699   \n",
       "no. of municipalities with inhabitants 2000-9999                     -0.351328   \n",
       "no. of municipalities with inhabitants >10000                         0.254950   \n",
       "no. of cities                                                        -0.037301   \n",
       "ratio of urban inhabitants                                            1.000000   \n",
       "average salary                                                        0.599725   \n",
       "unemploymant rate '95                                                 0.165982   \n",
       "unemploymant rate '96                                                 0.159183   \n",
       "no. of enterpreneurs per 1000 inhabitants                             0.041719   \n",
       "no. of commited crimes '95                                            0.442074   \n",
       "no. of commited crimes '96                                            0.416620   \n",
       "\n",
       "                                                   average salary   \\\n",
       "code                                                     -0.256033   \n",
       "no. of inhabitants                                        0.639834   \n",
       "no. of municipalities with inhabitants < 499             -0.341332   \n",
       "no. of municipalities with inhabitants 500-1999          -0.403481   \n",
       "no. of municipalities with inhabitants 2000-9999         -0.189056   \n",
       "no. of municipalities with inhabitants >10000            -0.029226   \n",
       "no. of cities                                            -0.275483   \n",
       "ratio of urban inhabitants                                0.599725   \n",
       "average salary                                            1.000000   \n",
       "unemploymant rate '95                                    -0.063806   \n",
       "unemploymant rate '96                                    -0.090869   \n",
       "no. of enterpreneurs per 1000 inhabitants                 0.269185   \n",
       "no. of commited crimes '95                                0.652244   \n",
       "no. of commited crimes '96                                0.634388   \n",
       "\n",
       "                                                   unemploymant rate '95   \\\n",
       "code                                                             0.420173   \n",
       "no. of inhabitants                                              -0.095925   \n",
       "no. of municipalities with inhabitants < 499                    -0.164730   \n",
       "no. of municipalities with inhabitants 500-1999                 -0.014872   \n",
       "no. of municipalities with inhabitants 2000-9999                -0.032356   \n",
       "no. of municipalities with inhabitants >10000                    0.445780   \n",
       "no. of cities                                                   -0.089282   \n",
       "ratio of urban inhabitants                                       0.165982   \n",
       "average salary                                                  -0.063806   \n",
       "unemploymant rate '95                                            1.000000   \n",
       "unemploymant rate '96                                            0.981521   \n",
       "no. of enterpreneurs per 1000 inhabitants                       -0.535190   \n",
       "no. of commited crimes '95                                      -0.131764   \n",
       "no. of commited crimes '96                                      -0.143824   \n",
       "\n",
       "                                                   unemploymant rate '96   \\\n",
       "code                                                             0.436070   \n",
       "no. of inhabitants                                              -0.116989   \n",
       "no. of municipalities with inhabitants < 499                    -0.197596   \n",
       "no. of municipalities with inhabitants 500-1999                 -0.061180   \n",
       "no. of municipalities with inhabitants 2000-9999                -0.035110   \n",
       "no. of municipalities with inhabitants >10000                    0.421098   \n",
       "no. of cities                                                   -0.123141   \n",
       "ratio of urban inhabitants                                       0.159183   \n",
       "average salary                                                  -0.090869   \n",
       "unemploymant rate '95                                            0.981521   \n",
       "unemploymant rate '96                                            1.000000   \n",
       "no. of enterpreneurs per 1000 inhabitants                       -0.513319   \n",
       "no. of commited crimes '95                                      -0.140678   \n",
       "no. of commited crimes '96                                      -0.157496   \n",
       "\n",
       "                                                   no. of enterpreneurs per 1000 inhabitants   \\\n",
       "code                                                                                -0.455890   \n",
       "no. of inhabitants                                                                   0.264873   \n",
       "no. of municipalities with inhabitants < 499                                        -0.085878   \n",
       "no. of municipalities with inhabitants 500-1999                                     -0.093302   \n",
       "no. of municipalities with inhabitants 2000-9999                                    -0.140230   \n",
       "no. of municipalities with inhabitants >10000                                       -0.346697   \n",
       "no. of cities                                                                       -0.046059   \n",
       "ratio of urban inhabitants                                                           0.041719   \n",
       "average salary                                                                       0.269185   \n",
       "unemploymant rate '95                                                               -0.535190   \n",
       "unemploymant rate '96                                                               -0.513319   \n",
       "no. of enterpreneurs per 1000 inhabitants                                            1.000000   \n",
       "no. of commited crimes '95                                                           0.335205   \n",
       "no. of commited crimes '96                                                           0.340603   \n",
       "\n",
       "                                                   no. of commited crimes '95   \\\n",
       "code                                                                 -0.104766   \n",
       "no. of inhabitants                                                    0.978009   \n",
       "no. of municipalities with inhabitants < 499                         -0.308566   \n",
       "no. of municipalities with inhabitants 500-1999                      -0.293142   \n",
       "no. of municipalities with inhabitants 2000-9999                     -0.206444   \n",
       "no. of municipalities with inhabitants >10000                        -0.025600   \n",
       "no. of cities                                                        -0.321132   \n",
       "ratio of urban inhabitants                                            0.442074   \n",
       "average salary                                                        0.652244   \n",
       "unemploymant rate '95                                                -0.131764   \n",
       "unemploymant rate '96                                                -0.140678   \n",
       "no. of enterpreneurs per 1000 inhabitants                             0.335205   \n",
       "no. of commited crimes '95                                            1.000000   \n",
       "no. of commited crimes '96                                            0.998426   \n",
       "\n",
       "                                                   no. of commited crimes '96   \n",
       "code                                                                 -0.129428  \n",
       "no. of inhabitants                                                    0.972490  \n",
       "no. of municipalities with inhabitants < 499                         -0.280440  \n",
       "no. of municipalities with inhabitants 500-1999                      -0.276912  \n",
       "no. of municipalities with inhabitants 2000-9999                     -0.205466  \n",
       "no. of municipalities with inhabitants >10000                        -0.030997  \n",
       "no. of cities                                                        -0.303608  \n",
       "ratio of urban inhabitants                                            0.416620  \n",
       "average salary                                                        0.634388  \n",
       "unemploymant rate '95                                                -0.143824  \n",
       "unemploymant rate '96                                                -0.157496  \n",
       "no. of enterpreneurs per 1000 inhabitants                             0.340603  \n",
       "no. of commited crimes '95                                            0.998426  \n",
       "no. of commited crimes '96                                            1.000000  "
      ]
     },
     "execution_count": 98,
     "metadata": {},
     "output_type": "execute_result"
    }
   ],
   "source": [
    "district_df.corr()"
   ]
  },
  {
   "cell_type": "code",
   "execution_count": 99,
   "metadata": {},
   "outputs": [
    {
     "data": {
      "text/plain": [
       "<matplotlib.image.AxesImage at 0x1f3c3463220>"
      ]
     },
     "execution_count": 99,
     "metadata": {},
     "output_type": "execute_result"
    },
    {
     "data": {
      "image/png": "[encoded data removed]",
      "text/plain": [
       "<Figure size 288x288 with 1 Axes>"
      ]
     },
     "metadata": {
      "needs_background": "light"
     },
     "output_type": "display_data"
    }
   ],
   "source": [
    "plt.matshow(district_df.corr())"
   ]
  },
  {
   "cell_type": "code",
   "execution_count": null,
   "metadata": {},
   "outputs": [],
   "source": []
  }
 ],
 "metadata": {
  "interpreter": {
   "hash": "f345244096139f77bad5fb530e51cfcf3c24c5e0e7513cc496e3bc78d413e6ec"
  },
  "kernelspec": {
   "display_name": "Python 3.9.5 64-bit ('venv': venv)",
   "language": "python",
   "name": "python3"
  },
  "language_info": {
   "codemirror_mode": {
    "name": "ipython",
    "version": 3
   },
   "file_extension": ".py",
   "mimetype": "text/x-python",
   "name": "python",
   "nbconvert_exporter": "python",
   "pygments_lexer": "ipython3",
   "version": "3.9.5"
  },
  "orig_nbformat": 4
 },
 "nbformat": 4,
 "nbformat_minor": 2
}
