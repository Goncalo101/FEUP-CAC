{
 "cells": [
  {
   "cell_type": "markdown",
   "metadata": {},
   "source": [
    "# Data Preparation\n",
    "\n",
    "Load Model from dataset folder"
   ]
  },
  {
   "cell_type": "code",
   "execution_count": null,
   "metadata": {},
   "outputs": [],
   "source": [
    "from model.model import Model\n",
    "\n",
    "model = Model()"
   ]
  },
  {
   "cell_type": "code",
   "execution_count": null,
   "metadata": {},
   "outputs": [],
   "source": [
    "# Load Dataframes\n",
    "account_df = model.get_accounts()\n",
    "client_df = model.get_clients()\n",
    "# card_test_df = model.get_cards('test')\n",
    "# card_train_df = model.get_cards('train')\n",
    "disp_df = model.get_disps()\n",
    "district_df = model.get_districts()\n",
    "loan_test_df = model.get_loans('test')\n",
    "loan_train_df = model.get_loans('train')\n",
    "trans_test_df = model.get_transactions('test')\n",
    "trans_train_df = model.get_transactions('train')"
   ]
  },
  {
   "cell_type": "code",
   "execution_count": null,
   "metadata": {},
   "outputs": [],
   "source": [
    "def merge_all():\n",
    "    df = disp_df.merge(client_df, on='client_id')\n",
    "    df = df.merge(district_df, on='district_id')\n",
    "    df['date'] = df.merge(account_df, on='account_id')['date']\n",
    "    return df\n",
    "\n",
    "def merge_train(df):\n",
    "    df = df.merge(loan_train_df, on='account_id')\n",
    "    df = df.merge(trans_train_df, on='account_id')\n",
    "    return df\n",
    "\n",
    "def merge_test(df):\n",
    "    df = df.merge(loan_test_df, on='account_id')\n",
    "    df = df.merge(trans_test_df, on='account_id')\n",
    "    return df \n",
    "\n",
    "df = merge_all()\n",
    "train_df = merge_train(df)\n",
    "test_df = merge_test(df)\n",
    "train_df.head()\n",
    "\n",
    "df = merge_all()\n",
    "train_df = merge_train(df)\n",
    "test_df = merge_test(df)\n",
    "train_df.head()"
   ]
  },
  {
   "cell_type": "code",
   "execution_count": null,
   "metadata": {},
   "outputs": [],
   "source": [
    "test_df.shape"
   ]
  },
  {
   "cell_type": "code",
   "execution_count": null,
   "metadata": {},
   "outputs": [],
   "source": [
    "import numpy as np\n",
    "from agg import *\n",
    "\n",
    "def agg_features(df):\n",
    "    agg_columns = ['loan_id', 'account_id', 'loan_date', 'loan_amount',\n",
    "                 'duration', 'payments', 'status',\n",
    "                 'birth_number',\n",
    "                 'district_id', 'gender',\n",
    "                 'no. of inhabitants',\n",
    "                 'small_munis_rate', 'medium_munis_rate',\n",
    "                 'large_munis_rate', 'larger_munis_rate',\n",
    "                 'inhabitant_rate', 'no. of cities ', \n",
    "                 'ratio of urban inhabitants ',\n",
    "                 'average salary ', 'unemploymant rate \\'95 ',\n",
    "                 'unemploymant rate \\'96 ',\n",
    "                 'no. of enterpreneurs per 1000 inhabitants ',\n",
    "                 'crime_rate \\'95',\n",
    "                 'crime_rate \\'96', 'date']\n",
    "\n",
    "    df = df.groupby(agg_columns, as_index=False, group_keys=False).agg({\n",
    "        'trans_date': ['max', 'min', days],\n",
    "        'trans_amount': ['mean', 'min', 'max', 'std', 'last'],\n",
    "        'operation': ['count', \n",
    "                    count_credit_op, count_collection_op, count_withdrawal_op, count_remittance_op, count_ccw_op, count_interest_op,\n",
    "                    mean_credit_op, mean_collection_op, mean_withdrawal_op, mean_remittance_op, mean_ccw_op, mean_interest_op,\n",
    "                    std_credit_op, std_collection_op, std_withdrawal_op, std_remittance_op, std_ccw_op, std_interest_op],\n",
    "        'balance': ['mean', 'min', 'max', 'std', 'last', bal_range, bal_min],\n",
    "        'trans_type': [count_withdrawal, count_credit, mean_withdrawal, mean_credit, std_withdrawal, std_credit]\n",
    "    })\n",
    "\n",
    "    df.columns = ['%s%s' % (a, '_%s' % b if b else '') for a, b in df.columns]\n",
    "\n",
    "    df['days_last_trans'] = (df['loan_date'] - df['trans_date_max']).dt.days\n",
    "    df['last_balance_l'] = df['balance_last'] / df['loan_amount']\n",
    "    df.loc[df['last_balance_l'] == np.inf, 'last_balance_l'] = 0\n",
    "    df['max_balance_l'] = df['balance_max'] / df['loan_amount']\n",
    "    df.loc[df['max_balance_l'] == np.inf, 'max_balance_l'] = 0\n",
    "    df['age_months'] = df['trans_date_days'] / 30\n",
    "    df['bal_per_month'] = df['balance_bal_range'] / df['age_months']\n",
    "    df['trans_per_month'] = df['operation_count'] / df['age_months']\n",
    "    df['owner_age_at'] = (df['loan_date'] - df['birth_number']).astype('<m8[Y]') # age in years\n",
    "    df['owner_age_at'] = df['owner_age_at'].astype(int)\n",
    "    df['account_age'] = ((df['loan_date'] - df['date']).dt.days) / 30\n",
    "\n",
    "    return df\n",
    "\n",
    "\n",
    "train_df = agg_features(train_df)\n",
    "test_df = agg_features(test_df)\n",
    "train_df.head()\n"
   ]
  },
  {
   "cell_type": "code",
   "execution_count": null,
   "metadata": {},
   "outputs": [],
   "source": [
    "train_df.shape"
   ]
  },
  {
   "cell_type": "code",
   "execution_count": null,
   "metadata": {},
   "outputs": [],
   "source": [
    "from sklearn.preprocessing import LabelEncoder\n",
    "import pandas as pd\n",
    "\n",
    "def encode_df(df):\n",
    "    le = LabelEncoder()\n",
    "    for col, col_type in df.dtypes.items():\n",
    "        if col_type == 'object' or col_type == 'datetime64[ns]':\n",
    "            df[col] = le.fit_transform(df[col])\n",
    "    return df\n",
    "\n",
    "train_df = encode_df(train_df)\n",
    "test_df = encode_df(test_df)"
   ]
  },
  {
   "cell_type": "code",
   "execution_count": null,
   "metadata": {},
   "outputs": [],
   "source": [
    "from sklearn.preprocessing import MinMaxScaler, RobustScaler, QuantileTransformer, PowerTransformer\n",
    "import numpy as np\n",
    "\n",
    "# scaler = QuantileTransformer(n_quantiles=100, random_state=0)\n",
    "scaler = QuantileTransformer(n_quantiles=100, random_state=1, output_distribution='normal')\n",
    "\n",
    "cols = [col for col in train_df.columns if col != 'loan_id' and col != 'status']\n",
    "train_df[cols] = scaler.fit_transform(train_df[cols])\n",
    "test_df[cols] = scaler.fit_transform(test_df[cols])\n",
    "\n",
    "train_df['status'] = train_df['status'].astype(int)\n",
    "test_df['status'] = test_df['status'].astype(int)\n",
    "\n",
    "train_df.head()"
   ]
  },
  {
   "cell_type": "code",
   "execution_count": null,
   "metadata": {},
   "outputs": [],
   "source": [
    "train_df.to_csv('train.csv', index=False)\n",
    "test_df.to_csv('test.csv', index=False)"
   ]
  }
 ],
 "metadata": {
  "interpreter": {
   "hash": "f345244096139f77bad5fb530e51cfcf3c24c5e0e7513cc496e3bc78d413e6ec"
  },
  "kernelspec": {
   "display_name": "Python 3.9.5 64-bit ('venv': venv)",
   "language": "python",
   "name": "python3"
  },
  "language_info": {
   "codemirror_mode": {
    "name": "ipython",
    "version": 3
   },
   "file_extension": ".py",
   "mimetype": "text/x-python",
   "name": "python",
   "nbconvert_exporter": "python",
   "pygments_lexer": "ipython3",
   "version": "3.9.9"
  },
  "orig_nbformat": 4
 },
 "nbformat": 4,
 "nbformat_minor": 2
}
