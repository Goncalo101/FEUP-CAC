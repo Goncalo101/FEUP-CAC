{
 "cells": [
  {
   "cell_type": "markdown",
   "metadata": {},
   "source": [
    "# Data Preparation\n",
    "\n",
    "Load Model from dataset folder"
   ]
  },
  {
   "cell_type": "code",
   "execution_count": null,
   "metadata": {},
   "outputs": [],
   "source": [
    "from model.model import Model\n",
    "\n",
    "model = Model()"
   ]
  },
  {
   "cell_type": "code",
   "execution_count": null,
   "metadata": {},
   "outputs": [],
   "source": [
    "# Load Dataframes\n",
    "account_df = model.get_accounts()\n",
    "# card_df = model.get_cards()\n",
    "client_df = model.get_clients()\n",
    "disp_df = model.get_disps()\n",
    "district_df = model.get_districts()\n",
    "loan_test_df = model.get_loans('test')\n",
    "loan_train_df = model.get_loans('train')\n",
    "trans_test_df = model.get_transactions('test')\n",
    "trans_train_df = model.get_transactions('train')"
   ]
  },
  {
   "cell_type": "code",
   "execution_count": null,
   "metadata": {},
   "outputs": [],
   "source": [
    "# Merge all\n",
    "def merge_all():\n",
    "    _disp_df = disp_df[disp_df['type'] == 'OWNER']\n",
    "    df = _disp_df.merge(client_df, on='client_id')\n",
    "    df = df.merge(district_df, on='district_id')\n",
    "    df['date'] = df.merge(account_df, on='account_id')['date']\n",
    "    return df\n",
    "\n",
    "def merge_train(df):\n",
    "    df = df.merge(loan_train_df, on='account_id')\n",
    "    df = df.merge(trans_train_df, on='account_id')\n",
    "    return df\n",
    "\n",
    "def merge_test(df):\n",
    "    df = df.merge(loan_test_df, on='account_id')\n",
    "    df = df.merge(trans_test_df, on='account_id')\n",
    "    return df \n",
    "\n",
    "df = merge_all()\n",
    "train_df = merge_train(df)\n",
    "test_df = merge_test(df)\n",
    "train_df.head()"
   ]
  },
  {
   "cell_type": "code",
   "execution_count": null,
   "metadata": {},
   "outputs": [],
   "source": [
    "# from sklearn.preprocessing import MinMaxScaler\n",
    "# import numpy as np\n",
    "\n",
    "# scaler = MinMaxScaler()\n",
    "# scale_cols = ['loan_amount', 'duration', 'balance',\n",
    "#        'payments', 'no. of inhabitants', 'no. of municipalities with inhabitants < 499 ',\n",
    "#        'no. of municipalities with inhabitants 500-1999',\n",
    "#        'no. of municipalities with inhabitants 2000-9999 ',\n",
    "#        'no. of municipalities with inhabitants >10000 ', 'no. of cities ',\n",
    "#        'ratio of urban inhabitants ', 'average salary ',\n",
    "#        'unemploymant rate \\'95 ', 'unemploymant rate \\'96 ',\n",
    "#        'no. of enterpreneurs per 1000 inhabitants ',\n",
    "#        'no. of commited crimes \\'95 ', 'no. of commited crimes \\'96 ']\n",
    "\n",
    "# train_df[scale_cols] = scaler.fit_transform(train_df[scale_cols])\n",
    "# test_df[scale_cols] = scaler.fit_transform(test_df[scale_cols])\n",
    "# train_df.head()\n"
   ]
  },
  {
   "cell_type": "code",
   "execution_count": null,
   "metadata": {},
   "outputs": [],
   "source": [
    "import numpy as np\n",
    "from agg import *\n",
    "\n",
    "def aggregate(df):\n",
    "    keep_cols = ['loan_id', 'account_id', 'loan_date', 'loan_amount',\n",
    "                 'duration', 'payments', 'status',\n",
    "                 'birth_number',  # 'disp_type_count', # mudar para birth_date\n",
    "                 'district_id', 'gender',  # 'client_age',\n",
    "                 'no. of inhabitants',\n",
    "                 'no. of municipalities with inhabitants < 499 ',\n",
    "                 'no. of municipalities with inhabitants 500-1999',\n",
    "                 'no. of municipalities with inhabitants 2000-9999 ',\n",
    "                 'no. of municipalities with inhabitants >10000 ',\n",
    "                 'no. of cities ', 'ratio of urban inhabitants ',\n",
    "                 'average salary ', 'unemploymant rate \\'95 ',\n",
    "                 'unemploymant rate \\'96 ',\n",
    "                 'no. of enterpreneurs per 1000 inhabitants ',\n",
    "                 'no. of commited crimes \\'95 ',\n",
    "                 'no. of commited crimes \\'96 ', 'date']\n",
    "\n",
    "    # TODO: add more aggregations\n",
    "    df = df.groupby(keep_cols, as_index=False, group_keys=False).agg({\n",
    "        'trans_date': ['max', 'min'],\n",
    "        'trans_amount': ['mean', 'min', 'max', 'std', 'last'],\n",
    "        'operation': ['count', \n",
    "                        count_credit_op, count_collection_op, count_withdrawal_op, count_remittance_op, count_ccw_op, count_interest_op,\n",
    "                        mean_credit_op, mean_collection_op, mean_withdrawal_op, mean_remittance_op, mean_ccw_op, mean_interest_op,\n",
    "                        std_credit_op, std_collection_op, std_withdrawal_op, std_remittance_op, std_ccw_op, std_interest_op],\n",
    "        'balance': ['mean', 'min', 'max', 'std', 'last'],\n",
    "        'trans_type': [count_withdrawal, count_credit, mean_withdrawal, mean_credit, std_withdrawal, std_credit]\n",
    "    })\n",
    "\n",
    "    df.columns = ['%s%s' % (a, '_%s' % b if b else '') for a, b in df.columns]\n",
    "\n",
    "    df['last_balance_l'] = df['balance_last'] / df['loan_amount']\n",
    "    df.loc[df['last_balance_l'] == np.inf, 'last_balance_l'] = 0\n",
    "\n",
    "    df['max_balance_l'] = df['balance_max'] / df['loan_amount']\n",
    "    df.loc[df['max_balance_l'] == np.inf, 'max_balance_l'] = 0\n",
    "\n",
    "    df['owner_age_at'] = (df['loan_date'] - df['birth_number']).astype('<m8[Y]')\n",
    "    df['owner_age_at'] = df['owner_age_at'].astype(int)\n",
    "\n",
    "    df['account_age'] = ((df['loan_date'] - df['date']).dt.days) / 30\n",
    "\n",
    "    return df\n",
    "\n",
    "\n",
    "train_df = aggregate(train_df)\n",
    "test_df = aggregate(test_df)\n",
    "train_df.head()\n"
   ]
  },
  {
   "cell_type": "code",
   "execution_count": null,
   "metadata": {},
   "outputs": [],
   "source": [
    "# scaler = MinMaxScaler()\n",
    "# scale_cols = [\n",
    "#        # 'operation_count','operation_count_credit_op', 'operation_count_collection_op',\n",
    "#        # 'operation_count_withdrawal_op', 'operation_count_remittance_op',\n",
    "#        # 'operation_count_ccw_op', 'operation_count_interest_op',\n",
    "#        # 'operation_mean_credit_op', 'operation_mean_collection_op',\n",
    "#        # 'operation_mean_withdrawal_op', 'operation_mean_remittance_op',\n",
    "#        # 'operation_mean_ccw_op', 'operation_mean_interest_op',\n",
    "#        'trans_type_count_withdrawal', 'trans_type_count_credit',\n",
    "#        'trans_type_mean_withdrawal', 'trans_type_mean_credit',]\n",
    "\n",
    "# train_df[scale_cols] = scaler.fit_transform(train_df[scale_cols])\n",
    "# test_df[scale_cols] = scaler.fit_transform(test_df[scale_cols])\n",
    "# train_df.head()"
   ]
  },
  {
   "cell_type": "code",
   "execution_count": null,
   "metadata": {},
   "outputs": [],
   "source": [
    "from sklearn.preprocessing import LabelEncoder\n",
    "import pandas as pd\n",
    "\n",
    "def encode_df(df):\n",
    "    le = LabelEncoder()\n",
    "    for col, col_type in df.dtypes.items():\n",
    "        if col_type == 'object' or col_type == 'datetime64[ns]':\n",
    "            df[col] = le.fit_transform(df[col])\n",
    "    return df\n",
    "\n",
    "train_df = encode_df(train_df)\n",
    "test_df = encode_df(test_df)\n"
   ]
  },
  {
   "cell_type": "code",
   "execution_count": null,
   "metadata": {},
   "outputs": [],
   "source": [
    "train_df.head()"
   ]
  },
  {
   "cell_type": "code",
   "execution_count": null,
   "metadata": {},
   "outputs": [],
   "source": [
    "from sklearn.preprocessing import MinMaxScaler\n",
    "import numpy as np\n",
    "\n",
    "scaler = MinMaxScaler()\n",
    "\n",
    "cols = [col for col in train_df.columns if col != 'loan_id']\n",
    "\n",
    "train_df[cols] = scaler.fit_transform(train_df[cols])\n",
    "test_df[cols] = scaler.fit_transform(test_df[cols])\n",
    "\n",
    "train_df['status'] = train_df['status'].astype(int)\n",
    "test_df['status'] = test_df['status'].astype(int)\n",
    "\n",
    "train_df.head()\n"
   ]
  },
  {
   "cell_type": "code",
   "execution_count": null,
   "metadata": {},
   "outputs": [],
   "source": [
    "train_df.to_csv('train.csv', index=False)\n",
    "test_df.to_csv('test.csv', index=False)"
   ]
  }
 ],
 "metadata": {
  "interpreter": {
   "hash": "f345244096139f77bad5fb530e51cfcf3c24c5e0e7513cc496e3bc78d413e6ec"
  },
  "kernelspec": {
   "display_name": "Python 3.9.5 64-bit ('venv': venv)",
   "language": "python",
   "name": "python3"
  },
  "language_info": {
   "codemirror_mode": {
    "name": "ipython",
    "version": 3
   },
   "file_extension": ".py",
   "mimetype": "text/x-python",
   "name": "python",
   "nbconvert_exporter": "python",
   "pygments_lexer": "ipython3",
   "version": "3.9.9"
  },
  "orig_nbformat": 4
 },
 "nbformat": 4,
 "nbformat_minor": 2
}
