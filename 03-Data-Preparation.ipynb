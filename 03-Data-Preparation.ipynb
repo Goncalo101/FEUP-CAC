{
 "cells": [
  {
   "cell_type": "code",
   "execution_count": 77,
   "metadata": {},
   "outputs": [],
   "source": [
    "import pandas as pd\n",
    "from sklearn.preprocessing import LabelEncoder"
   ]
  },
  {
   "cell_type": "code",
   "execution_count": 78,
   "metadata": {},
   "outputs": [],
   "source": [
    "def encode_df(df):\n",
    "    le = LabelEncoder()\n",
    "    for col, col_type in df.dtypes.items():\n",
    "        if col_type == 'object':\n",
    "            df[col] = le.fit_transform(df[col])\n",
    "    return df\n",
    "\n",
    "def open_csv(filename):\n",
    "    df = pd.read_csv('data/%s.csv' % filename, sep=';', low_memory=False)\n",
    "    return df#encode_df(df)\n",
    "\n",
    "def get_account_df():\n",
    "    return open_csv('account').rename(columns={'date': 'account_date', 'district_id': 'account_district_id'})\n",
    "\n",
    "def get_card_test_df():\n",
    "    return open_csv('card_test').rename(columns={'type': 'card_type'})\n",
    "\n",
    "def get_card_train_df():\n",
    "    return open_csv('card_train').rename(columns={'type': 'card_type'})\n",
    "\n",
    "def get_client_df():\n",
    "    return open_csv('client').rename(columns={'district_id': 'client_district_id'})\n",
    "\n",
    "def get_disp_df():\n",
    "    return open_csv('disp').drop(['disp_id'], axis=1).rename(columns={'type': 'disp_type'})\n",
    "\n",
    "def get_district_df():\n",
    "    return open_csv('district')\n",
    "\n",
    "def get_loan_test_df():\n",
    "    return open_csv('loan_test').rename(columns={'date': 'loan_date', 'amount': 'loan_amount'})\n",
    "\n",
    "def get_loan_train_df():\n",
    "    return open_csv('loan_train').rename(columns={'date': 'loan_date', 'amount': 'loan_amount'})\n",
    "\n",
    "def get_trans_test_df():\n",
    "    return open_csv('trans_test').rename(columns={'type': 'trans_type', 'date': 'trans_date', 'amount': 'trans_amount'})\n",
    "\n",
    "def get_trans_train_df():\n",
    "    return open_csv('trans_train').rename(columns={'type': 'trans_type', 'date': 'trans_date', 'amount': 'trans_amount'})\n"
   ]
  },
  {
   "cell_type": "code",
   "execution_count": 79,
   "metadata": {},
   "outputs": [
    {
     "name": "stdout",
     "output_type": "stream",
     "text": [
      "      client_id  account_id disp_type  disp_type_count\n",
      "0             1           1     OWNER                1\n",
      "1             2           2     OWNER                2\n",
      "3             4           3     OWNER                2\n",
      "5             6           4     OWNER                1\n",
      "6             7           5     OWNER                1\n",
      "...         ...         ...       ...              ...\n",
      "5363      13931       11333     OWNER                1\n",
      "5364      13955       11349     OWNER                2\n",
      "5366      13968       11359     OWNER                1\n",
      "5367      13971       11362     OWNER                1\n",
      "5368      13998       11382     OWNER                1\n",
      "\n",
      "[4500 rows x 4 columns]\n"
     ]
    }
   ],
   "source": [
    "def merge_all(op='test'):\n",
    "    account_df = get_account_df()\n",
    "    card_df = get_card_test_df() if op == 'test' else get_card_train_df()\n",
    "    client_df = get_client_df()\n",
    "    disp_df = get_disp_df()\n",
    "    district_df = get_district_df()\n",
    "    loan_df = get_loan_test_df() if op == 'test' else get_loan_train_df()\n",
    "    trans_df = get_trans_test_df() if op == 'test' else get_trans_train_df()\n",
    "\n",
    "    ownership_df = disp_df.groupby(\"account_id\", as_index=False, group_keys=False).agg({\"disp_type\": [\"count\"]})\n",
    "    ownership_df.columns = ['%s%s' % (a, '_%s' % b if b else '') for a, b in ownership_df.columns]\n",
    "    disp_df = pd.merge(disp_df, ownership_df, on='account_id')\n",
    "    disp_df = disp_df[disp_df.disp_type == 'OWNER'].drop(['disp_type'], axis=1)\n",
    "    print(disp_df)\n",
    "\n",
    "\n",
    "merge_all('test')"
   ]
  }
 ],
 "metadata": {
  "interpreter": {
   "hash": "ccac6d9a92f383eb86d45b37e3f83e6bc7eca50e6cfd6746fe908605ae3725c3"
  },
  "kernelspec": {
   "display_name": "Python 3.9.7 64-bit ('venv': venv)",
   "language": "python",
   "name": "python3"
  },
  "language_info": {
   "codemirror_mode": {
    "name": "ipython",
    "version": 3
   },
   "file_extension": ".py",
   "mimetype": "text/x-python",
   "name": "python",
   "nbconvert_exporter": "python",
   "pygments_lexer": "ipython3",
   "version": "3.9.7"
  },
  "orig_nbformat": 4
 },
 "nbformat": 4,
 "nbformat_minor": 2
}
